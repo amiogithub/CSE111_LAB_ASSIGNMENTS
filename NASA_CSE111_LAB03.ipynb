{
  "nbformat": 4,
  "nbformat_minor": 0,
  "metadata": {
    "colab": {
      "provenance": []
    },
    "kernelspec": {
      "name": "python3",
      "display_name": "Python 3"
    },
    "language_info": {
      "name": "python"
    }
  },
  "cells": [
    {
      "cell_type": "code",
      "source": [
        "#TasK: 01\n",
        "class DataType():\n",
        "  def __init__(self,name,value):\n",
        "    self.name=name\n",
        "    self.value=value    \n",
        "\n",
        "data_type1 = DataType('Integer', 1234)\n",
        "print(data_type1.name)\n",
        "print(data_type1.value)\n",
        "print('=====================')\n",
        "data_type2 = DataType('String', 'Hello')\n",
        "print(data_type2.name)\n",
        "print(data_type2.value)\n",
        "print('=====================')\n",
        "data_type3 = DataType('Float', 4.0)\n",
        "print(data_type3.name)\n",
        "print(data_type3.value)\n"
      ],
      "metadata": {
        "id": "qaKSTqAbUOIV",
        "colab": {
          "base_uri": "https://localhost:8080/"
        },
        "outputId": "7f6cfaaf-9b77-4190-8489-d3b82c1a4702"
      },
      "execution_count": null,
      "outputs": [
        {
          "output_type": "stream",
          "name": "stdout",
          "text": [
            "Integer\n",
            "1234\n",
            "=====================\n",
            "String\n",
            "Hello\n",
            "=====================\n",
            "Float\n",
            "4.0\n"
          ]
        }
      ]
    },
    {
      "cell_type": "code",
      "source": [
        "#Task:02\n",
        "class Joker():\n",
        "  def __init__(self,name,power,is_he_psycho):\n",
        "    self.name=name\n",
        "    self.power=power\n",
        "    self.is_he_psycho=is_he_psycho\n",
        "\n",
        "j1 = Joker('Heath Ledger', 'Mind Game', False)\n",
        "print(j1.name)\n",
        "print(j1.power)\n",
        "print(j1.is_he_psycho)\n",
        "print('=====================')\n",
        "j2 = Joker('Joaquin Phoenix', 'Laughing out Loud', True)\n",
        "print(j2.name)\n",
        "print(j2.power)\n",
        "print(j2.is_he_psycho)\n",
        "print('=====================')\n",
        "if j1 == j2:\n",
        "    print('same')\n",
        "else: \n",
        "    print('different')\n",
        "j2.name = 'Heath Ledger'\n",
        "if j1.name == j2.name:\n",
        "    print('same')\n",
        "else:\n",
        "    print('different')\n"
      ],
      "metadata": {
        "colab": {
          "base_uri": "https://localhost:8080/"
        },
        "id": "giVyEiTYBgqb",
        "outputId": "2d7e0120-38fc-48a0-dc00-fe80b143e9d5"
      },
      "execution_count": null,
      "outputs": [
        {
          "output_type": "stream",
          "name": "stdout",
          "text": [
            "Heath Ledger\n",
            "Mind Game\n",
            "False\n",
            "=====================\n",
            "Joaquin Phoenix\n",
            "Laughing out Loud\n",
            "True\n",
            "=====================\n",
            "different\n",
            "same\n"
          ]
        }
      ]
    },
    {
      "cell_type": "code",
      "source": [
        "#Task:03\n",
        "class Pokemon():\n",
        "  def __init__(self,name1,name2,power1,power2,damage):\n",
        "    self.pokemon1_name=name1\n",
        "    self.pokemon2_name=name2\n",
        "    self.pokemon1_power=power1\n",
        "    self.pokemon2_power=power2\n",
        "    self.damage_rate=damage\n",
        "\n",
        "\n",
        "team_pika = Pokemon('pikachu', 'charmander', 90, 60, 10)\n",
        "print('=======Team 1=======')\n",
        "print('Pokemon 1:',team_pika.pokemon1_name, team_pika.pokemon1_power)\n",
        "print('Pokemon 2:',team_pika.pokemon2_name, team_pika.pokemon2_power)\n",
        "pika_combined_power = (team_pika.pokemon1_power + team_pika.pokemon2_power) * team_pika.damage_rate\n",
        "print('Combined Power:', pika_combined_power)\n",
        "team_bulb = Pokemon('bulbasaur', 'squirtle', 80, 70, 9)\n",
        "print('=======Team 2=======')\n",
        "print('Pokemon 1:',team_bulb.pokemon1_name, team_bulb.pokemon1_power)\n",
        "print('Pokemon 2:',team_bulb.pokemon2_name, team_bulb.pokemon2_power)\n",
        "bulb_combined_power = (team_bulb.pokemon1_power + team_bulb.pokemon2_power) * team_bulb.damage_rate\n",
        "print('Combined Power:', bulb_combined_power)"
      ],
      "metadata": {
        "colab": {
          "base_uri": "https://localhost:8080/"
        },
        "id": "UpdTN1OiDYWS",
        "outputId": "0f530c00-e116-412d-ea5e-fd956b09afc4"
      },
      "execution_count": null,
      "outputs": [
        {
          "output_type": "stream",
          "name": "stdout",
          "text": [
            "=======Team 1=======\n",
            "Pokemon 1: pikachu 90\n",
            "Pokemon 2: charmander 60\n",
            "Combined Power: 1500\n",
            "=======Team 2=======\n",
            "Pokemon 1: bulbasaur 80\n",
            "Pokemon 2: squirtle 70\n",
            "Combined Power: 1350\n"
          ]
        }
      ]
    },
    {
      "cell_type": "code",
      "source": [
        "#Task: 04\n",
        "class Country():\n",
        "  def __init__(self,name='Bangladesh',continent='Asia',capital='Dhaka',rank=187):\n",
        "    self.name=name\n",
        "    self.continent=continent\n",
        "    self.capital=capital\n",
        "    self.fifa_ranking=rank\n",
        "\n",
        "country = Country()\n",
        "print('Name:',country.name)\n",
        "print('Continent:',country.continent)\n",
        "print('Capital:',country.capital)\n",
        "print('Fifa Ranking:',country.fifa_ranking)\n",
        "print('===================')\n",
        "country.name = 'Belgium'\n",
        "country.continent = 'Europe'\n",
        "country.capital = 'Brussels'\n",
        "country.fifa_ranking = 1\n",
        "print('Name:',country.name)\n",
        "print('Continent:',country.continent)\n",
        "print('Capital:',country.capital)\n",
        "print('Fifa Ranking:',country.fifa_ranking)\n"
      ],
      "metadata": {
        "colab": {
          "base_uri": "https://localhost:8080/"
        },
        "id": "uznFORuaEK3u",
        "outputId": "11f3340a-0e77-444d-b149-0cd82cd45263"
      },
      "execution_count": null,
      "outputs": [
        {
          "output_type": "stream",
          "name": "stdout",
          "text": [
            "Name: Bangladesh\n",
            "Continent: Asia\n",
            "Capital: Dhaka\n",
            "Fifa Ranking: 187\n",
            "===================\n",
            "Name: Belgium\n",
            "Continent: Europe\n",
            "Capital: Brussels\n",
            "Fifa Ranking: 1\n"
          ]
        }
      ]
    },
    {
      "cell_type": "code",
      "source": [
        "#Task:05\n",
        "\n",
        "class DemonSlayer():\n",
        "  def __init__(self,name,style,number,kill):\n",
        "    self.name=name\n",
        "    self.style=style\n",
        "    self.number_of_technique=number\n",
        "    self.kill=kill\n",
        "\n",
        "\n",
        "\n",
        "tanjiro = DemonSlayer(\"Tanjiro\", \"Water Breathing\", 10, 10)\n",
        "print('Name:',tanjiro.name)\n",
        "print('Fighting Style:',tanjiro.style)\n",
        "print(f'Knows {tanjiro.number_of_technique} technique(s) and has killed {tanjiro.kill} demon(s)')\n",
        "print('===================')\n",
        "zenitsu = DemonSlayer(\"Zenitsu\", \"Thunder Breathing\", 1, 4)\n",
        "print('Name:',zenitsu.name)\n",
        "print('Fighting Style:',zenitsu.style)\n",
        "print(f'Knows {zenitsu.number_of_technique} technique(s) and has killed {zenitsu.kill} demon(s)')\n",
        "print('===================')\n",
        "inosuke = DemonSlayer(\"Inosuke\", \"Beast Breathing\", 5, 7)\n",
        "print('Name:',inosuke.name)\n",
        "print('Fighting Style:',inosuke.style)\n",
        "print(f'Knows {inosuke.number_of_technique} technique(s) and has killed {inosuke.kill} demon(s)')\n",
        "print('===================')\n",
        "print(f'{tanjiro.name}, {zenitsu.name}, {inosuke.name} knows total {tanjiro.number_of_technique + zenitsu.number_of_technique + inosuke.number_of_technique} techniques')\n",
        "print(f'They have killed total {tanjiro.kill + zenitsu.kill + inosuke.kill} demons')\n"
      ],
      "metadata": {
        "colab": {
          "base_uri": "https://localhost:8080/"
        },
        "id": "PR_4IoQ1Jwvk",
        "outputId": "584e83b1-af46-4663-c734-878d1f7bc3d0"
      },
      "execution_count": null,
      "outputs": [
        {
          "output_type": "stream",
          "name": "stdout",
          "text": [
            "Name: Tanjiro\n",
            "Fighting Style: Water Breathing\n",
            "Knows 10 technique(s) and has killed 10 demon(s)\n",
            "===================\n",
            "Name: Zenitsu\n",
            "Fighting Style: Thunder Breathing\n",
            "Knows 1 technique(s) and has killed 4 demon(s)\n",
            "===================\n",
            "Name: Inosuke\n",
            "Fighting Style: Beast Breathing\n",
            "Knows 5 technique(s) and has killed 7 demon(s)\n",
            "===================\n",
            "Tanjiro, Zenitsu, Inosuke knows total 16 techniques\n",
            "They have killed total 21 demons\n"
          ]
        }
      ]
    },
    {
      "cell_type": "code",
      "source": [
        "#Task:06\n",
        "class box():\n",
        "  def __init__(self,values):\n",
        "    height,width,breadth=values\n",
        "    self.height=height\n",
        "    self.width=width\n",
        "    self.breadth=breadth\n",
        "    print('Creating a Box!')\n",
        "    self.volume=height*width*breadth\n",
        "    print(f'Volume of the box is {self.volume} cubic units')\n",
        " \n",
        "\n",
        "print(\"Box 1\")\n",
        "\n",
        "\n",
        "b1 = box([10,10,10])\n",
        "print(\"=========================\")\n",
        "print(\"Height:\", b1.height)\n",
        "print(\"Width:\", b1.width)\n",
        "print(\"Breadth:\", b1.breadth)\n",
        "print(\"-------------------------\")\n",
        "\n",
        "print(\"Box 2\")\n",
        "\n",
        "b2 = box((30,10,10))\n",
        "print(\"=========================\")\n",
        "print(\"Height:\", b2.height)\n",
        "print(\"Width:\", b2.width)\n",
        "print(\"Breadth:\", b2.breadth)\n",
        "b2.height = 300\n",
        "print(\"Updating Box 2!\")\n",
        "print(\"Height:\", b2.height)\n",
        "print(\"Width:\", b2.width)\n",
        "print(\"Breadth:\", b2.breadth)\n",
        "print(\"-------------------------\")\n",
        "print(\"Box 3\")  \n",
        "\n",
        "b3 = b2\n",
        "print(\"Height:\", b3.height)\n",
        "print(\"Width:\", b3.width)\n",
        "print(\"Breadth:\", b3.breadth)\n"
      ],
      "metadata": {
        "colab": {
          "base_uri": "https://localhost:8080/"
        },
        "id": "TpGQZVzrKxOO",
        "outputId": "91dd07bb-08c3-455a-cc74-fa7847330480"
      },
      "execution_count": null,
      "outputs": [
        {
          "output_type": "stream",
          "name": "stdout",
          "text": [
            "Box 1\n",
            "Creating a Box!\n",
            "Volume of the box is 1000 cubic units\n",
            "=========================\n",
            "Height: 10\n",
            "Width: 10\n",
            "Breadth: 10\n",
            "-------------------------\n",
            "Box 2\n",
            "Creating a Box!\n",
            "Volume of the box is 3000 cubic units\n",
            "=========================\n",
            "Height: 30\n",
            "Width: 10\n",
            "Breadth: 10\n",
            "Updating Box 2!\n",
            "Height: 300\n",
            "Width: 10\n",
            "Breadth: 10\n",
            "-------------------------\n",
            "Box 3\n",
            "Height: 300\n",
            "Width: 10\n",
            "Breadth: 10\n"
          ]
        }
      ]
    },
    {
      "cell_type": "code",
      "source": [
        "#Task: 07\n",
        "\n",
        "class buttons():\n",
        "  def __init__(self,word,spaces,border):\n",
        "    self.word=word\n",
        "    self.spaces=spaces\n",
        "    self.border=border\n",
        "    self.num=1+spaces+len(word)+spaces+1\n",
        "    print(f'{word} Button Specifications:\\n'\n",
        "          f'Button name:{word}\\n'\n",
        "          f'Number of the border characters for the top and the bottom name:{self.num}\\n'\n",
        "          f'Number of spaces between the left side border and the first character of the button name: {spaces}\\n'\n",
        "          f'Number of spaces between the right side border and the last character of the button name: {spaces}\\n'\n",
        "          f'Characters representing the borders:{border}')\n",
        "    \n",
        "    print('\\n'\n",
        "    f'{border*self.num}\\n'\n",
        "    f'{border}{spaces*\" \"}{word}{spaces*\" \"}{border}\\n'\n",
        "    f'{border*self.num}\\n')\n",
        "\n",
        "word = \"CANCEL\"  \n",
        "spaces = 10\n",
        "border = 'x'\n",
        "b1 = buttons(word,spaces,border)\n",
        "print(\"=======================================================\")\n",
        "b2 = buttons(\"Notify\",3, '!')\n",
        "print(\"=======================================================\")\n",
        "b3 = buttons('SAVE PROGRESS', 5, '$')\n"
      ],
      "metadata": {
        "colab": {
          "base_uri": "https://localhost:8080/"
        },
        "id": "YMsXqqeeLbd2",
        "outputId": "60668de7-53db-4b16-b8c4-98cf38b1c9d6"
      },
      "execution_count": null,
      "outputs": [
        {
          "output_type": "stream",
          "name": "stdout",
          "text": [
            "CANCEL Button Specifications:\n",
            "Button name:CANCEL\n",
            "Number of the border characters for the top and the bottom name:28\n",
            "Number of spaces between the left side border and the first character of the button name: 10\n",
            "Number of spaces between the right side border and the last character of the button name: 10\n",
            "Characters representing the borders:x\n",
            "\n",
            "xxxxxxxxxxxxxxxxxxxxxxxxxxxx\n",
            "x          CANCEL          x\n",
            "xxxxxxxxxxxxxxxxxxxxxxxxxxxx\n",
            "\n",
            "=======================================================\n",
            "Notify Button Specifications:\n",
            "Button name:Notify\n",
            "Number of the border characters for the top and the bottom name:14\n",
            "Number of spaces between the left side border and the first character of the button name: 3\n",
            "Number of spaces between the right side border and the last character of the button name: 3\n",
            "Characters representing the borders:!\n",
            "\n",
            "!!!!!!!!!!!!!!\n",
            "!   Notify   !\n",
            "!!!!!!!!!!!!!!\n",
            "\n",
            "=======================================================\n",
            "SAVE PROGRESS Button Specifications:\n",
            "Button name:SAVE PROGRESS\n",
            "Number of the border characters for the top and the bottom name:25\n",
            "Number of spaces between the left side border and the first character of the button name: 5\n",
            "Number of spaces between the right side border and the last character of the button name: 5\n",
            "Characters representing the borders:$\n",
            "\n",
            "$$$$$$$$$$$$$$$$$$$$$$$$$\n",
            "$     SAVE PROGRESS     $\n",
            "$$$$$$$$$$$$$$$$$$$$$$$$$\n",
            "\n"
          ]
        }
      ]
    },
    {
      "cell_type": "code",
      "source": [
        "#Task:08\n",
        "\n",
        "class Calculator():\n",
        "  def __init__(self):\n",
        "    print(\"Let's Calculate!\")\n",
        "    num1=int(input())\n",
        "    op=input()\n",
        "    num2=int(input())\n",
        "\n",
        "    self.num1=num1\n",
        "    self.op=op\n",
        "    self.num2=num2\n",
        "\n",
        "  def add(self):  #reason ???\n",
        "     total=self.num1 + self.num2\n",
        "     return total \n",
        "\n",
        "  def substract(self):\n",
        "\n",
        "     total=self.num1 - self.num2\n",
        "     return total \n",
        "\n",
        "  def multiply(self):\n",
        "\n",
        "     total=self.num1 - self.num2\n",
        "     return total \n",
        "\n",
        "  def divide(self):\n",
        "\n",
        "     total=self.num1/self.num2\n",
        "     return total \n",
        "\n",
        "\n",
        "obj1=Calculator()\n",
        "if obj1.op==\"+\":\n",
        "  value=obj1.add()\n",
        "elif obj1.op=='-':\n",
        "  value=obj1.substract()\n",
        "elif obj1.op=='*':\n",
        "  value=obj1.multiply()\n",
        "elif obj1.op=='/':\n",
        "  value=obj1.divide()\n",
        "print(f'Value 1: {obj1.num1}\\n'\n",
        "      f'Operator: {obj1.op}\\n'\n",
        "      f'Value 2: {obj1.num2}\\n'\n",
        "      f'Result: {value}')  \n"
      ],
      "metadata": {
        "colab": {
          "base_uri": "https://localhost:8080/"
        },
        "id": "g02eJ6gvTCBK",
        "outputId": "c10a98b2-a303-4b1c-f7df-bb359aea7452"
      },
      "execution_count": null,
      "outputs": [
        {
          "output_type": "stream",
          "name": "stdout",
          "text": [
            "Let's Calculate!\n",
            "4\n",
            "+\n",
            "9\n",
            "Value 1: 4\n",
            "Operator: +\n",
            "Value 2: 9\n",
            "Result: 13\n"
          ]
        }
      ]
    },
    {
      "cell_type": "code",
      "source": [
        "#Task:09\n",
        "class Patient():\n",
        "  def __init__(self,name,age,weight,height):\n",
        "    self.name=name\n",
        "    self.age=age\n",
        "    self.weight=weight\n",
        "    self.height=height\n",
        "    self.bmi=(weight/(height/100)**2)\n",
        "\n",
        "  def printDetails(self):\n",
        "    print(f'Name: {self.name}\\n'\n",
        "    f'Age: {self.age}\\n'\n",
        "    f'Weight: {self.weight}\\n'\n",
        "    f'Height: {self.height}\\n'\n",
        "    f'BMI: {self.bmi}')\n",
        "\n",
        "p1 = Patient(\"A\", 55, 63.0, 158.0)\n",
        "p1.printDetails()\n",
        "print(\"====================\")\n",
        "p2 = Patient(\"B\", 53, 61.0, 149.0)\n",
        "p2.printDetails()\n"
      ],
      "metadata": {
        "colab": {
          "base_uri": "https://localhost:8080/"
        },
        "id": "bDCYjoYARa67",
        "outputId": "02107412-f4ba-4938-c3c4-83c7fb2864cb"
      },
      "execution_count": null,
      "outputs": [
        {
          "output_type": "stream",
          "name": "stdout",
          "text": [
            "Name: A\n",
            "Age: 55\n",
            "Weight: 63.0\n",
            "Height: 158.0\n",
            "BMI: 25.236340330075304\n",
            "====================\n",
            "Name: B\n",
            "Age: 53\n",
            "Weight: 61.0\n",
            "Height: 149.0\n",
            "BMI: 27.476239809017613\n"
          ]
        }
      ]
    },
    {
      "cell_type": "code",
      "source": [
        "#Task:10\n",
        "class Vehicle():\n",
        "  def __init__(self):\n",
        "    self.x=0\n",
        "    self.y=0\n",
        "  def print_position(self):\n",
        "    print(f'({self.x},{self.y})')\n",
        "\n",
        "  def moveUp(self):\n",
        "    self.y+=1\n",
        "  def moveLeft(self):\n",
        "    self.x-=1\n",
        "  def moveDown(self):\n",
        "    self.y-=1\n",
        "  def moveRight(self):\n",
        "    self.x+=1  \n",
        "\n",
        "car = Vehicle()\n",
        "car.print_position()\n",
        "car.moveUp()\n",
        "car.print_position()\n",
        "car.moveLeft()\n",
        "car.print_position()\n",
        "car.moveDown()\n",
        "car.print_position()\n",
        "car.moveRight()\n"
      ],
      "metadata": {
        "id": "xF-egIIxIpel",
        "colab": {
          "base_uri": "https://localhost:8080/"
        },
        "outputId": "1077bb99-15e3-42a5-d74b-50b22c7704c2"
      },
      "execution_count": null,
      "outputs": [
        {
          "output_type": "stream",
          "name": "stdout",
          "text": [
            "(0,0)\n",
            "(0,1)\n",
            "(-1,1)\n",
            "(-1,0)\n"
          ]
        }
      ]
    },
    {
      "cell_type": "code",
      "source": [
        "#Task:11\n",
        "\n",
        "class Shape():\n",
        "  def __init__(self,name,side1,side2):\n",
        "    self.name=name\n",
        "    self.side1=side1\n",
        "    self.side2=side2\n",
        "\n",
        "  def area(self):\n",
        "\n",
        "    if (self.name == 'Square') or (self.name == 'Rectangle'):\n",
        "      self.area1 = self.side1 * self.side2\n",
        "\n",
        "    elif self.name == 'Triangle':\n",
        "      self.area1 = (1/2)*self.side1*self.side2\n",
        "\n",
        "    elif self.name == 'Rhombus':\n",
        "      self.area1 = (self.side1 * self.side2)/2\n",
        "\n",
        "    else:\n",
        "      self.area1 = 'Shape unknown'\n",
        "\n",
        "    print(f'Area: {self.area1}')\n",
        "\n",
        "triangle = Shape(\"Triangle\",10,25)\n",
        "triangle.area()\n",
        "print(\"==========================\")\n",
        "square = Shape(\"Square\",10,10)\n",
        "square.area()\n",
        "print(\"==========================\")\n",
        "rhombus = Shape(\"Rhombus\",18,25)\n",
        "rhombus.area()\n",
        "print(\"==========================\")\n",
        "rectangle = Shape(\"Rectangle\",15,30)\n",
        "rectangle.area()\n",
        "print(\"==========================\")\n",
        "trapezium = Shape(\"Trapezium\",15,30)\n",
        "trapezium.area()"
      ],
      "metadata": {
        "colab": {
          "base_uri": "https://localhost:8080/"
        },
        "id": "Rr_vqHeOF0AP",
        "outputId": "b59d1b41-3e28-452b-b03a-593e7d491c83"
      },
      "execution_count": null,
      "outputs": [
        {
          "output_type": "stream",
          "name": "stdout",
          "text": [
            "Area: 125.0\n",
            "==========================\n",
            "Area: 100\n",
            "==========================\n",
            "Area: 225.0\n",
            "==========================\n",
            "Area: 450\n",
            "==========================\n",
            "Area: Shape unknown\n"
          ]
        }
      ]
    },
    {
      "cell_type": "code",
      "source": [
        "#Task: 12\n",
        "class Calculator():\n",
        "  def __init__(self):\n",
        "\n",
        "    print('Calculator is ready!')\n",
        "\n",
        "  def calculate(self,num1,num2,op):\n",
        "      self.num1=num1\n",
        "      self.num2=num2\n",
        "      self.op=op    \n",
        "\n",
        "      if self.op=='+':\n",
        "        self.result=self.num1+self.num2\n",
        "      \n",
        "      elif self.op=='-':\n",
        "        self.result=self.num1-self.num2\n",
        "      elif self.op=='*':\n",
        "        self.result=self.num1*self.num2\n",
        "      elif self.op=='/':\n",
        "        self.result=self.num1/self.num2\n",
        "      return self.result\n",
        "\n",
        "  def showCalculation(self):\n",
        "    print(f'{self.num1} {self.op} {self.num2} = {self.result}')\n",
        "c1 = Calculator()\n",
        "print(\"==================\")\n",
        "val = c1.calculate(10, 20, '+')\n",
        "print(\"Returned value:\", val)\n",
        "c1.showCalculation()\n",
        "print(\"==================\")\n",
        "val = c1.calculate(val, 10, '-')\n",
        "print(\"Returned value:\", val)\n",
        "c1.showCalculation()\n",
        "print(\"==================\")\n",
        "val = c1.calculate(val, 5, '*')\n",
        "print(\"Returned value:\", val)\n",
        "c1.showCalculation()\n",
        "print(\"==================\")\n",
        "val = c1.calculate(val, 16, '/')\n",
        "print(\"Returned value:\", val)\n",
        "c1.showCalculation()\n"
      ],
      "metadata": {
        "colab": {
          "base_uri": "https://localhost:8080/"
        },
        "id": "JtfeC6rSDLP5",
        "outputId": "ea2b1083-3b93-4dd0-a866-72a7820543eb"
      },
      "execution_count": null,
      "outputs": [
        {
          "output_type": "stream",
          "name": "stdout",
          "text": [
            "Calculator is ready!\n",
            "==================\n",
            "Returned value: 30\n",
            "10 + 20 = 30\n",
            "==================\n",
            "Returned value: 20\n",
            "30 - 10 = 20\n",
            "==================\n",
            "Returned value: 100\n",
            "20 * 5 = 100\n",
            "==================\n",
            "Returned value: 6.25\n",
            "100 / 16 = 6.25\n"
          ]
        }
      ]
    },
    {
      "cell_type": "code",
      "source": [
        "#Task: 13(Method: 01)\n",
        "\n",
        "class Programmer():\n",
        "  def __init__(self,name,language,exp):\n",
        "    self.name=name\n",
        "    self.language=language\n",
        "    self.exp=exp\n",
        "    print(f'Hurray! A new programmer is born')\n",
        "\n",
        "  def printDetails(self):\n",
        "     print(f'Name: {self.name}\\n'\n",
        "     f'Language: {self.language}\\n'\n",
        "\n",
        "     f'Experience: {self.exp} years.')  \n",
        "\n",
        "  def addExp(self,exp1):\n",
        "     self.exp+=exp1\n",
        "\n",
        "     print(f'Updating experience of {self.name}')        \n",
        "\n",
        "p1 = Programmer(\"Ethen Hunt\", \"Java\", 10)\n",
        "p1.printDetails()\n",
        "print('--------------------------')\n",
        "p2 = Programmer(\"James Bond\", \"C++\", 7)\n",
        "p2.printDetails()\n",
        "print('--------------------------')\n",
        "p3 = Programmer(\"Jon Snow\", \"Python\", 4)\n",
        "p3.printDetails()\n",
        "p3.addExp(5)\n",
        "p3.printDetails()    \n"
      ],
      "metadata": {
        "colab": {
          "base_uri": "https://localhost:8080/"
        },
        "id": "nnb_jiiO4XG7",
        "outputId": "6c699bf6-3f98-493e-b86e-8b4515426ba6"
      },
      "execution_count": null,
      "outputs": [
        {
          "output_type": "stream",
          "name": "stdout",
          "text": [
            "Hurray! A new programmer is born\n",
            "Name: Ethen Hunt\n",
            "Language: Java\n",
            "Experience: 10 years.\n",
            "--------------------------\n",
            "Hurray! A new programmer is born\n",
            "Name: James Bond\n",
            "Language: C++\n",
            "Experience: 7 years.\n",
            "--------------------------\n",
            "Hurray! A new programmer is born\n",
            "Name: Jon Snow\n",
            "Language: Python\n",
            "Experience: 4 years.\n",
            "Updating experience of Jon Snow\n",
            "Name: Jon Snow\n",
            "Language: Python\n",
            "Experience: 9 years.\n"
          ]
        }
      ]
    },
    {
      "cell_type": "code",
      "source": [
        "#Task: 13(Method: 02)\n",
        "\n",
        "class Programmer:\n",
        "   def __init__(self,name,lang,exp):\n",
        "    self.name = name\n",
        "    self.language = lang\n",
        "    self.exp=exp\n",
        "    self.ls=[]\n",
        "    self.ls.append(self.name)\n",
        "   def printDetails(self):\n",
        "    if self.name not in self.ls:\n",
        "      print(f'Horray! A new programmer is born')\n",
        "    else:\n",
        "      self.ls.append(self.name)\n",
        "    print(f'Name: {self.name}\\n'\n",
        "          f'Language: {self.language}\\n'\n",
        "          f'Experience: {self.exp}')\n",
        "   def addExp(self,val):\n",
        "    print(f'Updating experience of {self.name}')\n",
        "    self.exp+=val\n",
        "p1 = Programmer(\"Ethen Hunt\", \"Java\", 10)\n",
        "p1.printDetails()\n",
        "print('--------------------------')\n",
        "p2 = Programmer(\"James Bond\", \"C++\", 7)\n",
        "p2.printDetails()\n",
        "print('--------------------------')\n",
        "p3 = Programmer(\"Jon Snow\", \"Python\", 4)\n",
        "p3.printDetails()\n",
        "p3.addExp(5)\n",
        "p3.printDetails()"
      ],
      "metadata": {
        "id": "lsiobySs9eyq"
      },
      "execution_count": null,
      "outputs": []
    },
    {
      "cell_type": "code",
      "source": [
        "#Task:16\n",
        "class Test3:\n",
        "    def __init__(self):\n",
        "        self.sum, self.y = 0, 0\n",
        "    def methodA(self):\n",
        "        x, y = 2, 3\n",
        "        msg = [0]\n",
        "        msg[0] = 3\n",
        "        y = self.y + msg[0]\n",
        "        self.methodB(msg, msg[0])\n",
        "        x = self.y + msg[0]\n",
        "        self.sum = x + y + msg[0]\n",
        "        print(x, y, self.sum)\n",
        "    def methodB(self, mg2, mg1):\n",
        "        x = 0\n",
        "        self.y = self.y + mg2[0]\n",
        "        x = x + 33 + mg1\n",
        "        self.sum = self.sum + x + self.y\n",
        "        mg2[0] = self.y + mg1\n",
        "        mg1 = mg1 + x + 2\n",
        "        print(x, self.y, self.sum)\n",
        "        \n",
        "t3 = Test3()\n",
        "t3.methodA()\n",
        "t3.methodA()\n",
        "t3.methodA()\n",
        "t3.methodA()\n"
      ],
      "metadata": {
        "colab": {
          "base_uri": "https://localhost:8080/"
        },
        "id": "a6wAWLdgZGDo",
        "outputId": "8cccd917-6e68-46cb-b626-51216c53c62b"
      },
      "execution_count": null,
      "outputs": [
        {
          "output_type": "stream",
          "name": "stdout",
          "text": [
            "36 3 39\n",
            "9 3 18\n",
            "36 6 60\n",
            "15 6 30\n",
            "36 9 75\n",
            "21 9 42\n",
            "36 12 90\n",
            "27 12 54\n"
          ]
        }
      ]
    },
    {
      "cell_type": "code",
      "source": [
        "#Task: 14\n",
        "class Test:\n",
        "    def __init__(self):\n",
        "        self.sum = 0\n",
        "        self.y = 0\n",
        "\n",
        "    def methodA(self):\n",
        "        x=0\n",
        "        y=0\n",
        "        y = y + 7\n",
        "        x = y + 11\n",
        "        self.sum = x + y\n",
        "        print(x , y, self.sum)\n",
        "\n",
        "    def methodB(self):\n",
        "        x = 0\n",
        "        self.y = self.y + 11\n",
        "        x = x + 33 + self.y\n",
        "        self.sum = self.sum + x + self.y\n",
        "        print(x , self.y, self.sum)\n",
        "\n",
        "t1 = Test()\n",
        "t1.methodA()\n",
        "t1.methodA()\n",
        "t1.methodB()\n",
        "t1.methodB()\n"
      ],
      "metadata": {
        "colab": {
          "base_uri": "https://localhost:8080/"
        },
        "id": "C74zrGPV8whb",
        "outputId": "8138d705-2d1b-43a0-86bc-1beda0fa93ac"
      },
      "execution_count": null,
      "outputs": [
        {
          "output_type": "stream",
          "name": "stdout",
          "text": [
            "18 7 25\n",
            "18 7 25\n",
            "44 11 80\n",
            "55 22 157\n"
          ]
        }
      ]
    },
    {
      "cell_type": "code",
      "source": [
        "#Task: 15\n",
        "class Scope:\n",
        "    def __init__(self):\n",
        "        self.x, self.y = 1, 100        \n",
        "    def met1(self):\n",
        "        x = 3\n",
        "        x = self.x + 1\n",
        "        self.y = self.y + self.x + 1\n",
        "        x = self.y + self.met2() + self.y\n",
        "        \n",
        "        print(x, self.y)         \n",
        "    def met2(self):\n",
        "        y = 0\n",
        "        print(self.x, y)\n",
        "        self.x = self.x + y\n",
        "        self.y = self.y + 200\n",
        "        return self.x + y\n",
        "q2 = Scope()\n",
        "q2.met1()\n",
        "q2.met2()\n",
        "q2.met1()\n",
        "q2.met2()\n"
      ],
      "metadata": {
        "colab": {
          "base_uri": "https://localhost:8080/"
        },
        "id": "0-_iWexN86di",
        "outputId": "8794cced-4935-4205-c10c-89d1a77f7688"
      },
      "execution_count": null,
      "outputs": [
        {
          "output_type": "stream",
          "name": "stdout",
          "text": [
            "1 0\n",
            "405 302\n",
            "1 0\n",
            "1 0\n",
            "1209 704\n",
            "1 0\n"
          ]
        },
        {
          "output_type": "execute_result",
          "data": {
            "text/plain": [
              "1"
            ]
          },
          "metadata": {},
          "execution_count": 4
        }
      ]
    },
    {
      "cell_type": "code",
      "source": [
        "class Test5:\n",
        "    def __init__(self):\n",
        "        self.sum, self.y = 0, 0\n",
        "    def methodA(self):    \n",
        "        x = 0\n",
        "        z = 0\n",
        "        while (z < 5):\n",
        "            self.y = self.y + self.sum\n",
        "            x = self.y + 1\n",
        "            print(x, self.y, self.sum)\n",
        "            self.sum = self.sum + self.methodB(x, self.y)\n",
        "            z += 1\n",
        "            \n",
        "    def methodB(self, m, n):\n",
        "        x = 0\n",
        "        sum = 0\n",
        "        self.y = self.y + m\n",
        "        x = n - 4\n",
        "        sum = sum + self.y\n",
        "        print(x, self.y, sum)\n",
        "        return self.sum\n",
        "t5 = Test5()\n",
        "t5.methodA()\n"
      ],
      "metadata": {
        "id": "1G1TIjNQ9B61",
        "colab": {
          "base_uri": "https://localhost:8080/"
        },
        "outputId": "7fef5558-61fc-4251-ec93-1c851f1dec44"
      },
      "execution_count": null,
      "outputs": [
        {
          "output_type": "stream",
          "name": "stdout",
          "text": [
            "1 0 0\n",
            "-4 1 1\n",
            "2 1 0\n",
            "-3 3 3\n",
            "4 3 0\n",
            "-1 7 7\n",
            "8 7 0\n",
            "3 15 15\n",
            "16 15 0\n",
            "11 31 31\n"
          ]
        }
      ]
    }
  ]
}