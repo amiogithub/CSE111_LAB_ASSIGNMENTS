{
  "nbformat": 4,
  "nbformat_minor": 0,
  "metadata": {
    "colab": {
      "provenance": []
    },
    "kernelspec": {
      "name": "python3",
      "display_name": "Python 3"
    },
    "language_info": {
      "name": "python"
    }
  },
  "cells": [
    {
      "cell_type": "markdown",
      "source": [
        "# **Lab Assignments**"
      ],
      "metadata": {
        "id": "drkOIkuebmiq"
      }
    },
    {
      "cell_type": "code",
      "source": [
        "#Task:01\n",
        "\n",
        "import math\n",
        "class Circle:\n",
        "  def __init__(self,radius):\n",
        "    self.__radius=radius\n",
        "\n",
        "  def setRadius(self,radius):\n",
        "    self.__radius=radius  \n",
        "  \n",
        "  def getRadius(self):\n",
        "    return self.__radius\n",
        "\n",
        "  def area(self):\n",
        "    return f'{math.pi*self.__radius**2}'\n",
        "\n",
        "\n",
        "\n",
        "c1 = Circle(4)\n",
        "print(\"First circle radius:\" , c1.getRadius())\n",
        "print(\"First circle area:\" , c1.area())\n",
        "\n",
        "c2 = Circle(5)\n",
        "print(\"Second circle radius:\" , c2.getRadius())\n",
        "print(\"Second circle area:\" , c2.area())\n"
      ],
      "metadata": {
        "id": "Oy4UR_eWjrPP",
        "colab": {
          "base_uri": "https://localhost:8080/"
        },
        "outputId": "13a10107-2b36-4db5-c54f-7c7bb59bed91"
      },
      "execution_count": null,
      "outputs": [
        {
          "output_type": "stream",
          "name": "stdout",
          "text": [
            "First circle radius: 4\n",
            "First circle area: 50.26548245743669\n",
            "Second circle radius: 5\n",
            "Second circle area: 78.53981633974483\n"
          ]
        }
      ]
    },
    {
      "cell_type": "code",
      "source": [
        "#Task:02\n",
        "\n",
        "class Triangle:\n",
        "  def __init__(self,base,height):\n",
        "    self.__base=base\n",
        "    self.__height=height\n",
        "\n",
        "  def setBase(self,base):\n",
        "    self.__base=base\n",
        "\n",
        "  def setHeight(self,height):\n",
        "    self.__height=height\n",
        "\n",
        "  def getBase(self):\n",
        "    return self.__base\n",
        "\n",
        "  def getHeight(self):\n",
        "    return self.__height\n",
        "\n",
        "  def area(self):\n",
        "    return f'{0.5*self.__base*self.__height}'            \n",
        "\n",
        "\n",
        "\n",
        "\n",
        "t1 = Triangle(10, 5)\n",
        "print(\"First Triangle Base:\" , t1.getBase())\n",
        "print(\"First Triangle Height:\" , t1.getHeight())\n",
        "print(\"First Triangle area:\" ,t1.area())\n",
        "\n",
        "t2 = Triangle(5, 3)\n",
        "print(\"Second Triangle Base:\" , t2.getBase())\n",
        "print(\"Second Triangle Height:\" , t2.getHeight())\n",
        "print(\"Second Triangle area:\" ,t2.area())\n"
      ],
      "metadata": {
        "colab": {
          "base_uri": "https://localhost:8080/"
        },
        "id": "Yhf4zfJMF-rE",
        "outputId": "01a43870-a30e-4ae2-c4a2-213ca63ccf85"
      },
      "execution_count": null,
      "outputs": [
        {
          "output_type": "stream",
          "name": "stdout",
          "text": [
            "First Triangle Base: 10\n",
            "First Triangle Height: 5\n",
            "First Triangle area: 25.0\n",
            "Second Triangle Base: 5\n",
            "Second Triangle Height: 3\n",
            "Second Triangle area: 7.5\n"
          ]
        }
      ]
    },
    {
      "cell_type": "code",
      "source": [
        "#Task:03\n",
        "\n",
        "class Teacher:\n",
        "  def __init__(self,name,dept):\n",
        "    self.__name=name\n",
        "    self.__dept=dept\n",
        "    self.__a_list=[]\n",
        "\n",
        "  def addCourse(self,a):\n",
        "    self.__a_list.append(a.courses)\n",
        "\n",
        "  def printDetail(self):\n",
        "    print('====================================')\n",
        "    print(f'Name: {self.__name}')\n",
        "    print(f'Department: {self.__dept}')\n",
        "    print(f'List of courses')\n",
        "    print('====================================')\n",
        "    for i in self.__a_list:\n",
        "      print(i)\n",
        "    print('====================================')   \n",
        "\n",
        "\n",
        "class Course:\n",
        "  def __init__(self,courses):\n",
        "    self.courses=courses\n",
        "\n",
        "t1 = Teacher(\"Saad Abdullah\", \"CSE\")\n",
        "t2 = Teacher(\"Mumit Khan\", \"CSE\")\n",
        "t3 = Teacher(\"Sadia Kazi\", \"CSE\")                          \n",
        "c1 = Course(\"CSE 110 Programming Language I\")                           \n",
        "c2 = Course(\"CSE 111 Programming Language-II\")                           \n",
        "c3 = Course(\"CSE 220 Data Structures\")                           \n",
        "c4 = Course(\"CSE 221 Algorithms\")                           \n",
        "c5 = Course(\"CSE 230 Discrete Mathematics\")                           \n",
        "c6 = Course(\"CSE 310 Object Oriented Programming\")                           \n",
        "c7 = Course(\"CSE 320 Data Communications\")                          \n",
        "c8 = Course(\"CSE 340 Computer Architecture\") \n",
        "t1.addCourse(c1)\n",
        "t1.addCourse(c2)\n",
        "t2.addCourse(c3)\n",
        "t2.addCourse(c4)\n",
        "t2.addCourse(c5)\n",
        "t3.addCourse(c6)\n",
        "t3.addCourse(c7)\n",
        "t3.addCourse(c8)\n",
        "t1.printDetail()\n",
        "t2.printDetail()\n",
        "t3.printDetail()\n"
      ],
      "metadata": {
        "colab": {
          "base_uri": "https://localhost:8080/"
        },
        "id": "93y251a5Hp3T",
        "outputId": "02160cdf-3403-4e26-dc0e-4a445d138408"
      },
      "execution_count": null,
      "outputs": [
        {
          "output_type": "stream",
          "name": "stdout",
          "text": [
            "====================================\n",
            "Name: Saad Abdullah\n",
            "Department: CSE\n",
            "List of courses\n",
            "====================================\n",
            "CSE 110 Programming Language I\n",
            "CSE 111 Programming Language-II\n",
            "====================================\n",
            "====================================\n",
            "Name: Mumit Khan\n",
            "Department: CSE\n",
            "List of courses\n",
            "====================================\n",
            "CSE 220 Data Structures\n",
            "CSE 221 Algorithms\n",
            "CSE 230 Discrete Mathematics\n",
            "====================================\n",
            "====================================\n",
            "Name: Sadia Kazi\n",
            "Department: CSE\n",
            "List of courses\n",
            "====================================\n",
            "CSE 310 Object Oriented Programming\n",
            "CSE 320 Data Communications\n",
            "CSE 340 Computer Architecture\n",
            "====================================\n"
          ]
        }
      ]
    },
    {
      "cell_type": "code",
      "source": [
        "#Task:04\n",
        "\n",
        "class Team:\n",
        "  def __init__(self,name='Bangladesh'):\n",
        "    self.__name=name\n",
        "    self.__list=[]\n",
        "  def setName(self,name):\n",
        "    self.__name=name\n",
        "  def addPlayer (self,name):\n",
        "    self.__list.append(name.name)\n",
        "  def printDetail(self):\n",
        "    print(f'=====================\\n'\n",
        "          f'Team: {self.__name}\\n'\n",
        "          f'List of Players:\\n'\n",
        "          f'{self.__list}\\n'\n",
        "          f'=====================')\n",
        "class Player:\n",
        "  def __init__(self,name):\n",
        "    self.name = name\n",
        "b = Team()\n",
        "b.setName('Bangladesh')\n",
        "mashrafi = Player(\"Mashrafi\")\n",
        "b.addPlayer(mashrafi)\n",
        "tamim = Player(\"Tamim\")\n",
        "b.addPlayer(tamim)\n",
        "b.printDetail()\n",
        "a = Team(\"Australia\")\n",
        "ponting = Player(\"Ponting\")\n",
        "a.addPlayer(ponting)\n",
        "lee = Player(\"Lee\")\n",
        "a.addPlayer(lee)\n",
        "a.printDetail()\n"
      ],
      "metadata": {
        "id": "ZHanTSutb2Uk"
      },
      "execution_count": null,
      "outputs": []
    },
    {
      "cell_type": "code",
      "source": [
        "#Task:04(another)\n",
        "\n",
        "class Team:\n",
        "  def __init__(self,name=None):\n",
        "    self.__name=name\n",
        "    self.__a_list=[]\n",
        "\n",
        "  def setName(self,name):\n",
        "    self.__name=name\n",
        "\n",
        "  def printDetail(self):\n",
        "    print('=====================')\n",
        "    print('Team:',self.__name)\n",
        "    print(f'List of Players:\\n'\n",
        "    f'{self.__a_list}')\n",
        "    print('=====================')\n",
        "\n",
        "  def addPlayer(self,receive):\n",
        "    self.__a_list.append(receive.pname)\n",
        "\n",
        "\n",
        "\n",
        "class Player:\n",
        "  def __init__(self,pname):\n",
        "    self.pname=pname\n",
        "\n",
        "\n",
        "b = Team()\n",
        "b.setName('Bangladesh')\n",
        "mashrafi = Player(\"Mashrafi\")\n",
        "b.addPlayer(mashrafi)\n",
        "tamim = Player(\"Tamim\")\n",
        "b.addPlayer(tamim)\n",
        "b.printDetail()\n",
        "a = Team(\"Australia\")\n",
        "ponting = Player(\"Ponting\")\n",
        "a.addPlayer(ponting)\n",
        "lee = Player(\"Lee\")\n",
        "a.addPlayer(lee)\n",
        "a.printDetail()\n"
      ],
      "metadata": {
        "colab": {
          "base_uri": "https://localhost:8080/"
        },
        "id": "f-zT8momKf0x",
        "outputId": "e15133de-9740-41c7-cdaf-cf2662558b47"
      },
      "execution_count": null,
      "outputs": [
        {
          "output_type": "stream",
          "name": "stdout",
          "text": [
            "=====================\n",
            "Team: Bangladesh\n",
            "List of Players:\n",
            "['Mashrafi', 'Tamim']\n",
            "=====================\n",
            "=====================\n",
            "Team: Australia\n",
            "List of Players:\n",
            "['Ponting', 'Lee']\n",
            "=====================\n"
          ]
        }
      ]
    },
    {
      "cell_type": "code",
      "source": [
        "#Task:05\n",
        "\n",
        "class Student:\n",
        "  def __init__(self,name,id,dept,email=None,pswd=None,status=None):\n",
        "    print(\"Student object is created!\")\n",
        "    self.name = name\n",
        "    self.id = id\n",
        "    self.dept = dept\n",
        "    self.email=email\n",
        "    self.password=pswd\n",
        "    self.status=status\n",
        "    self.courses=[]\n",
        "\n",
        "class Usis:\n",
        "  def __init__(self):\n",
        "    print(\"USIS is ready to use!\")\n",
        "    self.stat=None\n",
        "  def login(self,name):\n",
        "    if (name.email != None) and (name.password != None):\n",
        "      print(\"Login successful!\")\n",
        "      self.stat = 1\n",
        "    else:\n",
        "      print(\"Email and password need to be set\")\n",
        "  def advising(self,name,*sub):\n",
        "    if self.stat == 1:\n",
        "      if len(sub) == 0:\n",
        "        print(\"You haven't selected any courses.\")\n",
        "      else:\n",
        "        if len(sub) > 3:\n",
        "          print(\"You need special approval to take more than 3 courses.\")\n",
        "        else:\n",
        "          for i in sub:\n",
        "            name.courses.append(i)\n",
        "          print(\"Advising successful!\")\n",
        "    else:\n",
        "      print('Please login to advise courses!')\n",
        "  def individualDetails(self,name):\n",
        "    a = ', '.join(name.courses)\n",
        "    return(f'Name: {name.name}\\n'\n",
        "          f'ID: {name.id}\\n'\n",
        "          f'Department: {name.dept}\\n'\n",
        "          f'Advised courses: {a}')\n",
        "rakib = Student(\"Rakib\", 12301455, \"CSE\")\n",
        "print(\"1***********************\")\n",
        "usis_obj = Usis()\n",
        "print(\"2***********************\")\n",
        "usis_obj.login(rakib)\n",
        "print(\"3***********************\")\n",
        "usis_obj.advising(rakib)\n",
        "print(\"4***********************\")\n",
        "rakib.email = \"rakib@hotmail.com\"\n",
        "rakib.password = \"1234\"\n",
        "print(\"5***********************\")\n",
        "usis_obj.login(rakib)\n",
        "print(\"6***********************\")\n",
        "usis_obj.advising(rakib)\n",
        "print(\"7***********************\")\n",
        "usis_obj.advising(rakib, \"CSE110\", \"PHY111\", \"MAT110\", \"CSE260\")\n",
        "print(\"8***********************\")\n",
        "usis_obj.advising(rakib, \"CSE110\", \"PHY111\", \"MAT110\")\n",
        "print(\"9***********************\")\n",
        "print(usis_obj.individualDetails(rakib))\n",
        "\n",
        "\n",
        "      \n"
      ],
      "metadata": {
        "colab": {
          "base_uri": "https://localhost:8080/"
        },
        "id": "BXcSE7uZdHMB",
        "outputId": "cdee65c4-4693-49e2-c3de-48007c7d165e"
      },
      "execution_count": null,
      "outputs": [
        {
          "output_type": "stream",
          "name": "stdout",
          "text": [
            "Student object is created!\n",
            "1***********************\n",
            "USIS is ready to use!\n",
            "2***********************\n",
            "Email and password need to be set\n",
            "3***********************\n",
            "Please login to advise courses!\n",
            "4***********************\n",
            "5***********************\n",
            "Login successful!\n",
            "6***********************\n",
            "You haven't selected any courses.\n",
            "7***********************\n",
            "You need special approval to take more than 3 courses.\n",
            "8***********************\n",
            "Advising successful!\n",
            "9***********************\n",
            "Name: Rakib\n",
            "ID: 12301455\n",
            "Department: CSE\n",
            "Advised courses: CSE110, PHY111, MAT110\n"
          ]
        }
      ]
    },
    {
      "cell_type": "code",
      "source": [
        "#Task:05 (olpo ektu fix korte hobe)\n",
        "\n",
        "class Student:\n",
        "  def __init__(self,name,id,dept,email=None,psw=None,status=None):\n",
        "    self.name=name\n",
        "    self.id=id\n",
        "    self.dept=dept\n",
        "    self.email=email\n",
        "    self.psw=psw\n",
        "    self.status=status\n",
        "    print(f'Student object is created!')\n",
        "\n",
        "class Usis:\n",
        "  def __init__(self):\n",
        "\n",
        "    print('USIS is ready to use!')\n",
        "    self.courses=''\n",
        "\n",
        "  def login(self,a):\n",
        "    if a.email==None and a.psw==None:\n",
        "      a.status='Logout'\n",
        "      print('Email and password need to be set.')\n",
        "\n",
        "    else:\n",
        "      a.status='Logged In'\n",
        "      print('Login successful!')  \n",
        "\n",
        "  def advising(self,b,*courses):\n",
        "\n",
        "\n",
        "    if b.status=='Logout' and len(courses)==0:\n",
        "      print('Please login to advise courses!')\n",
        "\n",
        "\n",
        "    elif  len(courses)==0:\n",
        "      print(\"You haven't selected any courses.\")\n",
        "    elif len(courses)>3:\n",
        "      self.courses=''\n",
        "      print('You need special approval to take more than 3 courses.')\n",
        "\n",
        "    elif len(courses)<=3:\n",
        "          count=0\n",
        "          for i in courses:\n",
        "            self.courses=self.courses+i+', '\n",
        "            count+=1\n",
        "            self.courses=self.courses[:-2]\n",
        "          print('Advising successful!')\n",
        "\n",
        "  def individualDetails(self,c):\n",
        "    return(f'Name: {c.name}\\n'\n",
        "    f'ID: {c.id}\\n'\n",
        "    f'Department: {c.dept}\\n'\n",
        "    f'Advised courses: {self.courses}')\n",
        "\n",
        "rakib = Student(\"Rakib\", 12301455, \"CSE\")\n",
        "print(\"1***********************\")\n",
        "usis_obj = Usis()\n",
        "print(\"2***********************\")\n",
        "usis_obj.login(rakib)\n",
        "print(\"3***********************\")\n",
        "usis_obj.advising(rakib)\n",
        "print(\"4***********************\")\n",
        "rakib.email = \"rakib@hotmail.com\"\n",
        "rakib.password = \"1234\"\n",
        "print(\"5***********************\")\n",
        "usis_obj.login(rakib)\n",
        "print(\"6***********************\")\n",
        "usis_obj.advising(rakib)\n",
        "print(\"7***********************\")\n",
        "usis_obj.advising(rakib, \"CSE110\", \"PHY111\", \"MAT110\", \"CSE260\")\n",
        "print(\"8***********************\")\n",
        "usis_obj.advising(rakib, \"CSE110\", \"PHY111\", \"MAT110\")\n",
        "print(\"9***********************\")\n",
        "print(usis_obj.individualDetails(rakib))\n"
      ],
      "metadata": {
        "colab": {
          "base_uri": "https://localhost:8080/"
        },
        "id": "y6S5mjGzdNNR",
        "outputId": "c9e9422b-57d9-4d8d-935a-a4f088ac7e92"
      },
      "execution_count": null,
      "outputs": [
        {
          "output_type": "stream",
          "name": "stdout",
          "text": [
            "Student object is created!\n",
            "1***********************\n",
            "USIS is ready to use!\n",
            "2***********************\n",
            "Email and password need to be set.\n",
            "3***********************\n",
            "Please login to advise courses!\n",
            "4***********************\n",
            "5***********************\n",
            "Login successful!\n",
            "6***********************\n",
            "You haven't selected any courses.\n",
            "7***********************\n",
            "You need special approval to take more than 3 courses.\n",
            "8***********************\n",
            "Advising successful!\n",
            "9***********************\n",
            "Name: Rakib\n",
            "ID: 12301455\n",
            "Department: CSE\n",
            "Advised courses: CSE110PHY111MAT110\n"
          ]
        }
      ]
    },
    {
      "cell_type": "code",
      "source": [
        "#Task:06(Method:01)\n",
        "class Train:\n",
        "  def __init__(self,*args):\n",
        "    self.args=args\n",
        "    self.list=[]\n",
        "    print(f'Welcome aboard on {args[0]}\\nStart: {args[1]}\\nDestination: {args[-1]}')\n",
        "  def addPassenger(self,*args):\n",
        "    for i in args:\n",
        "      if len(i.args)==1:\n",
        "        start=1\n",
        "        end=len(self.args)-1\n",
        "        fair=(end-start)*100\n",
        "        self.tem=[i.args[0],self.args[1],self.args[-1],fair]\n",
        "        self.list.append(self.tem)\n",
        "      elif len(i.args)==2:\n",
        "        for j in range(len(self.args)):\n",
        "          if i.args[1]==self.args[j]:\n",
        "            start=j\n",
        "            end=len(self.args)-1\n",
        "            fair=(end-start)*100\n",
        "            self.tem=[i.args[0],self.args[start],self.args[-1],fair]\n",
        "            self.list.append(self.tem)\n",
        "      elif len(i.args)==3:\n",
        "        for j in range(len(self.args)):\n",
        "          if i.args[1]==self.args[j]:\n",
        "            start=j\n",
        "          elif i.args[2]==self.args[j]:\n",
        "            end=j\n",
        "        fair=(end-start)*100\n",
        "        self.tem=[i.args[0],self.args[start],self.args[end],fair]\n",
        "        self.list.append(self.tem)\n",
        "    for i in args:\n",
        "      print(f'{i.args[0]} welcome aboard')\n",
        "  def allPassengerDetails(self):\n",
        "    for k in self.list:\n",
        "      print(f'Name: {k[0]},Start: {k[1]},Destination: {k[2]},Fair: ${k[3]}')\n",
        "class Passenger:\n",
        "  def __init__(self,*args):\n",
        "    self.args=args\n",
        "\n",
        "t1 = Train('T1-Express','New York','Manhattan','Brooklyn','Boston')\n",
        "print(\"1========================\")\n",
        "p1 =Passenger(\"Naruto\")\n",
        "t1.addPassenger(p1)\n",
        "p2 = Passenger(\"Sasuke\",\"Manhattan\")\n",
        "p3 = Passenger(\"Hinata\",\"Manhattan\",\"Brooklyn\")\n",
        "print(\"2========================\")\n",
        "t1.addPassenger(p2,p3)\n",
        "print(\"3========================\")\n",
        "t1.allPassengerDetails()\n",
        "print(\"4========================\")\n",
        "t2 = Train('Europe-Express','London','Paris','Brussels','Turkey')\n",
        "print(\"5========================\")\n",
        "p4 =Passenger(\"Max\",\"London\",\"Brussels\")\n",
        "p5 = Passenger(\"Eleven\",\"Paris\")\n",
        "p6 = Passenger(\"Mike\",\"Brussels\")\n",
        "t2.addPassenger(p4,p5,p6)\n",
        "print(\"6========================\")\n",
        "t2.allPassengerDetails()"
      ],
      "metadata": {
        "colab": {
          "base_uri": "https://localhost:8080/"
        },
        "id": "mZ7YfSN0dTEI",
        "outputId": "cecd8d2a-ac06-407c-d7da-248c89f89c8b"
      },
      "execution_count": null,
      "outputs": [
        {
          "output_type": "stream",
          "name": "stdout",
          "text": [
            "Welcome aboard on T1-Express\n",
            "Start: New York\n",
            "Destination: Boston\n",
            "1========================\n",
            "Naruto welcome aboard\n",
            "2========================\n",
            "Sasuke welcome aboard\n",
            "Hinata welcome aboard\n",
            "3========================\n",
            "Name: Naruto,Start: New York,Destination: Boston,Fair: $300\n",
            "Name: Sasuke,Start: Manhattan,Destination: Boston,Fair: $200\n",
            "Name: Hinata,Start: Manhattan,Destination: Brooklyn,Fair: $100\n",
            "4========================\n",
            "Welcome aboard on Europe-Express\n",
            "Start: London\n",
            "Destination: Turkey\n",
            "5========================\n",
            "Max welcome aboard\n",
            "Eleven welcome aboard\n",
            "Mike welcome aboard\n",
            "6========================\n",
            "Name: Max,Start: London,Destination: Brussels,Fair: $200\n",
            "Name: Eleven,Start: Paris,Destination: Turkey,Fair: $200\n",
            "Name: Mike,Start: Brussels,Destination: Turkey,Fair: $100\n"
          ]
        }
      ]
    },
    {
      "cell_type": "code",
      "source": [
        "'''Maam in this code ami jeta korte chacchilam sheta holo train class er t1 object er shob destinations gulo ami akta dicitonary te save korte rakte chacchilam. jekhane \n",
        "keys gulo shob stoppage er name and oder index er position gula value te rekhe dibo. \n",
        "so erpor ami jokhon fare er hishab ta korte jabo tokhon ami\n",
        "starting aar ending ta ei dictionary theke khujbo anbd tader value diye minus kore multiplies by 100\n",
        "dilei amr fare ber howe jawar kotha. then maam ami fare ber kore notu arekta dicitonary khulbo\n",
        "jekhane ami eder naam starting point ending point and fare ta rekhe dibo\n",
        "then printing statement e giye ami loop chalabo final dciitonary er upor and eke eke \n",
        "sb kisu serially print kore dibo. dhoren ami erokom korte chacchilam\n",
        "\n",
        "\n",
        "self.d1={'New York':1.'Manhattan':2,'Brooklyn':3,'Boston':4}\n",
        "\n",
        "self.d2={'Naruto':['New York','Boston',300],'Sasuke':['Manhattan','Boston',200],'Hinata':['Manhattan','Brooklyn',100]}\n",
        "\n",
        "\n",
        "miss evabe akhon just self.d2 dicitonary er upor jodi loop chalai\n",
        "first e akta key ashbe jeta hobe amr name\n",
        "then key er value thake always 3 ta\n",
        "first er index ta hobe start\n",
        "second index hobe end\n",
        "third index hobe fare\n",
        "\n",
        "'''"
      ],
      "metadata": {
        "id": "qmz8YXvTdea4"
      },
      "execution_count": null,
      "outputs": []
    },
    {
      "cell_type": "code",
      "source": [
        "#Task:06(Mehtod:02)(mine)\n",
        "class Train:\n",
        "  def __init__(self,*args):\n",
        "    self.d2={}\n",
        "    self.start = args[1]   #variable a store korlam karon pore jodi None ashe start and end er\n",
        "    self.end = args[-1]    # tahole None ta k amar ei start end dara replace korte hbe. Naruto er belay None chilo. Tai naruto er start newyork\n",
        "    print(f'Welcome aboard on {args[0]}\\nStart: {args[1]}\\nDestination: {args[-1]}')\n",
        "    self.d1={}\n",
        "    for i in range(1,len(args)):\n",
        "      self.d1[args[i]]=i\n",
        "  def addPassenger(self,*args):\n",
        "    self.list=[]\n",
        "    for k in args:\n",
        "      self.list.append(k)\n",
        "      self.shuru=0\n",
        "      self.shesh=0\n",
        "      if k.start == None:    # Eikhane Jodi passenger er start and end ta None thake tahole Train er start and stop ta diye kintu amk None ta rewrite korte hbe.\n",
        "        k.start = self.start   # Apni ei part ta koren ni dekhei apnar dict2  er value te Naruto er belay start and end ta append hoy ni. Karon i.start == j[0] ei condition true e hoy ni\n",
        "      if k.end == None:        # karon naruto te to start and end None chilo\n",
        "        k.end = self.end\n",
        "    for i in self.list:\n",
        "        print(f'{i.name} welcome abroad')\n",
        "        self.fare=0\n",
        "        self.d2[i.name]=[]\n",
        "        for j in self.d1.items():\n",
        "          if i.start==j[0]:\n",
        "            self.d2[i.name].append(i.start)\n",
        "            self.shuru=self.d1[j[0]]\n",
        "          if i.end==j[0]:\n",
        "            self.d2[i.name].append(i.end)\n",
        "            self.shesh=self.d1[j[0]]\n",
        "        self.fare=(self.shesh-self.shuru)*100\n",
        "        self.d2[i.name].append(self.fare)\n",
        "  def allPassengerDetails(self):\n",
        "    for keys,values in self.d2.items():\n",
        "      print(f'Name: {keys}, Start:{values[0]}, Destination:{values[1]}, Fair: ${values[2]}')\n",
        "    self.d2={}\n",
        "class Passenger:\n",
        "  def __init__(self,name,start= None,end= None):\n",
        "    self.name=name\n",
        "    self.start=start\n",
        "    self.end=end\n",
        "t1 = Train('T1-Express','New York','Manhattan','Brooklyn','Boston')\n",
        "print(\"1========================\")\n",
        "p1 =Passenger(\"Naruto\")\n",
        "t1.addPassenger(p1)\n",
        "p2 = Passenger(\"Sasuke\",\"Manhattan\")\n",
        "p3 = Passenger(\"Hinata\",\"Manhattan\",\"Brooklyn\")\n",
        "print(\"2========================\")\n",
        "t1.addPassenger(p2,p3)\n",
        "print(\"3========================\")\n",
        "t1.allPassengerDetails()\n",
        "print(\"4========================\")\n",
        "t2 = Train('Europe-Express','London','Paris','Brussels','Turkey')\n",
        "print(\"5========================\")\n",
        "p4 =Passenger(\"Max\",\"London\",\"Brussels\")\n",
        "p5 = Passenger(\"Eleven\",\"Paris\")\n",
        "p6 = Passenger(\"Mike\",\"Brussels\")\n",
        "t2.addPassenger(p4,p5,p6)\n",
        "print(\"6========================\")\n",
        "t2.allPassengerDetails()"
      ],
      "metadata": {
        "colab": {
          "base_uri": "https://localhost:8080/"
        },
        "id": "Ung9H3t7dZxA",
        "outputId": "ae5f1df9-64d7-483b-bcf4-3134bd88d34e"
      },
      "execution_count": null,
      "outputs": [
        {
          "output_type": "stream",
          "name": "stdout",
          "text": [
            "Welcome aboard on T1-Express\n",
            "Start: New York\n",
            "Destination: Boston\n",
            "1========================\n",
            "Naruto welcome abroad\n",
            "2========================\n",
            "Sasuke welcome abroad\n",
            "Hinata welcome abroad\n",
            "3========================\n",
            "Name: Naruto, Start:New York, Destination:Boston, Fair: $300\n",
            "Name: Sasuke, Start:Manhattan, Destination:Boston, Fair: $200\n",
            "Name: Hinata, Start:Manhattan, Destination:Brooklyn, Fair: $100\n",
            "4========================\n",
            "Welcome aboard on Europe-Express\n",
            "Start: London\n",
            "Destination: Turkey\n",
            "5========================\n",
            "Max welcome abroad\n",
            "Eleven welcome abroad\n",
            "Mike welcome abroad\n",
            "6========================\n",
            "Name: Max, Start:London, Destination:Brussels, Fair: $200\n",
            "Name: Eleven, Start:Paris, Destination:Turkey, Fair: $200\n",
            "Name: Mike, Start:Brussels, Destination:Turkey, Fair: $100\n"
          ]
        }
      ]
    },
    {
      "cell_type": "code",
      "source": [
        "#Task:07 \n",
        "\n",
        "class BracuStudent:\n",
        "  def __init__(self,name,loc):\n",
        "    self.name=name\n",
        "    self.loc=loc\n",
        "    self.bpass=False\n",
        "\n",
        "  def show_details(self):\n",
        "    print(f'Student Name: {self.name}')\n",
        "    print(f'Lives in {self.loc}')\n",
        "    print(f'Have Bus Pass? {self.bpass}')\n",
        "\n",
        "  def get_pass(self):\n",
        "    self.bpass=True  \n",
        "\n",
        "\n",
        "class BracuBus:\n",
        "  def __init__(self,name,limit=2):\n",
        "    self.name=name\n",
        "    self.limit=limit\n",
        "    self.stus=[]\n",
        "\n",
        "\n",
        "  def board(self,*stus):\n",
        "    if len(stus) != 0:\n",
        "      for i in stus:\n",
        "        if i.loc == self.name:\n",
        "          if i.bpass==True:\n",
        "            if len(self.stus) < self.limit:\n",
        "              print(f\"{i.name} boarded the bus.\")\n",
        "              self.stus.append(i.name)\n",
        "            else:\n",
        "              print(\"Bus is full!\")\n",
        "          else:\n",
        "            print(\"You don't have bus pass!\")\n",
        "        else:\n",
        "          print(\"You got on wrong bus!\")\n",
        "\n",
        "    else:\n",
        "      print(\"No passenger!\")\n",
        "\n",
        "  def show_details(self):\n",
        "    print(f'Bus Route: {self.name}\\n'\n",
        "          f'Passengers Count: {len(self.stus)} (Max: {self.limit})\\n'\n",
        "          f'Passengers On Board: {self.stus}')\n",
        "\n",
        "\n",
        "\n",
        "st1 = BracuStudent(\"Afif\", \"Mirpur\")\n",
        "print(\"1===========================\")\n",
        "st2 = BracuStudent(\"Shanto\", \"Motijheel\")\n",
        "st3 = BracuStudent(\"Taskin\", \"Mirpur\")\n",
        "st1.show_details()\n",
        "st2.show_details()\n",
        "print(\"2===========================\")\n",
        "st3.show_details()\n",
        "print(\"3===========================\")\n",
        "bus1 = BracuBus(\"Mirpur\")\n",
        "bus2 = BracuBus(\"Azimpur\", 5)\n",
        "bus1.show_details()\n",
        "bus2.show_details()\n",
        "print(\"4===========================\")\n",
        "st2.get_pass()\n",
        "st3.get_pass()\n",
        "print(\"5===========================\")\n",
        "st2.show_details()\n",
        "st3.show_details()\n",
        "print(\"6===========================\")\n",
        "bus1.board()\n",
        "print(\"7===========================\")\n",
        "bus1.board(st1, st2)\n",
        "print(\"8===========================\")\n",
        "st1.get_pass()\n",
        "st2.home = \"Mirpur\"\n",
        "st1.show_details()\n",
        "st2.show_details()\n",
        "print(\"9===========================\")\n",
        "bus1.board(st1, st2, st3)\n",
        "print(\"10===========================\")\n",
        "bus1.show_details()\n",
        "\n"
      ],
      "metadata": {
        "colab": {
          "base_uri": "https://localhost:8080/"
        },
        "id": "IL-CaVaFdofY",
        "outputId": "5085586b-fc03-403b-aa26-790451307265"
      },
      "execution_count": null,
      "outputs": [
        {
          "output_type": "stream",
          "name": "stdout",
          "text": [
            "1===========================\n",
            "Student Name: Afif\n",
            "Lives in Mirpur\n",
            "Have Bus Pass? False\n",
            "Student Name: Shanto\n",
            "Lives in Motijheel\n",
            "Have Bus Pass? False\n",
            "2===========================\n",
            "Student Name: Taskin\n",
            "Lives in Mirpur\n",
            "Have Bus Pass? False\n",
            "3===========================\n",
            "Bus Route: Mirpur\n",
            "Passengers Count: 0 (Max: 2)\n",
            "Passengers On Board: []\n",
            "Bus Route: Azimpur\n",
            "Passengers Count: 0 (Max: 5)\n",
            "Passengers On Board: []\n",
            "4===========================\n",
            "5===========================\n",
            "Student Name: Shanto\n",
            "Lives in Motijheel\n",
            "Have Bus Pass? True\n",
            "Student Name: Taskin\n",
            "Lives in Mirpur\n",
            "Have Bus Pass? True\n",
            "6===========================\n",
            "No passenger!\n",
            "7===========================\n",
            "You don't have bus pass!\n",
            "You got on wrong bus!\n",
            "8===========================\n",
            "Student Name: Afif\n",
            "Lives in Mirpur\n",
            "Have Bus Pass? True\n",
            "Student Name: Shanto\n",
            "Lives in Motijheel\n",
            "Have Bus Pass? True\n",
            "9===========================\n",
            "Afif boarded the bus.\n",
            "You got on wrong bus!\n",
            "Taskin boarded the bus.\n",
            "10===========================\n",
            "Bus Route: Mirpur\n",
            "Passengers Count: 2 (Max: 2)\n",
            "Passengers On Board: ['Afif', 'Taskin']\n"
          ]
        }
      ]
    },
    {
      "cell_type": "markdown",
      "source": [
        "# Basics"
      ],
      "metadata": {
        "id": "_R6g0GhYdtyq"
      }
    },
    {
      "cell_type": "code",
      "execution_count": null,
      "metadata": {
        "id": "G0uGN0wW1LXM"
      },
      "outputs": [],
      "source": [
        "#oPEARTOR OVERLOADING"
      ]
    },
    {
      "cell_type": "code",
      "source": [
        "a=5\n",
        "b=6\n",
        "print(type(a))\n",
        "print(a+b)"
      ],
      "metadata": {
        "colab": {
          "base_uri": "https://localhost:8080/"
        },
        "id": "2MU98fLi1dlp",
        "outputId": "8c154241-cf7e-427b-b944-6863da9df423"
      },
      "execution_count": null,
      "outputs": [
        {
          "output_type": "stream",
          "name": "stdout",
          "text": [
            "<class 'int'>\n",
            "11\n"
          ]
        }
      ]
    },
    {
      "cell_type": "code",
      "source": [
        "#what if we want to add two objects \n",
        "\n",
        "class vector:\n",
        "  def __init__(self,i):\n",
        "    self.i=i\n",
        "\n",
        "\n",
        "object_1=vector(1)\n",
        "object_2=vector(1)\n",
        "\n",
        "print(object_1+object_2)"
      ],
      "metadata": {
        "colab": {
          "base_uri": "https://localhost:8080/",
          "height": 200
        },
        "id": "Q-ip9WM31sEm",
        "outputId": "d528feaa-85a6-44af-b62b-b3c4893c2e08"
      },
      "execution_count": null,
      "outputs": [
        {
          "output_type": "error",
          "ename": "TypeError",
          "evalue": "ignored",
          "traceback": [
            "\u001b[0;31m---------------------------------------------------------------------------\u001b[0m",
            "\u001b[0;31mTypeError\u001b[0m                                 Traceback (most recent call last)",
            "\u001b[0;32m<ipython-input-17-5d5d9db044dd>\u001b[0m in \u001b[0;36m<module>\u001b[0;34m\u001b[0m\n\u001b[1;32m      6\u001b[0m \u001b[0mobject_1\u001b[0m\u001b[0;34m=\u001b[0m\u001b[0mvector\u001b[0m\u001b[0;34m(\u001b[0m\u001b[0;36m1\u001b[0m\u001b[0;34m)\u001b[0m\u001b[0;34m\u001b[0m\u001b[0;34m\u001b[0m\u001b[0m\n\u001b[1;32m      7\u001b[0m \u001b[0mobject_2\u001b[0m\u001b[0;34m=\u001b[0m\u001b[0mvector\u001b[0m\u001b[0;34m(\u001b[0m\u001b[0;36m1\u001b[0m\u001b[0;34m)\u001b[0m\u001b[0;34m\u001b[0m\u001b[0;34m\u001b[0m\u001b[0m\n\u001b[0;32m----> 8\u001b[0;31m \u001b[0mprint\u001b[0m\u001b[0;34m(\u001b[0m\u001b[0mobject_1\u001b[0m\u001b[0;34m+\u001b[0m\u001b[0mobject_2\u001b[0m\u001b[0;34m)\u001b[0m\u001b[0;34m\u001b[0m\u001b[0;34m\u001b[0m\u001b[0m\n\u001b[0m",
            "\u001b[0;31mTypeError\u001b[0m: unsupported operand type(s) for +: 'vector' and 'vector'"
          ]
        }
      ]
    },
    {
      "cell_type": "code",
      "source": [
        "class sum:\n",
        "  def __init__(self,x,y):\n",
        "    self.num=x+y\n",
        "\n",
        "num1=sum(10,20)\n",
        "num2=sum(20,30)\n",
        "print(num1+num2) #object add korte parbena #operator overload korte hobe"
      ],
      "metadata": {
        "id": "vIkLEXyWyR1d",
        "colab": {
          "base_uri": "https://localhost:8080/",
          "height": 218
        },
        "outputId": "56110b89-4da1-48a6-d904-93a5cf97fb54"
      },
      "execution_count": null,
      "outputs": [
        {
          "output_type": "error",
          "ename": "TypeError",
          "evalue": "ignored",
          "traceback": [
            "\u001b[0;31m---------------------------------------------------------------------------\u001b[0m",
            "\u001b[0;31mTypeError\u001b[0m                                 Traceback (most recent call last)",
            "\u001b[0;32m<ipython-input-19-932122a12cc2>\u001b[0m in \u001b[0;36m<module>\u001b[0;34m\u001b[0m\n\u001b[1;32m      5\u001b[0m \u001b[0mnum1\u001b[0m\u001b[0;34m=\u001b[0m\u001b[0msum\u001b[0m\u001b[0;34m(\u001b[0m\u001b[0;36m10\u001b[0m\u001b[0;34m,\u001b[0m\u001b[0;36m20\u001b[0m\u001b[0;34m)\u001b[0m\u001b[0;34m\u001b[0m\u001b[0;34m\u001b[0m\u001b[0m\n\u001b[1;32m      6\u001b[0m \u001b[0mnum2\u001b[0m\u001b[0;34m=\u001b[0m\u001b[0msum\u001b[0m\u001b[0;34m(\u001b[0m\u001b[0;36m20\u001b[0m\u001b[0;34m,\u001b[0m\u001b[0;36m30\u001b[0m\u001b[0;34m)\u001b[0m\u001b[0;34m\u001b[0m\u001b[0;34m\u001b[0m\u001b[0m\n\u001b[0;32m----> 7\u001b[0;31m \u001b[0mprint\u001b[0m\u001b[0;34m(\u001b[0m\u001b[0mnum1\u001b[0m\u001b[0;34m+\u001b[0m\u001b[0mnum2\u001b[0m\u001b[0;34m)\u001b[0m \u001b[0;31m#object add korte parbena #operator overload korte hobe\u001b[0m\u001b[0;34m\u001b[0m\u001b[0;34m\u001b[0m\u001b[0m\n\u001b[0m\u001b[1;32m      8\u001b[0m \u001b[0;34m\u001b[0m\u001b[0m\n",
            "\u001b[0;31mTypeError\u001b[0m: unsupported operand type(s) for +: 'sum' and 'sum'"
          ]
        }
      ]
    },
    {
      "cell_type": "code",
      "source": [
        "#Query ase!!!!\n",
        "\n",
        "#How to solve the issue\n",
        "\n",
        "class vector:\n",
        "  def __init__(self,i): #default constructor\n",
        "    self.i=i\n",
        "\n",
        "  def __add__(self,other): #add naam e method introduce korte hobe\n",
        "    return self.i+other.i   #query je object er posiiton take return korbe na????\n",
        "\n",
        "a=vector(1)\n",
        "b=vector(1)\n",
        "print(a+b)  \n",
        "print(type(a+b))"
      ],
      "metadata": {
        "id": "xbfOxfZz2MUn"
      },
      "execution_count": null,
      "outputs": []
    },
    {
      "cell_type": "code",
      "source": [
        "class data:\n",
        "  def __init__(self,x):\n",
        "    self.x=x\n",
        "\n",
        "  #adding two objects\n",
        "  def __add__(self,other):\n",
        "    return self.x+other.x \n",
        "\n",
        "num1=data(10)\n",
        "num2=data(20)\n",
        "str1=data('cse')\n",
        "str2=data('111')\n",
        "\n",
        "print(num1+num2)  #num1.__add__(num2)\n",
        "print(str1+str2)  ##str1.__add__(str2)"
      ],
      "metadata": {
        "colab": {
          "base_uri": "https://localhost:8080/"
        },
        "id": "aCrLurrAzehW",
        "outputId": "c60d47b3-f4b5-4c89-ef3f-66fd425bd835"
      },
      "execution_count": null,
      "outputs": [
        {
          "output_type": "stream",
          "name": "stdout",
          "text": [
            "30\n",
            "cse111\n"
          ]
        }
      ]
    },
    {
      "cell_type": "code",
      "source": [
        "#Concept of Operator Overloading \n",
        "\n",
        "class subject:\n",
        "  def __init__(self,k):\n",
        "    self.k=k\n",
        "\n",
        "  #add marks of two subjects\n",
        "  def __add__(self,other):\n",
        "    return f'Addition is {self.k+other.k}'\n",
        "\n",
        "  #subtract marks of two subjects\n",
        "\n",
        "  def __sub__(self,other):\n",
        "    return f'Subtraction is: {self.k-other.k}' \n",
        "\n",
        "  #multiply marks of two subjects\n",
        "\n",
        "  def __mul__(self,other):\n",
        "   return f'Multiplication is: {self.k*other.k}'\n",
        "\n",
        "  #POwer of two subjects\n",
        "\n",
        "  def __pow__(self,other):\n",
        "   return f'Power is {self.k**other.k}' \n",
        " \n",
        "  def __truediv__(self,other):\n",
        "   return f'Division is {self.k/other.k}' \n",
        "\n",
        "  def __floordiv__(self,other):\n",
        "   return f'Floor diviison is {self.k//other.k}'\n",
        "\n",
        "  def __lt__(self,other):\n",
        "    if self.k<other.k:\n",
        "      return 'num1 is less then num2'\n",
        "    else:\n",
        "      return 'num2 is less then num1' \n",
        "  def __le__(self,other):\n",
        "    if self.k<other.k:\n",
        "      return 'num1 is less than or equals to num2'\n",
        "    else:\n",
        "      return 'num2 is less than or equals to num1'      \n",
        "\n",
        "  def __gt__(self,other):\n",
        "    if self.k>other.k:\n",
        "      return 'num1 is greater then num2'\n",
        "    else:\n",
        "      return 'num2 is greater then num1' \n",
        "\n",
        "  def __ge__(self,other):\n",
        "    if self.k>=other.k:\n",
        "      return 'num1 is greater or equals to num2'\n",
        "    else:\n",
        "      return 'num2 is greater or equals to num1'       \n",
        "\n",
        "  def __eq__(self,other):\n",
        "    if self.k==other.k:\n",
        "      return 'Both are equal'\n",
        "    else:\n",
        "      return 'Not equal'       \n",
        "\n",
        "  def __ne__(self,other):\n",
        "    if self.k!=other.k:\n",
        "      return 'Both are unequal'\n",
        "    else:\n",
        "      return 'equal' \n",
        "\n",
        "\n",
        "num1=subject(10)\n",
        "num2=subject(5)\n",
        "num3=subject(6)\n",
        "num4=subject(6)\n",
        "\n",
        "print(num1+num2) #h1.__add__(h2)\n",
        "\n",
        "print(num1-num2)  #h1.__sub__(h2)\n",
        "\n",
        "print(num1*num2)  #h1.__mul__(h2)\n",
        "\n",
        "print(num1/num2)  #h1.__truediv__(h2)\n",
        "\n",
        "print(num1**num2)  #h1.__pow__(h2)\n",
        "\n",
        "\n",
        "print(num1//num2)  #h1.__floordiv__(h2)\n",
        "\n",
        "\n",
        "print(num1<num2)  #h1.__lt__(h2)\n",
        "\n",
        "print(num1>num2)  #h1.__gt__(h2)\n",
        "\n",
        "print(num1<=num2)  #h1.__le__(h2)\n",
        "\n",
        "print(num1>=num2)  #h1.__ge__(h2)\n",
        "\n",
        "print(num3==num4)  #h1.__eq__(h2)\n",
        "\n",
        "print(num1!=num2) #h1.__ne__(h2)\n"
      ],
      "metadata": {
        "colab": {
          "base_uri": "https://localhost:8080/"
        },
        "id": "VGNHLaIvtltZ",
        "outputId": "6c9c0377-64e0-4434-a906-217546b1324d"
      },
      "execution_count": null,
      "outputs": [
        {
          "output_type": "stream",
          "name": "stdout",
          "text": [
            "Addition is 15\n",
            "Subtraction is: 5\n",
            "Multiplication is: 50\n",
            "Division is 2.0\n",
            "Power is 100000\n",
            "Floor diviison is 2\n",
            "num2 is less then num1\n",
            "num1 is greater then num2\n",
            "num2 is less than or equals to num1\n",
            "num1 is greater or equals to num2\n",
            "Both are equal\n",
            "Both are unequal\n"
          ]
        }
      ]
    },
    {
      "cell_type": "code",
      "source": [
        "#boolean \n",
        "class vector:\n",
        "  def __init__(self,i):\n",
        "    self.i=i\n",
        "  def __lt__(self,other):\n",
        "    if self.i<other.i:\n",
        "      return True\n",
        "    else:\n",
        "      return False\n",
        "a=vector(1)\n",
        "b=vector(1)\n",
        "\n",
        "c=a<b\n",
        "print(c)"
      ],
      "metadata": {
        "id": "4Y-8LrevEkVW"
      },
      "execution_count": null,
      "outputs": []
    },
    {
      "cell_type": "code",
      "source": [
        "class House:\n",
        "  def __init__(self,w,d):\n",
        "    self.window=w\n",
        "    self.door=d\n",
        "\n",
        "  def view(self):\n",
        "    print('The house has',self.window,'window(s) and', self.door,'door(s).') \n",
        "\n",
        "  def __add__(self,other):#instance method\n",
        "    new_window=self.window+other.window\n",
        "    new_door=self.door+other.door\n",
        "    return f'New House has {new_window} window(s) and {new_door} door(s).'\n",
        "\n",
        "\n",
        "h1=House(6,2)\n",
        "h2=House(4,1)\n",
        "h1.view()\n",
        "h2.view()\n",
        "\n",
        "print(h1+h2) #h1.__add__(h2)\n",
        "\n"
      ],
      "metadata": {
        "colab": {
          "base_uri": "https://localhost:8080/"
        },
        "id": "AfctOSFFqYhB",
        "outputId": "e29a30d2-04b0-4783-b6d5-6303c3734570"
      },
      "execution_count": null,
      "outputs": [
        {
          "output_type": "stream",
          "name": "stdout",
          "text": [
            "The house has 6 window(s) and 2 door(s)\n",
            "The house has 4 window(s) and 1 door(s)\n",
            "New House has 10 window(s) and 3 door(s)\n"
          ]
        }
      ]
    },
    {
      "cell_type": "code",
      "source": [
        "class House:\n",
        "  def __init__(self,w,d):\n",
        "    self.window=w\n",
        "    self.door=d\n",
        "\n",
        "  def view(self):\n",
        "    print('The house has',self.window,'window(s) and', self.door,'door(s).') \n",
        "\n",
        "  def __add__(self,other):#instance method\n",
        "    new_window=self.window+other.window\n",
        "    new_door=self.door+other.door\n",
        "    obj=House(new_window,new_door)\n",
        "    return obj\n",
        "\n",
        "\n",
        "h1=House(6,2)\n",
        "h2=House(4,1)\n",
        "h1.view()\n",
        "h2.view()\n",
        "h3=h1+h2 #h1.__add__(h2)\n",
        "h3.view()\n",
        "\n",
        "\n"
      ],
      "metadata": {
        "colab": {
          "base_uri": "https://localhost:8080/"
        },
        "id": "A_sUHRnbabC6",
        "outputId": "0929bdbe-bedb-4c61-f695-8aeaf5def69f"
      },
      "execution_count": null,
      "outputs": [
        {
          "output_type": "stream",
          "name": "stdout",
          "text": [
            "The house has 6 window(s) and 2 door(s).\n",
            "The house has 4 window(s) and 1 door(s).\n",
            "The house has 10 window(s) and 3 door(s).\n"
          ]
        }
      ]
    },
    {
      "cell_type": "code",
      "source": [
        "#aroo kichu examples and implementations\n",
        "\n",
        "class data:\n",
        "  def __init__(self,x):\n",
        "    self.x=x\n",
        "\n",
        "  def __gt__(self,other): \n",
        "    if (self.x >other.x):\n",
        "      return True\n",
        "    else:\n",
        "      return False\n",
        "\n",
        "num1=data(10)\n",
        "num2=data(20)\n",
        "\n",
        "if (num1>num2):  #num1.__gt__(num2)\n",
        "  print('num1 is greater then num2')\n",
        "else:\n",
        "  print('num2 is greater then num1')  \n",
        "     "
      ],
      "metadata": {
        "colab": {
          "base_uri": "https://localhost:8080/"
        },
        "id": "sZR_719h0VfI",
        "outputId": "186cea9c-a5aa-49c9-969d-1e5cca5d4a4c"
      },
      "execution_count": null,
      "outputs": [
        {
          "output_type": "stream",
          "name": "stdout",
          "text": [
            "num2 is greater then num1\n"
          ]
        }
      ]
    },
    {
      "cell_type": "code",
      "source": [
        "#operator Overloading\n",
        "class data:\n",
        "  def __init__(self,x):\n",
        "    self.x=x\n",
        "\n",
        "  def __lt__(self,other):\n",
        "    if self.x<other.x:\n",
        "      return 'num1 is less then num2'\n",
        "    else:\n",
        "      return 'num2 is less then num1' \n",
        "\n",
        "num1=data(10)\n",
        "num2=data(20)\n",
        "\n",
        "print(num1<num2)  #num1.__lt__(num2)\n"
      ],
      "metadata": {
        "colab": {
          "base_uri": "https://localhost:8080/"
        },
        "id": "CBdfMNzJ19aD",
        "outputId": "60984365-86ac-4aa7-9a5a-c4e83da70331"
      },
      "execution_count": null,
      "outputs": [
        {
          "output_type": "stream",
          "name": "stdout",
          "text": [
            "num1 is less then num2\n"
          ]
        }
      ]
    },
    {
      "cell_type": "code",
      "source": [
        "#operator Overloading\n",
        "\n",
        "class data:\n",
        "  def __init__(self,x):\n",
        "    self.x=x\n",
        "\n",
        "  def __eq__(self,other):\n",
        "    if self.x==other.x:\n",
        "      return 'Both are equal'\n",
        "    else:\n",
        "      return 'Not equal' \n",
        "\n",
        "num1=data(30)\n",
        "num2=data(30)\n",
        "\n",
        "print(num1==num2)  #num1.__eq__(num2)\n"
      ],
      "metadata": {
        "colab": {
          "base_uri": "https://localhost:8080/"
        },
        "id": "LOewOMlk2oC1",
        "outputId": "f019c9a1-2a46-4ad6-a769-bcfc39f8eab3"
      },
      "execution_count": null,
      "outputs": [
        {
          "output_type": "stream",
          "name": "stdout",
          "text": [
            "Both are equal\n"
          ]
        }
      ]
    },
    {
      "cell_type": "code",
      "source": [
        "#encapsulation  envelop\n",
        " \n",
        "class Student:\n",
        "  def __init__(self,name,id,cgpa):\n",
        "    self.name=name\n",
        "    self.id=id\n",
        "    self.cgpa=cgpa\n",
        "\n",
        "  def details(self):\n",
        "    print('Name:', self.name,'ID:',self.id,'CGPA:',self.cgpa)\n",
        "\n",
        "s1=Student('Yeashfi',11,3.97)\n",
        "s2=Student('Ifti',24,4.00)\n",
        "\n",
        "s1.cgpa='4.00' #accidentally change kore dilam \n",
        "\n",
        "s1.details()\n",
        "s2.details()\n"
      ],
      "metadata": {
        "colab": {
          "base_uri": "https://localhost:8080/"
        },
        "id": "5sFrsRDUpbfh",
        "outputId": "af08f600-3078-44b7-c525-7800e338c79f"
      },
      "execution_count": null,
      "outputs": [
        {
          "output_type": "stream",
          "name": "stdout",
          "text": [
            "Name: Yeashfi ID: 11 CGPA: 4.00\n",
            "Name: Ifti ID: 24 CGPA: 4.0\n"
          ]
        }
      ]
    },
    {
      "cell_type": "code",
      "source": [
        "#encapsulation (private)\n",
        "# data encapsulate korlam\n",
        "\n",
        "class Student:\n",
        "  def __init__(self,name,cgpa):\n",
        "    self.name=name\n",
        "    self.__cgpa=cgpa\n",
        "\n",
        "  def details(self):\n",
        "    print('Name:', self.name,'CGPA:',self.__cgpa)\n",
        "\n",
        "  def updt_cgpa(self,cgpa):\n",
        "    if cgpa>3.0:\n",
        "      self.__cgpa=cgpa  \n",
        "    else:\n",
        "      print('Invalid CGPA, enter Id again')  \n",
        "\n",
        "s1=Student('Ramisa',3.99)\n",
        "s2=Student('Zead',3.97)\n",
        "s1.updt_cgpa(3.7)\n",
        "\n",
        "s1.__cgpa=4.00 #kaaj kortesena kintu  alada akta instance variable create kore felbe\n",
        "#same naam e alada instance variable create korse\n",
        "print(s1.__dict__)\n",
        "\n",
        "# print(s1.__id) #access off kore disi xD the id is private\n",
        "s2.__cgpa='Failed' #accidentally change kore dilam \n",
        "\n",
        "print(s2.__dict__)\n",
        "\n",
        "\n",
        "s1.details() #details method call dile kaj korbe but class er bahir theke access korte parbena\n",
        "s2.details()\n"
      ],
      "metadata": {
        "colab": {
          "base_uri": "https://localhost:8080/"
        },
        "id": "iCksNdtZst2F",
        "outputId": "6eee702d-c628-48ee-f2d0-f08e1c074317"
      },
      "execution_count": null,
      "outputs": [
        {
          "output_type": "stream",
          "name": "stdout",
          "text": [
            "{'name': 'Ramisa', '_Student__cgpa': 3.7, '__cgpa': 4.0}\n",
            "{'name': 'Zead', '_Student__cgpa': 3.97, '__cgpa': 'Failed'}\n",
            "Name: Ramisa CGPA: 3.7\n",
            "Name: Zead CGPA: 3.97\n"
          ]
        }
      ]
    },
    {
      "cell_type": "code",
      "source": [
        "#conventional way method\n",
        "#getter setter method\n",
        "\n",
        "class Student:\n",
        "  def __init__(self,name,cgpa):\n",
        "    self.name=name\n",
        "    self.__cgpa=cgpa\n",
        "\n",
        "  def details(self):  #instance method\n",
        "    print('Name:',self.name,'CGPA:',self.__cgpa)\n",
        "  \n",
        "  def set_cgpa(self,cgpa):   #convention name object er cgpa set korbe value update korbe\n",
        "    if cgpa>0:\n",
        "      self.__cgpa=cgpa  \n",
        "    else:\n",
        "      print('Invalid cgpa, enter cgpa again')  \n",
        "\n",
        "  def get_cgpa(self): #shudhu cgpa check korte parbp\n",
        "    return self.__cgpa  \n",
        "\n",
        "\n",
        "s1=Student('Ahona',3.3)\n",
        "s2=Student('Tafhim',3.97)\n",
        "\n",
        "s1.set_cgpa(3.9)\n",
        "print(s1.get_cgpa()) #specifically student er cgpa ekte chaisi full details nah\n",
        "s1.details()\n",
        "s2.details()\n",
        "s2.set_cgpa(3.6)\n",
        "print(s2.get_cgpa()) \n",
        "\n"
      ],
      "metadata": {
        "id": "8QvIQrsmvF1n",
        "colab": {
          "base_uri": "https://localhost:8080/"
        },
        "outputId": "8ca41821-1dbf-4866-f7b0-55527a764a41"
      },
      "execution_count": null,
      "outputs": [
        {
          "output_type": "stream",
          "name": "stdout",
          "text": [
            "3.3\n",
            "Name: Ramisa ID: 3.3\n",
            "Name: Zead ID: 3.97\n",
            "3.6\n"
          ]
        }
      ]
    },
    {
      "cell_type": "code",
      "source": [
        "#shudhu private nah public er jonno o getter setter method sue kora jabe\n",
        "#conventional way method\n",
        "#getter setter method\n",
        "\n",
        "class Student:\n",
        "  def __init__(self,name,id):\n",
        "    self.name=name\n",
        "    self.__id=id\n",
        "  def details(self):  #instance method\n",
        "    print('Name:',self.name,'ID:',self.__id)\n",
        "  \n",
        "  def set_name(self,name):   #convention name object er id set korbe value update korbe\n",
        "    self.name=name\n",
        "    \n",
        "\n",
        "  def get_name(self): #shudhu id check korte parbp\n",
        "    return self.name  \n",
        "\n",
        "\n",
        "s1=Student('BOB',11)\n",
        "s2=Student('Carol',24)\n",
        "s1.set_name('Bushis')\n",
        "print(s1.get_name()) #specifically student er idd ekte chaisi full details nah\n",
        "s1.details()\n",
        "s2.details()"
      ],
      "metadata": {
        "colab": {
          "base_uri": "https://localhost:8080/"
        },
        "id": "TZsiZpOrS9sG",
        "outputId": "dd51ad45-363e-4436-f137-f0a5465eedee"
      },
      "execution_count": null,
      "outputs": [
        {
          "output_type": "stream",
          "name": "stdout",
          "text": [
            "Bushis\n",
            "Name: Bushis ID: 11\n",
            "Name: Carol ID: 24\n"
          ]
        }
      ]
    },
    {
      "cell_type": "code",
      "source": [
        "#shudhu private nah public er jonno o getter setter method sue kora jabe\n",
        "#conventional way method\n",
        "#getter setter method\n",
        "\n",
        "class Student:\n",
        "  def __init__(self,name,id):\n",
        "    self.name=name\n",
        "    self.__id=id\n",
        "  def details(self):  #instance method\n",
        "    print('Name:',self.name,'ID:',self.__id)\n",
        "\n",
        "  def set_id(self,id):   #convention name object er id set korbe value update korbe\n",
        "    if id>0:\n",
        "      self.__id=id  \n",
        "    else:\n",
        "      print('Invalid ID, enter Id again')  \n",
        "\n",
        "  def get_id(self): #shudhu id check korte parbp\n",
        "    return self.__id     \n",
        "  def set_name(self,name):   #convention name object er id set korbe value update korbe\n",
        "    self.name=name\n",
        "    \n",
        "\n",
        "  def get_name(self): #shudhu id check korte parbp\n",
        "    return self.name  \n",
        "\n",
        "\n",
        "s1=Student('BOB',11)\n",
        "s2=Student('Carol',24)\n",
        "s1.set_name('Yeafi')\n",
        "print(s1.get_name()) #specifically student er idd ekte chaisi full details nah\n",
        "\n",
        "\n",
        "s1.set_id(55)\n",
        "print(s1.get_id()) #specifically student er idd ekte chaisi full details nah\n",
        "\n",
        "s2.set_id(66)\n",
        "print(s2.get_id()) \n",
        "\n",
        "s1.details()\n",
        "s2.details()\n"
      ],
      "metadata": {
        "colab": {
          "base_uri": "https://localhost:8080/"
        },
        "id": "VAbgMlX3Tc7W",
        "outputId": "960c214e-f886-4582-cccf-382be291d973"
      },
      "execution_count": null,
      "outputs": [
        {
          "output_type": "stream",
          "name": "stdout",
          "text": [
            "Yeafi\n",
            "55\n",
            "66\n",
            "Name: Yeafi ID: 55\n",
            "Name: Carol ID: 66\n"
          ]
        }
      ]
    },
    {
      "cell_type": "code",
      "source": [
        "#private method\n",
        "\n",
        "# variables/attributes gulo private korsi\n",
        "# lets see how to do private method\n",
        "\n",
        "# keno dorkar\n",
        "# details method print kortese ami chai na class er baire keu method ta use koruk\n",
        "\n",
        "\n"
      ],
      "metadata": {
        "id": "DDSDdtk4WXQ-"
      },
      "execution_count": null,
      "outputs": []
    },
    {
      "cell_type": "code",
      "source": [
        "class Student:\n",
        "  def __init__(self,name,id):\n",
        "    self.name=name\n",
        "    self.__id=id\n",
        "\n",
        "  def details(self):  #instance method\n",
        "    print('Name:',self.name,'ID:',self.__id)\n",
        "    \n",
        "\n",
        "  def __method(self): #sub method directly use korte parbona\n",
        "    print('Private method executed')\n",
        "\n",
        "\n",
        "s1=Student('BOB',11)\n",
        "s2=Student('Carol',24)\n",
        "\n",
        "s1.__method()\n",
        "s1.details()"
      ],
      "metadata": {
        "colab": {
          "base_uri": "https://localhost:8080/"
        },
        "id": "TldjMm7CXDPD",
        "outputId": "48069281-0046-4edc-bbf3-8bf74fcef0b4"
      },
      "execution_count": null,
      "outputs": [
        {
          "output_type": "stream",
          "name": "stdout",
          "text": [
            "Name: BOB ID: 11\n",
            "Private method executed\n"
          ]
        }
      ]
    },
    {
      "cell_type": "code",
      "source": [
        "#how to access\n",
        "class Student:\n",
        "  def __init__(self,name,id):\n",
        "    self.name=name\n",
        "    self.__id=id\n",
        "\n",
        "  def details(self):  #instance method\n",
        "    print('Name:',self.name,'ID:',self.__id)\n",
        "    self.__method()\n",
        "    \n",
        "\n",
        "  def __method(self): #sub method directly use korte parbona\n",
        "    print('Private method executed')\n",
        "\n",
        "\n",
        "s1=Student('BOB',11)\n",
        "s2=Student('Carol',24)\n",
        "\n",
        "# s1.__method()\n",
        "s1.details()"
      ],
      "metadata": {
        "colab": {
          "base_uri": "https://localhost:8080/"
        },
        "id": "_HDsnZy2XokT",
        "outputId": "a3bff4bb-eadb-48a6-cd6a-74251830cc81"
      },
      "execution_count": null,
      "outputs": [
        {
          "output_type": "stream",
          "name": "stdout",
          "text": [
            "Name: BOB ID: 11\n",
            "Private method executed\n"
          ]
        }
      ]
    },
    {
      "cell_type": "code",
      "source": [
        "#what if we want to add objects directly\n",
        "#object howe gese object add hoise\n",
        "\n",
        "class vector:\n",
        "  def __init__(self,i):\n",
        "    self.i=i\n",
        "\n",
        "  def __add__(self,other):\n",
        "    return vector(self.i+other.i) #init diye pass hocche\n",
        "a=vector(1)\n",
        "b=vector(1)\n",
        "# print(a+b)  \n",
        "print(type(a+b))  \n",
        "c=(a.__add__(b))\n",
        "print(c)\n",
        "print(c.i)#result print korar jonno"
      ],
      "metadata": {
        "colab": {
          "base_uri": "https://localhost:8080/"
        },
        "id": "9Bwdx7mn2qrn",
        "outputId": "92029f4e-e932-4815-ff5a-56a20eca4f2a"
      },
      "execution_count": null,
      "outputs": [
        {
          "output_type": "stream",
          "name": "stdout",
          "text": [
            "<class '__main__.vector'>\n",
            "<__main__.vector object at 0x7f9c6356c790>\n",
            "2\n"
          ]
        }
      ]
    },
    {
      "cell_type": "code",
      "source": [
        "#Task:01\n",
        "\n",
        "class Exam:\n",
        "  def __init__(self,marks):\n",
        "    self.mark=marks\n",
        "\n",
        "  def __add__(self,other):\n",
        "    return Exam(self.mark+other.mark)  \n",
        "\n",
        "\n",
        "Q1 = Exam(int(input(\"Quiz 1 (out of 10): \")))\n",
        "Q2 = Exam(int(input(\"Quiz 2 (out of 10): \")))\n",
        "Lab = Exam(int(input(\"Lab (out of 30): \")))\n",
        "Mid = Exam(int(input(\"Mid (out of 20): \")))\n",
        "Final = Exam(int(input(\"Final (out of 30): \")))\n",
        "total = Q1 + Q2 + Lab + Mid + Final\n",
        "print(\"Total marks: {}\".format(total.mark))\n"
      ],
      "metadata": {
        "colab": {
          "base_uri": "https://localhost:8080/"
        },
        "id": "i8qNLvyL3-zG",
        "outputId": "a69fc867-8169-4af8-b984-88cb56f41562"
      },
      "execution_count": null,
      "outputs": [
        {
          "output_type": "stream",
          "name": "stdout",
          "text": [
            "Quiz 1 (out of 10): 10\n",
            "Quiz 2 (out of 10): 10\n",
            "Lab (out of 30): 30\n",
            "Mid (out of 20): 20\n",
            "Final (out of 30): 30\n",
            "Total marks: 100\n"
          ]
        }
      ]
    },
    {
      "cell_type": "code",
      "source": [
        "#purpose of encapsulation is restricting the access\n",
        "# to attributes and methods of a class to prevent the accidental modofication of data\n",
        "\n",
        "class student:\n",
        "  def __init__(self,name,id1):\n",
        "    self.name=name\n",
        "    self.id1=id1\n",
        "\n",
        "a=student('Nashid',22201858)    \n",
        "a.name='Ifti'\n",
        "print(a.name)\n",
        "#eta ki hoilo bhai\n",
        "#public access\n"
      ],
      "metadata": {
        "colab": {
          "base_uri": "https://localhost:8080/"
        },
        "id": "yvJYGnTg5G_-",
        "outputId": "c115531f-cf4c-4022-afbe-c74893000d06"
      },
      "execution_count": null,
      "outputs": [
        {
          "output_type": "stream",
          "name": "stdout",
          "text": [
            "Ifti\n"
          ]
        }
      ]
    },
    {
      "cell_type": "code",
      "source": [
        "#private\n",
        "#baire theke access kora jabena\n",
        "class student:\n",
        "  def __init__(self,name,id1):\n",
        "    self.__name=name\n",
        "    self.id1=id1\n",
        "\n",
        "a=student('Nashid',22201858)    \n",
        "# a.__name='Ifti'\n",
        "print(a.__name)\n",
        "#eta ki hoilo bhai\n",
        "#public access\n"
      ],
      "metadata": {
        "colab": {
          "base_uri": "https://localhost:8080/",
          "height": 236
        },
        "id": "1jee1SXB56Vd",
        "outputId": "6c3aa32f-d7b8-40d3-f740-edeaf58fa1fb"
      },
      "execution_count": null,
      "outputs": [
        {
          "output_type": "error",
          "ename": "AttributeError",
          "evalue": "ignored",
          "traceback": [
            "\u001b[0;31m---------------------------------------------------------------------------\u001b[0m",
            "\u001b[0;31mAttributeError\u001b[0m                            Traceback (most recent call last)",
            "\u001b[0;32m<ipython-input-3-91ff1cd57f6d>\u001b[0m in \u001b[0;36m<module>\u001b[0;34m\u001b[0m\n\u001b[1;32m      8\u001b[0m \u001b[0ma\u001b[0m\u001b[0;34m=\u001b[0m\u001b[0mstudent\u001b[0m\u001b[0;34m(\u001b[0m\u001b[0;34m'Nashid'\u001b[0m\u001b[0;34m,\u001b[0m\u001b[0;36m22201858\u001b[0m\u001b[0;34m)\u001b[0m\u001b[0;34m\u001b[0m\u001b[0;34m\u001b[0m\u001b[0m\n\u001b[1;32m      9\u001b[0m \u001b[0;31m# a.__name='Ifti'\u001b[0m\u001b[0;34m\u001b[0m\u001b[0;34m\u001b[0m\u001b[0m\n\u001b[0;32m---> 10\u001b[0;31m \u001b[0mprint\u001b[0m\u001b[0;34m(\u001b[0m\u001b[0ma\u001b[0m\u001b[0;34m.\u001b[0m\u001b[0m__name\u001b[0m\u001b[0;34m)\u001b[0m\u001b[0;34m\u001b[0m\u001b[0;34m\u001b[0m\u001b[0m\n\u001b[0m\u001b[1;32m     11\u001b[0m \u001b[0;31m#eta ki hoilo bhai\u001b[0m\u001b[0;34m\u001b[0m\u001b[0;34m\u001b[0m\u001b[0m\n\u001b[1;32m     12\u001b[0m \u001b[0;31m#public access\u001b[0m\u001b[0;34m\u001b[0m\u001b[0;34m\u001b[0m\u001b[0m\n",
            "\u001b[0;31mAttributeError\u001b[0m: 'student' object has no attribute '__name'"
          ]
        }
      ]
    },
    {
      "cell_type": "code",
      "source": [
        "#private\n",
        "#baire theke access kora jabena\n",
        "class student:\n",
        "  def __init__(self,name,id1):\n",
        "    self.__name=name\n",
        "    self.id1=id1\n",
        "\n",
        "a=student('Nashid',22201858) \n",
        "# print(a.__name) khuje pacchena baire theke changes pacchina   \n",
        "a.__name='V'#notun variuable banacche agerta ke use kortesena\n",
        "print(a.__name)\n",
        "print(dir(a))\n",
        "\n",
        "\n",
        "#eta ki hoilo bhai\n",
        "#public access\n"
      ],
      "metadata": {
        "colab": {
          "base_uri": "https://localhost:8080/",
          "height": 236
        },
        "id": "Pfq6J_oY6ERs",
        "outputId": "045dd9c7-35b1-402e-c667-0d7979bc5dd7"
      },
      "execution_count": null,
      "outputs": [
        {
          "output_type": "error",
          "ename": "AttributeError",
          "evalue": "ignored",
          "traceback": [
            "\u001b[0;31m---------------------------------------------------------------------------\u001b[0m",
            "\u001b[0;31mAttributeError\u001b[0m                            Traceback (most recent call last)",
            "\u001b[0;32m<ipython-input-6-b2e1b10a6da0>\u001b[0m in \u001b[0;36m<module>\u001b[0;34m\u001b[0m\n\u001b[1;32m      7\u001b[0m \u001b[0;34m\u001b[0m\u001b[0m\n\u001b[1;32m      8\u001b[0m \u001b[0ma\u001b[0m\u001b[0;34m=\u001b[0m\u001b[0mstudent\u001b[0m\u001b[0;34m(\u001b[0m\u001b[0;34m'Nashid'\u001b[0m\u001b[0;34m,\u001b[0m\u001b[0;36m22201858\u001b[0m\u001b[0;34m)\u001b[0m\u001b[0;34m\u001b[0m\u001b[0;34m\u001b[0m\u001b[0m\n\u001b[0;32m----> 9\u001b[0;31m \u001b[0mprint\u001b[0m\u001b[0;34m(\u001b[0m\u001b[0ma\u001b[0m\u001b[0;34m.\u001b[0m\u001b[0m__name\u001b[0m\u001b[0;34m)\u001b[0m\u001b[0;34m\u001b[0m\u001b[0;34m\u001b[0m\u001b[0m\n\u001b[0m\u001b[1;32m     10\u001b[0m \u001b[0ma\u001b[0m\u001b[0;34m.\u001b[0m\u001b[0m__name\u001b[0m\u001b[0;34m=\u001b[0m\u001b[0;34m'V'\u001b[0m\u001b[0;31m#notun variuable banacche agerta ke use kortesena\u001b[0m\u001b[0;34m\u001b[0m\u001b[0;34m\u001b[0m\u001b[0m\n\u001b[1;32m     11\u001b[0m \u001b[0mprint\u001b[0m\u001b[0;34m(\u001b[0m\u001b[0ma\u001b[0m\u001b[0;34m.\u001b[0m\u001b[0m__name\u001b[0m\u001b[0;34m)\u001b[0m\u001b[0;34m\u001b[0m\u001b[0;34m\u001b[0m\u001b[0m\n",
            "\u001b[0;31mAttributeError\u001b[0m: 'student' object has no attribute '__name'"
          ]
        }
      ]
    },
    {
      "cell_type": "code",
      "source": [
        "#private\n",
        "#baire theke access kora jabena\n",
        "class student:\n",
        "  def __init__(self,name,id1):\n",
        "    self.__name=name\n",
        "    self.id1=id1\n",
        "\n",
        "  def set(self,name):\n",
        "    self.__name=name \n",
        "\n",
        "\n",
        "a=student('Nashid',22201858) \n",
        "a.set('Ifti')\n",
        "print(a.__name)\n",
        "\n",
        "\n",
        "#eta ki hoilo bhai\n",
        "#public access\n"
      ],
      "metadata": {
        "colab": {
          "base_uri": "https://localhost:8080/",
          "height": 236
        },
        "id": "g_XfXxcX7Nn8",
        "outputId": "4b30a018-2a0b-4243-8054-b2c0d5d0e6ce"
      },
      "execution_count": null,
      "outputs": [
        {
          "output_type": "error",
          "ename": "AttributeError",
          "evalue": "ignored",
          "traceback": [
            "\u001b[0;31m---------------------------------------------------------------------------\u001b[0m",
            "\u001b[0;31mAttributeError\u001b[0m                            Traceback (most recent call last)",
            "\u001b[0;32m<ipython-input-7-5f964a6bd8a4>\u001b[0m in \u001b[0;36m<module>\u001b[0;34m\u001b[0m\n\u001b[1;32m     12\u001b[0m \u001b[0ma\u001b[0m\u001b[0;34m=\u001b[0m\u001b[0mstudent\u001b[0m\u001b[0;34m(\u001b[0m\u001b[0;34m'Nashid'\u001b[0m\u001b[0;34m,\u001b[0m\u001b[0;36m22201858\u001b[0m\u001b[0;34m)\u001b[0m\u001b[0;34m\u001b[0m\u001b[0;34m\u001b[0m\u001b[0m\n\u001b[1;32m     13\u001b[0m \u001b[0ma\u001b[0m\u001b[0;34m.\u001b[0m\u001b[0mset\u001b[0m\u001b[0;34m(\u001b[0m\u001b[0;34m'Ifti'\u001b[0m\u001b[0;34m)\u001b[0m\u001b[0;34m\u001b[0m\u001b[0;34m\u001b[0m\u001b[0m\n\u001b[0;32m---> 14\u001b[0;31m \u001b[0mprint\u001b[0m\u001b[0;34m(\u001b[0m\u001b[0ma\u001b[0m\u001b[0;34m.\u001b[0m\u001b[0m__name\u001b[0m\u001b[0;34m)\u001b[0m\u001b[0;34m\u001b[0m\u001b[0;34m\u001b[0m\u001b[0m\n\u001b[0m\u001b[1;32m     15\u001b[0m \u001b[0;34m\u001b[0m\u001b[0m\n\u001b[1;32m     16\u001b[0m \u001b[0;34m\u001b[0m\u001b[0m\n",
            "\u001b[0;31mAttributeError\u001b[0m: 'student' object has no attribute '__name'"
          ]
        }
      ]
    },
    {
      "cell_type": "code",
      "source": [
        "#private\n",
        "#baire theke access kora jabena\n",
        "class student:\n",
        "  def __init__(self,name,id1):\n",
        "    self.__name=name\n",
        "    self.id1=id1\n",
        "\n",
        "  def set(self,name):\n",
        "    self.__name=name \n",
        "\n",
        "  def get(self):\n",
        "    print(self.__name)  \n",
        "\n",
        "  def printdetails(self):\n",
        "    print(self.__name)\n",
        "    print(self.id1)  \n",
        "\n",
        "\n",
        "a=student('Nashid',22201858) \n",
        "a.set('Ifti')\n",
        "a.printdetails()\n",
        "a.id1='22201862'\n",
        "a.printdetails()\n",
        "a.get()\n",
        "print(a._student__name)\n",
        "\n",
        "#eta ki hoilo bhai\n",
        "#public access\n"
      ],
      "metadata": {
        "colab": {
          "base_uri": "https://localhost:8080/"
        },
        "id": "RYc4F36i7wLU",
        "outputId": "e91ce3c4-b0d1-4aa9-ad99-3f875193acc1"
      },
      "execution_count": null,
      "outputs": [
        {
          "output_type": "stream",
          "name": "stdout",
          "text": [
            "Ifti\n",
            "22201858\n",
            "Ifti\n",
            "22201862\n",
            "Ifti\n",
            "Ifti\n"
          ]
        }
      ]
    },
    {
      "cell_type": "code",
      "source": [
        "#private\n",
        "#baire theke access kora jabena\n",
        "class student:\n",
        "  def __init__(self,name,id1):\n",
        "    self.__name=name\n",
        "    self.id1=id1\n",
        "\n",
        "  def set(self,name):\n",
        "    self.__name=name \n",
        "\n",
        "  def get(self):\n",
        "    print(self.__name)  \n",
        "\n",
        "  def __printdetails(self):\n",
        "    print(self.__name)\n",
        "    print(self.id1)  \n",
        "  \n",
        "  def printd(self):\n",
        "    self.__printdetails()\n",
        "\n",
        "a=student('Nashid',22201858) \n",
        "a.set('Ifti')\n",
        "\n",
        "a.get()\n",
        "\n",
        "a.printd()\n",
        "\n"
      ],
      "metadata": {
        "colab": {
          "base_uri": "https://localhost:8080/"
        },
        "id": "2iWHkM2-77wF",
        "outputId": "9cb89021-8f34-4b22-cd4b-06e6bf732b5c"
      },
      "execution_count": null,
      "outputs": [
        {
          "output_type": "stream",
          "name": "stdout",
          "text": [
            "Ifti\n",
            "Ifti\n",
            "22201858\n"
          ]
        }
      ]
    },
    {
      "cell_type": "code",
      "source": [
        "#extra\n",
        "class Triangle:\n",
        "  def __init__(self,b,h):\n",
        "    self.__b=b\n",
        "    self.__h=h\n",
        "  def getBase(self):\n",
        "    return self.__b\n",
        "\n",
        "  def getHeight(self):\n",
        "    return self.__h\n",
        "\n",
        "  def area(self):\n",
        "    return 0.5*self.__b*self.__h\n",
        "\n",
        "  def __sub__(self,other):\n",
        "    return Triangle(self.__b-other.__b,self.__h-other.__h)\n",
        "\n",
        "\n",
        "\n",
        "\n",
        "t1 = Triangle(10, 5)\n",
        "print(\"First Triangle Base:\" , t1.getBase())\n",
        "print(\"First Triangle Height:\" , t1.getHeight())\n",
        "print(\"First Triangle area:\" ,t1.area())\n",
        "\n",
        "t2 = Triangle(5, 3)\n",
        "print(\"Second Triangle Base:\" , t2.getBase())\n",
        "print(\"Second Triangle Height:\" , t2.getHeight())\n",
        "print(\"Second Triangle area:\" ,t2.area())\n",
        "\n",
        "t3 = t1 - t2 #object\n",
        "print(\"Third Triangle Base:\" , t3.getBase())\n",
        "print(\"Third Triangle Height:\" , t3.getHeight())\n",
        "print(\"Third Triangle area:\" ,t3.area()) \n"
      ],
      "metadata": {
        "colab": {
          "base_uri": "https://localhost:8080/"
        },
        "id": "vpdAhaCb86ET",
        "outputId": "2e9bbd72-ccf6-4533-8295-17b8ab288cdb"
      },
      "execution_count": null,
      "outputs": [
        {
          "output_type": "stream",
          "name": "stdout",
          "text": [
            "First Triangle Base: 10\n",
            "First Triangle Height: 5\n",
            "First Triangle area: 25.0\n",
            "Second Triangle Base: 5\n",
            "Second Triangle Height: 3\n",
            "Second Triangle area: 7.5\n",
            "Third Triangle Base: 5\n",
            "Third Triangle Height: 2\n",
            "Third Triangle area: 5.0\n"
          ]
        }
      ]
    },
    {
      "cell_type": "code",
      "source": [
        "#extra\n",
        "class Dolls:\n",
        "  def __init__(self,name,price,f=True):\n",
        "    self.name=name\n",
        "    self.price=price\n",
        "    self.flag=f\n",
        "\n",
        "  def detail(self):\n",
        "    if self.flag==True:\n",
        "      return f'Doll:{self.name}\\nTotal Price: {self.price}'\n",
        "    else:\n",
        "      return f'Dolls:{self.name}\\nTotal Price: {self.price}' \n",
        "\n",
        "  def __gt__(self,other):\n",
        "    if self.price>other.price:\n",
        "      return True\n",
        "    else:\n",
        "      return False\n",
        "\n",
        "  def __add__(self,other):\n",
        "    name=self.name+' '+other.name\n",
        "    price=self.price+other.price\n",
        "    return Dolls(name,price,False)\n",
        "\n",
        "\n",
        "\n",
        "obj_1 = Dolls(\"Tweety\", 2500)\n",
        "print(obj_1.detail())\n",
        "if obj_1 > obj_1:\n",
        "    print(\"Congratulations! You get the Tweety as a gift!\")\n",
        "else:\n",
        "    print(\"Thank you!\")\n",
        "\n",
        "print(\"=========================\")\n",
        "obj_2 = Dolls(\"Daffy Duck\", 1800) \n",
        "print(obj_2.detail())\n",
        "if obj_2 > obj_1:\n",
        "    print(\"Congratulations! You get the Tweety as a gift!\")\n",
        "else:\n",
        "    print(\"Thank you!\")\n",
        "\n",
        "print(\"=========================\")\n",
        "obj_3 = Dolls(\"Bugs Bunny\", 3000)\n",
        "print(obj_3.detail())\n",
        "if obj_3 > obj_1:\n",
        "    print(\"Congratulations! You get the Tweety as a gift!\")\n",
        "else:\n",
        "    print(\"Thank you!\")\n",
        "\n",
        "print(\"=========================\")\n",
        "obj_4 = Dolls(\"Porky Pig\", 1500)\n",
        "print(obj_4.detail())\n",
        "if obj_4 > obj_1:\n",
        "    print(\"Congratulations! You get the Tweety as a gift!\")\n",
        "else:\n",
        "    print(\"Thank you!\")\n",
        "\n",
        "print(\"=========================\")\n",
        "obj_5 = obj_2 + obj_3\n",
        "print(obj_5.detail())\n",
        "if obj_5 > obj_1:\n",
        "    print(\"Congratulations! You get the Tweety as a gift!\")\n",
        "else:\n",
        "    print(\"Thank you!\")\n"
      ],
      "metadata": {
        "colab": {
          "base_uri": "https://localhost:8080/"
        },
        "id": "rVUNCRXIehxx",
        "outputId": "33140661-bae0-4e48-8a92-43865d24e328"
      },
      "execution_count": null,
      "outputs": [
        {
          "output_type": "stream",
          "name": "stdout",
          "text": [
            "Doll:Tweety\n",
            "Total Price: 2500\n",
            "Thank you!\n",
            "=========================\n",
            "Doll:Daffy Duck\n",
            "Total Price: 1800\n",
            "Thank you!\n",
            "=========================\n",
            "Doll:Bugs Bunny\n",
            "Total Price: 3000\n",
            "Congratulations! You get the Tweety as a gift!\n",
            "=========================\n",
            "Doll:Porky Pig\n",
            "Total Price: 1500\n",
            "Thank you!\n",
            "=========================\n",
            "Dolls:Daffy Duck Bugs Bunny\n",
            "Total Price: 4800\n",
            "Congratulations! You get the Tweety as a gift!\n"
          ]
        }
      ]
    }
  ]
}