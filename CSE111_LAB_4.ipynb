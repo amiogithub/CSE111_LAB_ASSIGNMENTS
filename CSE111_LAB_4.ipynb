{
  "nbformat": 4,
  "nbformat_minor": 0,
  "metadata": {
    "colab": {
      "provenance": []
    },
    "kernelspec": {
      "name": "python3",
      "display_name": "Python 3"
    },
    "language_info": {
      "name": "python"
    }
  },
  "cells": [
    {
      "cell_type": "markdown",
      "source": [
        "Task - 1"
      ],
      "metadata": {
        "id": "9xLg3zoRXbRT"
      }
    },
    {
      "cell_type": "code",
      "source": [
        "class Customer:\n",
        "  def __init__(self,name):\n",
        "    self.name = name\n",
        "  def greet(self,name = None):\n",
        "    if name != None:\n",
        "      print(f'Hello {self.name}!')\n",
        "    else:\n",
        "      print('Hello!')\n",
        "  def purchase(self,*args):\n",
        "    print(f'{self.name}, you purchased {len(args)} item(s)')\n",
        "    for i in args:\n",
        "      print(i)\n",
        "customer_1 = Customer(\"Sam\")\n",
        "customer_1.greet()\n",
        "customer_1.purchase(\"chips\", \"chocolate\", \"orange juice\")\n",
        "print(\"-----------------------------\")\n",
        "customer_2 = Customer(\"David\")\n",
        "customer_2.greet(\"David\")\n",
        "customer_2.purchase(\"orange juice\")\n"
      ],
      "metadata": {
        "id": "WkjRhoBkXbYz",
        "colab": {
          "base_uri": "https://localhost:8080/"
        },
        "outputId": "20f1dd78-4687-4d5d-f3a8-e1b4f6c6074a"
      },
      "execution_count": null,
      "outputs": [
        {
          "output_type": "stream",
          "name": "stdout",
          "text": [
            "Hello!\n",
            "Sam, you purchased 3 item(s)\n",
            "chips\n",
            "chocolate\n",
            "orange juice\n",
            "-----------------------------\n",
            "Hello David!\n",
            "David, you purchased 1 item(s)\n",
            "orange juice\n"
          ]
        }
      ]
    },
    {
      "cell_type": "markdown",
      "source": [
        "Task - 2"
      ],
      "metadata": {
        "id": "joAVdkiLXbor"
      }
    },
    {
      "cell_type": "code",
      "source": [
        "class Panda:\n",
        "  def __init__(self,name,gender,age):\n",
        "    self.name = name \n",
        "    self.gender = gender\n",
        "    self.age = age\n",
        "  def sleep(self,hours = None):\n",
        "    if hours == None:\n",
        "      return(f\"{self.name}'s duration is unknown thus should have only bamboo leaves\")\n",
        "    else:\n",
        "      if 3<=hours<=5:\n",
        "        food = 'Mixed Veggies'\n",
        "      elif 6<=hours<=8:\n",
        "        food = 'Eggplant and Tofu'\n",
        "      elif 9<=hours<=11:\n",
        "        food = 'Broccoli Chicken'\n",
        "      return(f'{self.name} sleeps {hours}hours daily and should have {food}')\n",
        "panda1 = Panda(\"Kunfu\", \"Male\", 5)\n",
        "panda2 = Panda(\"Pan Pan\", \"Female\",3)\n",
        "panda3 = Panda(\"Ming Ming\", \"Female\",8)\n",
        "print(\"{} is a {} Panda Bear who is {} years old\".format(panda1.name,panda1.gender,panda1.age))\n",
        "print(\"{} is a {} Panda Bear who is {} years old\".format(panda2.name,panda2.gender,panda2.age))\n",
        "print(\"{} is a {} Panda Bear who is {} years old\".format(panda3.name,panda3.gender,panda3.age))\n",
        "print(\"===========================\")\n",
        "print(panda2.sleep(10))\n",
        "print(panda1.sleep(4))\n",
        "print(panda3.sleep())"
      ],
      "metadata": {
        "id": "B9QN6dqSXbvb",
        "colab": {
          "base_uri": "https://localhost:8080/"
        },
        "outputId": "5d1273c4-b09d-4436-979d-cc28a03ba8b3"
      },
      "execution_count": null,
      "outputs": [
        {
          "output_type": "stream",
          "name": "stdout",
          "text": [
            "Kunfu is a Male Panda Bear who is 5 years old\n",
            "Pan Pan is a Female Panda Bear who is 3 years old\n",
            "Ming Ming is a Female Panda Bear who is 8 years old\n",
            "===========================\n",
            "Pan Pan sleeps 10hours daily and should have Broccoli Chicken\n",
            "Kunfu sleeps 4hours daily and should have Mixed Veggies\n",
            "Ming Ming's duration is unknown thus should have only bamboo leaves\n"
          ]
        }
      ]
    },
    {
      "cell_type": "markdown",
      "source": [
        "Task - 3"
      ],
      "metadata": {
        "id": "8-ZnsRjyXb1r"
      }
    },
    {
      "cell_type": "code",
      "source": [
        "class Cat:\n",
        "  def __init__(self,color='White',action='sitting'):\n",
        "    self.color = color\n",
        "    self.action = action\n",
        "  def changeColor(self,color):\n",
        "    self.color = color\n",
        "  def printCat(self):\n",
        "    print(f'{self.color} cat is {self.action}')\n",
        "c1 = Cat()\n",
        "c2 = Cat(\"Black\")\n",
        "c3 = Cat(\"Brown\", \"jumping\")\n",
        "c4 = Cat(\"Red\", \"purring\")\n",
        "c1.printCat()\n",
        "c2.printCat()\n",
        "c3.printCat()\n",
        "c4.printCat()\n",
        "c1.changeColor(\"Blue\")\n",
        "c3.changeColor(\"Purple\")\n",
        "c1.printCat()\n",
        "c3.printCat()\n",
        "\n"
      ],
      "metadata": {
        "id": "lR7DtL9YXb7j",
        "colab": {
          "base_uri": "https://localhost:8080/"
        },
        "outputId": "d3ace7ba-a89a-4db9-8605-55ed5559a51b"
      },
      "execution_count": null,
      "outputs": [
        {
          "output_type": "stream",
          "name": "stdout",
          "text": [
            "White cat is sitting\n",
            "Black cat is sitting\n",
            "Brown cat is jumping\n",
            "Red cat is purring\n",
            "Blue cat is sitting\n",
            "Purple cat is jumping\n"
          ]
        }
      ]
    },
    {
      "cell_type": "markdown",
      "source": [
        "Task - 4"
      ],
      "metadata": {
        "id": "LsyrTLsjXb_7"
      }
    },
    {
      "cell_type": "code",
      "source": [
        "class Student:\n",
        "  def __init__(self,name='default student'):\n",
        "    self.name = name\n",
        "  def quizcalc(self,*mark,quiz=3):\n",
        "    a=0\n",
        "    for i in mark:\n",
        "      a+=i\n",
        "    self.average = round((a/quiz),2)\n",
        "  def printdetail(self):\n",
        "    print('Hello',self.name)\n",
        "    print(f'Your average quiz score is {self.average}')\n",
        "s1 = Student()\n",
        "s1.quizcalc(10)\n",
        "print('--------------------------------')\n",
        "s1.printdetail()\n",
        "s2 = Student('Harry')\n",
        "s2.quizcalc(10,8)\n",
        "print('--------------------------------')\n",
        "s2.printdetail()\n",
        "s3 = Student('Hermione')\n",
        "s3.quizcalc(10,9,10)\n",
        "print('--------------------------------')\n",
        "s3.printdetail() \n",
        "\n",
        "    "
      ],
      "metadata": {
        "id": "-YdAZXhxXcG1",
        "colab": {
          "base_uri": "https://localhost:8080/"
        },
        "outputId": "296d7800-9584-4403-9cf5-394c6ee968c8"
      },
      "execution_count": null,
      "outputs": [
        {
          "output_type": "stream",
          "name": "stdout",
          "text": [
            "--------------------------------\n",
            "Hello default student\n",
            "Your average quiz score is 3.33\n",
            "--------------------------------\n",
            "Hello Harry\n",
            "Your average quiz score is 6.0\n",
            "--------------------------------\n",
            "Hello Hermione\n",
            "Your average quiz score is 9.67\n"
          ]
        }
      ]
    },
    {
      "cell_type": "markdown",
      "source": [
        "Task - 5"
      ],
      "metadata": {
        "id": "BngytNaTXcL6"
      }
    },
    {
      "cell_type": "code",
      "source": [
        "class Student:\n",
        "  def __init__(self,name,id,dept='CSE'):\n",
        "    self.name =name\n",
        "    self.id = id\n",
        "    self.dept = dept\n",
        "  def dailyEffort(self,effort):\n",
        "    self.effort = effort\n",
        "    if effort<=2:\n",
        "      self.suggest = 'Should give more effort!'\n",
        "    elif 2<effort<=4:\n",
        "      self.suggest = 'Keep up the good work!'\n",
        "    else:\n",
        "      self.suggest = 'Excellent! Now motivate others.'      \n",
        "  def printDetails(self):\n",
        "    print(f'Name: {self.name}\\n'\n",
        "          f'ID: {self.id}\\n'\n",
        "          f'Department: {self.dept}\\n'\n",
        "          f'Daily Effort: {self.effort} hour(s)\\n'\n",
        "          f'Suggestion: {self.suggest}')\n",
        "harry = Student('Harry Potter', 123)\n",
        "harry.dailyEffort(3)\n",
        "harry.printDetails()\t\n",
        "print('========================')\n",
        "john = Student(\"John Wick\", 456, \"BBA\")\n",
        "john.dailyEffort(2)\n",
        "john.printDetails()\n",
        "print('========================')\n",
        "naruto = Student(\"Naruto Uzumaki\", 777, \"Ninja\")\n",
        "naruto.dailyEffort(6)\n",
        "naruto.printDetails()"
      ],
      "metadata": {
        "id": "esL9TT1sXcQs",
        "colab": {
          "base_uri": "https://localhost:8080/"
        },
        "outputId": "ccedce57-7524-4b83-87df-84de08776040"
      },
      "execution_count": null,
      "outputs": [
        {
          "output_type": "stream",
          "name": "stdout",
          "text": [
            "Name: Harry Potter\n",
            "ID: 123\n",
            "Department: CSE\n",
            "Daily Effort: 3 hour(s)\n",
            "Suggestion: Keep up the good work!\n",
            "========================\n",
            "Name: John Wick\n",
            "ID: 456\n",
            "Department: BBA\n",
            "Daily Effort: 2 hour(s)\n",
            "Suggestion: Should give more effort!\n",
            "========================\n",
            "Name: Naruto Uzumaki\n",
            "ID: 777\n",
            "Department: Ninja\n",
            "Daily Effort: 6 hour(s)\n",
            "Suggestion: Excellent! Now motivate others.\n"
          ]
        }
      ]
    },
    {
      "cell_type": "code",
      "source": [
        "class Student:\n",
        "  def __init__(self,name,id,dept='CSE'):\n",
        "    self.name =name\n",
        "    self.id = id\n",
        "    self.dept = dept\n",
        "  def dailyEffort(self,effort):\n",
        "    self.effort = effort\n",
        "    if effort<=4:\n",
        "      if effort <= 2:\n",
        "        self.suggest = 'Should give more effort!'\n",
        "      else:\n",
        "        self.suggest = 'Keep up the good work!'\n",
        "    else:\n",
        "      self.suggest = 'Excellent! Now motivate others.'      \n",
        "  def printDetails(self):\n",
        "    print(f'Name: {self.name}\\n'\n",
        "          f'ID: {self.id}\\n'\n",
        "          f'Department: {self.dept}\\n'\n",
        "          f'Daily Effort: {self.effort} hour(s)\\n'\n",
        "          f'Suggestion: {self.suggest}')\n",
        "harry = Student('Harry Potter', 123)\n",
        "harry.dailyEffort(3)\n",
        "harry.printDetails()\t\n",
        "print('========================')\n",
        "john = Student(\"John Wick\", 456, \"BBA\")\n",
        "john.dailyEffort(2)\n",
        "john.printDetails()\n",
        "print('========================')\n",
        "naruto = Student(\"Naruto Uzumaki\", 777, \"Ninja\")\n",
        "naruto.dailyEffort(6)\n",
        "naruto.printDetails()"
      ],
      "metadata": {
        "id": "hkUzKmyEugL8"
      },
      "execution_count": null,
      "outputs": []
    },
    {
      "cell_type": "markdown",
      "source": [
        "Task - 6"
      ],
      "metadata": {
        "id": "ZclX4OPEXcVD"
      }
    },
    {
      "cell_type": "code",
      "source": [
        "class Patient:\n",
        "  def __init__(self,name,age):\n",
        "    self.name = name\n",
        "    self.age = age\n",
        "  def add_Symptom(self,*symps):\n",
        "    a = ''\n",
        "    for i in symps:\n",
        "      a+=i + ' '\n",
        "    print(a)\n",
        "    self.symptoms = a\n",
        "  def printPatientDetail(self):\n",
        "    print(f'Name: {self.name}\\n'\n",
        "          f'Age: {self.age}\\n'\n",
        "          f'Symptoms: {self.symptoms}')\n",
        "p1 = Patient('Thomas', 23)\n",
        "p1.add_Symptom('Headache')\n",
        "p2 = Patient('Carol', 20)\n",
        "p2.add_Symptom('Vomiting', 'Coughing')\n",
        "p3 = Patient('Mike', 25)\n",
        "p3.add_Symptom('Fever', 'Headache', 'Coughing')\n",
        "print(\"=========================\")\n",
        "p1.printPatientDetail()\n",
        "print(\"=========================\")\n",
        "p2.printPatientDetail()\n",
        "print(\"=========================\")\n",
        "p3.printPatientDetail()"
      ],
      "metadata": {
        "id": "QrUFuvBCXcar",
        "colab": {
          "base_uri": "https://localhost:8080/"
        },
        "outputId": "34c8bb1f-5f84-43f7-8f4c-d2a305e18992"
      },
      "execution_count": null,
      "outputs": [
        {
          "output_type": "stream",
          "name": "stdout",
          "text": [
            "Headache \n",
            "Vomiting Coughing \n",
            "Fever Headache Coughing \n",
            "=========================\n",
            "Name: Thomas\n",
            "Age: 23\n",
            "Symptoms: Headache \n",
            "=========================\n",
            "Name: Carol\n",
            "Age: 20\n",
            "Symptoms: Vomiting Coughing \n",
            "=========================\n",
            "Name: Mike\n",
            "Age: 25\n",
            "Symptoms: Fever Headache Coughing \n"
          ]
        }
      ]
    },
    {
      "cell_type": "markdown",
      "source": [
        "Task - 7"
      ],
      "metadata": {
        "id": "1x3xmqKtXce7"
      }
    },
    {
      "cell_type": "code",
      "source": [
        "class Match:\n",
        "  def __init__(self,name):\n",
        "    name = name.split('-')\n",
        "    self.t1 , self.t2 = name\n",
        "    print('5..4..3..2..1.. Play !!!')"
      ],
      "metadata": {
        "id": "p_t6WgyvXcjT"
      },
      "execution_count": null,
      "outputs": []
    },
    {
      "cell_type": "markdown",
      "source": [
        "Task - 8"
      ],
      "metadata": {
        "id": "_IU-BK_vXcm7"
      }
    },
    {
      "cell_type": "code",
      "source": [
        "a = 'like'\n",
        "s = 'comment'\n",
        "c = [a,s]\n",
        "b = []\n",
        "for i in c:\n",
        "  b.append(i)\n",
        "print(b,'(List)')\n",
        "a = ','.join(b) \n",
        "print(a,'(List joined)')\n",
        "print('--------------------------------------------------------------')\n",
        "print('--------------------------------------------------------------')\n",
        "c = tuple(b)\n",
        "print(c,'(Tuple)')\n",
        "print('--------------------------------------------------------------')\n",
        "print('--------------------------------------------------------------')\n",
        "c = ','.join(c)\n",
        "print(c,'(Tuple joined)')"
      ],
      "metadata": {
        "colab": {
          "base_uri": "https://localhost:8080/"
        },
        "id": "fNGjampAUL8Q",
        "outputId": "39932077-a128-4184-aff4-7f3e47a6a063"
      },
      "execution_count": null,
      "outputs": [
        {
          "output_type": "stream",
          "name": "stdout",
          "text": [
            "['like', 'comment'] (List)\n",
            "like,comment (List joined)\n",
            "--------------------------------------------------------------\n",
            "--------------------------------------------------------------\n",
            "('like', 'comment') (Tuple)\n",
            "--------------------------------------------------------------\n",
            "--------------------------------------------------------------\n",
            "like,comment (Tuple joined)\n"
          ]
        }
      ]
    },
    {
      "cell_type": "code",
      "source": [
        ".class ParcelKoro:\n",
        "  def __init__(self,name='No name set',weight=0):\n",
        "    self.name = name\n",
        "    self.product_weight = weight\n",
        "  def calculateFee(self,location=None):\n",
        "    if location == None:\n",
        "      delivery = 50\n",
        "    else:\n",
        "      delivery = 100\n",
        "    self.total = (self.product_weight * 20) + delivery\n",
        "  def printDetails(self):\n",
        "    if self.product_weight == 0:\n",
        "      self.total = 0\n",
        "    print(f'Customer Name: {self.name}\\n'\n",
        "          f'Product Weight: {self.product_weight}\\n'\n",
        "          f'Total fee: {self.total}')\n",
        "print(\"**********************\")\n",
        "p1 = ParcelKoro()\n",
        "p1.calculateFee()\n",
        "p1.printDetails()\n",
        "print(\"**********************\")\n",
        "p2 = ParcelKoro('Bob The Builder')\n",
        "p2.calculateFee()\n",
        "p2.printDetails()\n",
        "print(\"----------------------------\")\n",
        "p2.product_weight = 15\n",
        "p2.calculateFee()\n",
        "p2.printDetails()\n",
        "print(\"**********************\")\n",
        "p3 = ParcelKoro('Dora The Explorer', 10)\n",
        "p3.calculateFee('Dhanmondi')\n",
        "p3.printDetails()"
      ],
      "metadata": {
        "id": "k_tJ9jVtXcrk",
        "colab": {
          "base_uri": "https://localhost:8080/"
        },
        "outputId": "7a554532-e0db-4ddf-b60c-c90920fff50e"
      },
      "execution_count": null,
      "outputs": [
        {
          "output_type": "stream",
          "name": "stdout",
          "text": [
            "**********************\n",
            "Customer Name: No name set\n",
            "Product Weight: 0\n",
            "Total fee: 0\n",
            "**********************\n",
            "Customer Name: Bob The Builder\n",
            "Product Weight: 0\n",
            "Total fee: 0\n",
            "----------------------------\n",
            "Customer Name: Bob The Builder\n",
            "Product Weight: 15\n",
            "Total fee: 350\n",
            "**********************\n",
            "Customer Name: Dora The Explorer\n",
            "Product Weight: 10\n",
            "Total fee: 300\n"
          ]
        }
      ]
    },
    {
      "cell_type": "markdown",
      "source": [
        "Task - 9"
      ],
      "metadata": {
        "id": "pXA5XYidXcvc"
      }
    },
    {
      "cell_type": "code",
      "source": [],
      "metadata": {
        "id": "tpL-nH0eXc3i"
      },
      "execution_count": null,
      "outputs": []
    },
    {
      "cell_type": "markdown",
      "source": [
        "Task - 10"
      ],
      "metadata": {
        "id": "WpucV6xHXc_D"
      }
    },
    {
      "cell_type": "code",
      "source": [
        "class EPL_Team:\n",
        "  def __init__(self,name,song='No Slogan'):\n",
        "    self.name = name\n",
        "    self.song = song\n",
        "    self.title = 0\n",
        "  def increaseTitle(self):\n",
        "    self.title+=1\n",
        "  def changeSong(self,song):\n",
        "    self.song = song\n",
        "  def showClubInfo(self):\n",
        "    return(f'Name: {self.name}\\n'\n",
        "          f'Song: {self.song}\\n'\n",
        "          f'Total no. of title: {self.title}')\n",
        "manu = EPL_Team('Manchester United', 'Glory Glory Man United')\n",
        "chelsea = EPL_Team('Chelsea')\n",
        "print('===================')\n",
        "print(manu.showClubInfo())\n",
        "print('##################')\n",
        "manu.increaseTitle()\n",
        "print(manu.showClubInfo())\n",
        "print('===================')\n",
        "print(chelsea.showClubInfo())\n",
        "chelsea.changeSong('Keep the blue flag flying high')\n",
        "print(chelsea.showClubInfo())\n"
      ],
      "metadata": {
        "id": "raSj_YotXdET",
        "colab": {
          "base_uri": "https://localhost:8080/"
        },
        "outputId": "c4aa6745-a1de-4a37-d145-56aca48c95e1"
      },
      "execution_count": null,
      "outputs": [
        {
          "output_type": "stream",
          "name": "stdout",
          "text": [
            "===================\n",
            "Name: Manchester United\n",
            "Song: Glory Glory Man United\n",
            "Total no. of title: 0\n",
            "##################\n",
            "Name: Manchester United\n",
            "Song: Glory Glory Man United\n",
            "Total no. of title: 1\n",
            "===================\n",
            "Name: Chelsea\n",
            "Song: No Slogan\n",
            "Total no. of title: 0\n",
            "Name: Chelsea\n",
            "Song: Keep the blue flag flying high\n",
            "Total no. of title: 0\n"
          ]
        }
      ]
    },
    {
      "cell_type": "markdown",
      "source": [
        "Task - 11"
      ],
      "metadata": {
        "id": "05ocVFEfXdIU"
      }
    },
    {
      "cell_type": "code",
      "source": [
        "class Author:\n",
        "  def __init__(self,name=\"Default\",*book):\n",
        "    self.name = name\n",
        "    self.book = []\n",
        "    if len(book) != 0:\n",
        "      for i in book:\n",
        "        self.book.append(i)\n",
        "  def changeName(self,name2):\n",
        "    self.name = name2\n",
        "  def addBooks(self,*books):\n",
        "    for i in books:\n",
        "      if i not in self.book:\n",
        "        self.book.append(i)\n",
        "  def printDetails(self):\n",
        "    print(f'Author Name: {self.name}\\n'\n",
        "          f'--------\\n'\n",
        "          f'List of books:')\n",
        "    for i in self.book:\n",
        "      print(i)\n",
        "auth1 = Author('Humayun Ahmed')\n",
        "auth1.addBooks('Deyal', 'Megher Opor Bari')\n",
        "auth1.printDetails()\n",
        "print('===================')\n",
        "auth2 = Author()\n",
        "print(auth2.name)\n",
        "auth2.changeName('Mario Puzo')\n",
        "auth2.addBooks('The Godfather', 'Omerta', 'The Sicilian')\n",
        "print('===================')\n",
        "auth2.printDetails()\n",
        "print('===================')\n",
        "auth3 = Author('Paolo Coelho', 'The Alchemist', 'The Fifth Mountain')\n",
        "auth3.printDetails()"
      ],
      "metadata": {
        "id": "FmUkZszCXdNT",
        "colab": {
          "base_uri": "https://localhost:8080/"
        },
        "outputId": "3e414605-8f1f-4722-8c5b-1193f3e1b832"
      },
      "execution_count": null,
      "outputs": [
        {
          "output_type": "stream",
          "name": "stdout",
          "text": [
            "Author Name: Humayun Ahmed\n",
            "--------\n",
            "List of books:\n",
            "Deyal\n",
            "Megher Opor Bari\n",
            "===================\n",
            "Default\n",
            "===================\n",
            "Author Name: Mario Puzo\n",
            "--------\n",
            "List of books:\n",
            "The Godfather\n",
            "Omerta\n",
            "The Sicilian\n",
            "===================\n",
            "Author Name: Paolo Coelho\n",
            "--------\n",
            "List of books:\n",
            "The Alchemist\n",
            "The Fifth Mountain\n"
          ]
        }
      ]
    },
    {
      "cell_type": "markdown",
      "source": [
        "Task - 12"
      ],
      "metadata": {
        "id": "lHXustIgXdXD"
      }
    },
    {
      "cell_type": "code",
      "source": [
        "class TaxiLagbe:\n",
        "  def __init__(self,info,area):\n",
        "    self.info = info\n",
        "    self.area = area\n",
        "  def addPassenger(self,*passengers):\n",
        "    for i in passengers:\n",
        "      \n",
        "      for j in range(len(i)):\n",
        "        if i[j] == '_':\n",
        "          indx = j\n",
        "      print(f'Dear {i[:indx]}! Welcome to TaxiLagbe.')\n",
        "taxi1 = TaxiLagbe('1010-01', 'Dhaka')\n",
        "print('-------------------------------')\n",
        "taxi1.addPassenger('Walker_100', 'Wood_200')\n",
        "taxi1.addPassenger('Matt_100')\n",
        "taxi1.addPassenger('Wilson_105')\n",
        "\n",
        "          "
      ],
      "metadata": {
        "id": "AsQI_M_sXdcb",
        "colab": {
          "base_uri": "https://localhost:8080/"
        },
        "outputId": "5bce5b06-fb43-4f8a-bff6-96dd7c82f303"
      },
      "execution_count": null,
      "outputs": [
        {
          "output_type": "stream",
          "name": "stdout",
          "text": [
            "-------------------------------\n",
            "Dear Walker! Welcome to TaxiLagbe.\n",
            "Dear Wood! Welcome to TaxiLagbe.\n",
            "Dear Matt! Welcome to TaxiLagbe.\n",
            "Dear Wilson! Welcome to TaxiLagbe.\n"
          ]
        }
      ]
    },
    {
      "cell_type": "code",
      "source": [
        "class TaxiLagbe:\n",
        "  def __init__(self,info,area):\n",
        "    self.info = info\n",
        "    self.area = area\n",
        "    self.count=0\n",
        "    self.name = []\n",
        "    self.total = 0\n",
        "  def addPassenger(self,*seats):\n",
        "      for i in seats:\n",
        "        self.count+=1\n",
        "        lst = i.split('_')\n",
        "        name = lst[0]\n",
        "        fare = int(lst[1])\n",
        "        if self.count <= 4:\n",
        "          print(f'Dear {name}! Welcome to TaxiLagbe.')\n",
        "          self.name.append(name)\n",
        "          self.total += fare\n",
        "      if self.count >4:\n",
        "        print('Taxi Full! No more passengers can be added.')\n",
        "\n",
        "  def printDetails(self):\n",
        "    print(f'Trip info for Taxi number: {self.info}\\n'\n",
        "          f'This taxi can cover only {self.area} area.\\n'\n",
        "          f'Total passengers: {len(self.name)}\\n'\n",
        "          f'Passenger lists:')   \n",
        "    if self.count <=4:\n",
        "      self.name = ','.join(self.name)\n",
        "    print(self.name)\n",
        "    print(f'Total collected fare: {self.total} Taka ')\n",
        "taxi1 = TaxiLagbe('1010-01', 'Dhaka')\n",
        "print('-------------------------------')\n",
        "taxi1.addPassenger('Walker_100', 'Wood_200')\n",
        "taxi1.addPassenger('Matt_100')\n",
        "taxi1.addPassenger('Wilson_105')\n",
        "print('-------------------------------')\n",
        "taxi1.printDetails()\n",
        "print('-------------------------------')\n",
        "taxi1.addPassenger('Karen_200')\n",
        "print('-------------------------------')\n",
        "taxi1.printDetails()\n",
        "print('-------------------------------')\n",
        "taxi2 = TaxiLagbe('1010-02', 'Khulna')\n",
        "taxi2.addPassenger('Ronald_115')\n",
        "taxi2.addPassenger('Parker_215')\n",
        "print('-------------------------------')\n",
        "taxi2.printDetails()"
      ],
      "metadata": {
        "id": "qBbJUPvK4faJ",
        "colab": {
          "base_uri": "https://localhost:8080/"
        },
        "outputId": "8e66f558-4cbd-4b5f-f57b-b06c05b7247f"
      },
      "execution_count": null,
      "outputs": [
        {
          "output_type": "stream",
          "name": "stdout",
          "text": [
            "-------------------------------\n",
            "Dear Walker! Welcome to TaxiLagbe.\n",
            "Dear Wood! Welcome to TaxiLagbe.\n",
            "Dear Matt! Welcome to TaxiLagbe.\n",
            "Dear Wilson! Welcome to TaxiLagbe.\n",
            "-------------------------------\n",
            "Trip info for Taxi number: 1010-01\n",
            "This taxi can cover only Dhaka area.\n",
            "Total passengers: 4\n",
            "Passenger lists:\n",
            "Walker,Wood,Matt,Wilson\n",
            "Total collected fare: 505 Taka \n",
            "-------------------------------\n",
            "Taxi Full! No more passengers can be added.\n",
            "-------------------------------\n",
            "Trip info for Taxi number: 1010-01\n",
            "This taxi can cover only Dhaka area.\n",
            "Total passengers: 23\n",
            "Passenger lists:\n",
            "Walker,Wood,Matt,Wilson\n",
            "Total collected fare: 505 Taka \n",
            "-------------------------------\n",
            "Dear Ronald! Welcome to TaxiLagbe.\n",
            "Dear Parker! Welcome to TaxiLagbe.\n",
            "-------------------------------\n",
            "Trip info for Taxi number: 1010-02\n",
            "This taxi can cover only Khulna area.\n",
            "Total passengers: 2\n",
            "Passenger lists:\n",
            "Ronald,Parker\n",
            "Total collected fare: 330 Taka \n"
          ]
        }
      ]
    },
    {
      "cell_type": "markdown",
      "source": [
        "Task - 13"
      ],
      "metadata": {
        "id": "JOhaGb-NXdh8"
      }
    },
    {
      "cell_type": "code",
      "source": [
        "class Account:\n",
        "  def __init__(self,name='Default Account',amount=0.0):\n",
        "    self.name = name\n",
        "    self.balance = amount\n",
        "    self.minimum = 3070.0 #not necessary .....but why 3070 specifically?\n",
        "  def details(self):\n",
        "    return(f'{self.name}\\n'\n",
        "           f'{self.balance}')\n",
        "  def withdraw(self,withdraw):\n",
        "    #self.balance= self.balance - withdraw\n",
        "    if (self.balance - withdraw) <=self.minimum:\n",
        "      print('Sorry, Withdraw unsuccessful! The account balance after deducting withdraw amount is equal to or less than minimum.')\n",
        "    else:\n",
        "      self.balance -= withdraw\n",
        "      print(f'Withdraw successful! New balance is: {self.balance}')  #self.balance - withdraw\n",
        "a1 = Account()\n",
        "print(a1.details())\n",
        "print(\"------------------------\")\n",
        "a1.name = \"Oliver\"\n",
        "a1.balance = 10000.0\n",
        "print(a1.details())\n",
        "print(\"------------------------\")\n",
        "a2 = Account(\"Liam\")\n",
        "print(a2.details())\n",
        "print(\"------------------------\")\n",
        "a3 = Account(\"Noah\",400)\n",
        "print(a3.details())\n",
        "print(\"------------------------\")\n",
        "a1.withdraw(6930)\n",
        "print(\"------------------------\")\n",
        "a2.withdraw(600)\n",
        "print(\"------------------------\")\n",
        "a1.withdraw(6929)"
      ],
      "metadata": {
        "id": "QggPlx2TXdmz",
        "colab": {
          "base_uri": "https://localhost:8080/"
        },
        "outputId": "70274876-88cf-4e77-faab-be4ba2fa612e"
      },
      "execution_count": null,
      "outputs": [
        {
          "output_type": "stream",
          "name": "stdout",
          "text": [
            "Default Account\n",
            "0.0\n",
            "------------------------\n",
            "Oliver\n",
            "10000.0\n",
            "------------------------\n",
            "Liam\n",
            "0.0\n",
            "------------------------\n",
            "Noah\n",
            "400\n",
            "------------------------\n",
            "Sorry, Withdraw unsuccessful! The account balance after deducting withdraw amount is equal to or less than minimum.\n",
            "------------------------\n",
            "Sorry, Withdraw unsuccessful! The account balance after deducting withdraw amount is equal to or less than minimum.\n",
            "------------------------\n",
            "Withdraw successful! New balance is: 3071.0\n"
          ]
        }
      ]
    },
    {
      "cell_type": "markdown",
      "source": [
        "Task - 14"
      ],
      "metadata": {
        "id": "5bi4Plo7XdsC"
      }
    },
    {
      "cell_type": "code",
      "source": [
        "class StudentDatabase:\n",
        "  def __init__(self,name,id):\n",
        "    self.name = name\n",
        "    self.id = id\n",
        "    self.grades = {}\n",
        "  def calculateGPA(self,courses,year):   \n",
        "    self.courses = []\n",
        "    self.year = year\n",
        "    self.avg = 0 \n",
        "    for i in courses:\n",
        "      temp = i.split(': ')\n",
        "      name = temp[0]\n",
        "      marks = float(temp[1])\n",
        "      self.courses.append(name)     \n",
        "      self.avg += marks\n",
        "    self.avg = round(self.avg/len(courses),2)\n",
        "    temp = {}    \n",
        "    temp[tuple(self.courses)] = self.avg\n",
        "    self.grades[self.year]=temp\n",
        "  def printDetails(self):\n",
        "    print(f'Name: {self.name}\\n'\n",
        "          f'ID: {self.id}')\n",
        "    for year,courses in self.grades.items():\n",
        "      print(f'Courses taken in {year}:')\n",
        "      for tuples in courses:\n",
        "        for each_course in tuples:\n",
        "          print(each_course)\n",
        "      print(f'GPA: {self.avg}')\n",
        "s1 = StudentDatabase('Pietro', '10101222')\n",
        "s1.calculateGPA(['CSE230: 4.0', 'CSE220: 4.0', 'MAT110: 4.0'], 'Summer2020')\n",
        "s1.calculateGPA(['CSE250: 3.7', 'CSE330: 4.0'], 'Summer2021')\n",
        "print(f'Grades for {s1.name}\\n{s1.grades}')\n",
        "print('------------------------------------------------------')\n",
        "s1.printDetails()\n",
        "s2 = StudentDatabase('Wanda', '10103332')\n",
        "s2.calculateGPA(['CSE111: 3.7', 'CSE260: 3.7', 'ENG101: 4.0'], 'Summer2022')\n",
        "print('------------------------------------------------------')\n",
        "print(f'Grades for {s2.name}\\n{s2.grades}')\n",
        "print('------------------------------------------------------')\n",
        "s2.printDetails()"
      ],
      "metadata": {
        "id": "2g9Cx7cJXdxc",
        "colab": {
          "base_uri": "https://localhost:8080/"
        },
        "outputId": "ae549796-986d-4770-8058-212cdc92bfa9"
      },
      "execution_count": null,
      "outputs": [
        {
          "output_type": "stream",
          "name": "stdout",
          "text": [
            "Grades for Pietro\n",
            "{'Summer2020': {('CSE230', 'CSE220', 'MAT110'): 4.0}, 'Summer2021': {('CSE250', 'CSE330'): 3.85}}\n",
            "------------------------------------------------------\n",
            "Name: Pietro\n",
            "ID: 10101222\n",
            "Courses taken in Summer2020:\n",
            "CSE230\n",
            "CSE220\n",
            "MAT110\n",
            "GPA: 3.85\n",
            "Courses taken in Summer2021:\n",
            "CSE250\n",
            "CSE330\n",
            "GPA: 3.85\n",
            "------------------------------------------------------\n",
            "Grades for Wanda\n",
            "{'Summer2022': {('CSE111', 'CSE260', 'ENG101'): 3.8}}\n",
            "------------------------------------------------------\n",
            "Name: Wanda\n",
            "ID: 10103332\n",
            "Courses taken in Summer2022:\n",
            "CSE111\n",
            "CSE260\n",
            "ENG101\n",
            "GPA: 3.8\n"
          ]
        }
      ]
    },
    {
      "cell_type": "code",
      "source": [
        "a = 3.12345\n",
        "b = round(a,2)\n",
        "print(b)"
      ],
      "metadata": {
        "colab": {
          "base_uri": "https://localhost:8080/"
        },
        "id": "DDB-LT8VIEdK",
        "outputId": "9f0e1b86-5bfe-4a23-af8c-8129350eea95"
      },
      "execution_count": null,
      "outputs": [
        {
          "output_type": "stream",
          "name": "stdout",
          "text": [
            "3.12\n"
          ]
        }
      ]
    },
    {
      "cell_type": "markdown",
      "source": [
        "Task - 20"
      ],
      "metadata": {
        "id": "znBTe9r4Xd2b"
      }
    },
    {
      "cell_type": "code",
      "source": [
        "class Student:\n",
        "  def __init__(self,name = None,dept=None):\n",
        "    self.dict1={}\n",
        "    self.name = name\n",
        "    self.dept = dept\n",
        "    self.dict1[self.name] = self.dept\n",
        "    if name==None and dept == None:\n",
        "        print('Student name and department need to be set')\n",
        "    elif dept == None:\n",
        "        #self.dict1[self.name] = ''\n",
        "        print(f'Department for {self.name} needs to be set')\n",
        "    else:\n",
        "      print(f'{self.name} is from {self.dept} department')     \n",
        "  def update_name(self,name):\n",
        "    temp = self.dict1[self.name]\n",
        "    del self.dict1[self.name]\n",
        "    self.name = name\n",
        "    self.dict1[self.name]=temp\n",
        "  def update_department(self,dept):\n",
        "    self.dict1[self.name] = dept\n",
        "  def enroll(self,*subs):\n",
        "    self.subjects = subs\n",
        "  def printDetail(self):\n",
        "    print(f'Name: {self.name}\\n'\n",
        "          f'Department: {self.dept}\\n'\n",
        "          f'{self.name} enrolled in {len(self.subjects)} course(s)')\n",
        "    self.subjects = ','.join(self.subjects)\n",
        "    print(self.subjects)\n",
        "s1 = Student()\n",
        "print(\"=========================\")\n",
        "s2 = Student(\"Carol\")\n",
        "print(\"=========================\")\n",
        "s3 = Student(\"Jon\", \"EEE\")\n",
        "print(\"=========================\")\n",
        "s1.update_name(\"Bob\")\n",
        "s1.update_department(\"CSE\")\n",
        "s2.update_department(\"BBA\")\n",
        "s1.enroll(\"CSE110\", \"MAT110\", \"ENG091\")\n",
        "s2.enroll(\"BUS101\")\n",
        "s3.enroll(\"MAT110\", \"PHY111\")\n",
        "print(\"###########################\")\n",
        "s1.printDetail()\n",
        "print(\"=========================\")\n",
        "s2.printDetail()\n",
        "print(\"=========================\")\n",
        "s3.printDetail()  "
      ],
      "metadata": {
        "id": "VTHbmX4mXd8q",
        "colab": {
          "base_uri": "https://localhost:8080/"
        },
        "outputId": "0341f702-a908-4210-8bc8-a74dfaa9e1df"
      },
      "execution_count": null,
      "outputs": [
        {
          "output_type": "stream",
          "name": "stdout",
          "text": [
            "Bob is from CSE department\n",
            "=========================\n",
            "Carol is from CSE department\n",
            "=========================\n",
            "Jon is from EEE department\n",
            "=========================\n",
            "###########################\n",
            "Name: Bob\n",
            "Department: CSE\n",
            "Bob enrolled in 3 course(s)\n",
            "CSE110,MAT110,ENG091\n",
            "=========================\n",
            "Name: Carol\n",
            "Department: CSE\n",
            "Carol enrolled in 1 course(s)\n",
            "BUS101\n",
            "=========================\n",
            "Name: Jon\n",
            "Department: EEE\n",
            "Jon enrolled in 2 course(s)\n",
            "MAT110,PHY111\n"
          ]
        }
      ]
    },
    {
      "cell_type": "markdown",
      "source": [
        "Task - 21"
      ],
      "metadata": {
        "id": "NOlal0e-XeCD"
      }
    },
    {
      "cell_type": "code",
      "source": [
        "class Student:\n",
        "  def __init__(self,name,id,dept):\n",
        "    self.name = name\n",
        "    self.ID = id\n",
        "    self.dept = dept\n",
        "  def details(self):\n",
        "    return(f'Name: {self.name}\\n'\n",
        "           f'ID: {self.ID}\\n'\n",
        "           f'Department: {self.dept}')\n",
        "  def advise(self,*courses):\n",
        "    print(f'{self.name}, you have taken {(float(len(courses)))*3} credits')\n",
        "    self.courses = ', '.join(courses)\n",
        "    print(f'List of courses: {self.courses}')\n",
        "    if 9<=(len(courses)*3)<=12:\n",
        "      self.flag = \"OK\"\n",
        "    else:\n",
        "      if len(courses)*3<9:\n",
        "        self.flag = (f'You have to take at least {((9-(len(courses)*3))//3)} more course(s).')\n",
        "      elif len(courses)*3 >12:\n",
        "        self.flag = (f'You have to drop at least {(((len(courses)*3)-12)//3)} more course(s).')\n",
        "    print(f'Status: {self.flag}')\n",
        "s1 = Student('Alice','20103012','CSE')\n",
        "s2 = Student('Bob', '18301254','EEE')\n",
        "s3 = Student('Carol', '17101238','CSE')\n",
        "print('##########################')\n",
        "print(s1.details())\n",
        "print('##########################')\n",
        "print(s2.details())\n",
        "print('##########################')\n",
        "s1.advise('CSE110', 'MAT110', 'PHY111')\n",
        "print('##########################')\n",
        "s2.advise('BUS101', 'MAT120')\n",
        "print('##########################')\n",
        "s3.advise('MAT110', 'PHY111', 'ENG102', 'CSE111', 'CSE230')"
      ],
      "metadata": {
        "id": "DdaKJkDhXeXs",
        "colab": {
          "base_uri": "https://localhost:8080/"
        },
        "outputId": "29bc74a5-86a7-4d6f-98fe-2f7f1b318cc7"
      },
      "execution_count": null,
      "outputs": [
        {
          "output_type": "stream",
          "name": "stdout",
          "text": [
            "##########################\n",
            "Name: Alice\n",
            "ID: 20103012\n",
            "Department: CSE\n",
            "##########################\n",
            "Name: Bob\n",
            "ID: 18301254\n",
            "Department: EEE\n",
            "##########################\n",
            "Alice, you have taken 9.0 credits\n",
            "List of courses: CSE110, MAT110, PHY111\n",
            "Status: OK\n",
            "##########################\n",
            "Bob, you have taken 6.0 credits\n",
            "List of courses: BUS101, MAT120\n",
            "Status: You have to take at least 1 more course(s).\n",
            "##########################\n",
            "Carol, you have taken 15.0 credits\n",
            "List of courses: MAT110, PHY111, ENG102, CSE111, CSE230\n",
            "Status: You have to drop at least 1 more course(s).\n"
          ]
        }
      ]
    },
    {
      "cell_type": "markdown",
      "source": [
        "Task - 22"
      ],
      "metadata": {
        "id": "m1vQWideYEe6"
      }
    },
    {
      "cell_type": "code",
      "source": [
        "class Hotel:\n",
        "  def __init__(self,name):\n",
        "    self.name = name\n",
        "    self.countstaff = 0\n",
        "    self.countguest = 0\n",
        "    self.dictstaff = {}\n",
        "    self.dictguest = {}\n",
        "  def addStuff(self,name,age,phine=000):\n",
        "    self.countstaff+=1\n",
        "    print(f'Staff With ID {self.countstaff} is added')\n",
        "    self.dictstaff[self.count] = self.name\n",
        "  def addGuest(self,name,age,phine=000):\n",
        "    self.countguest+=1\n",
        "    print(f'Staff With ID {self.countguest} is added')\n",
        "    self.dictstaff[self.count] = self.name\n",
        "\n",
        "\n"
      ],
      "metadata": {
        "id": "gRLw4tCxYEXD"
      },
      "execution_count": null,
      "outputs": []
    },
    {
      "cell_type": "markdown",
      "source": [
        "Task - 23"
      ],
      "metadata": {
        "id": "ii3b5inkYEHr"
      }
    },
    {
      "cell_type": "code",
      "source": [],
      "metadata": {
        "id": "xgYVexBaYD7j"
      },
      "execution_count": null,
      "outputs": []
    },
    {
      "cell_type": "markdown",
      "source": [
        "Task - 24"
      ],
      "metadata": {
        "id": "yZOwnYCBYDwC"
      }
    },
    {
      "cell_type": "code",
      "source": [],
      "metadata": {
        "id": "H4r53h7UYDci"
      },
      "execution_count": null,
      "outputs": []
    },
    {
      "cell_type": "markdown",
      "source": [
        "Task - 25"
      ],
      "metadata": {
        "id": "aRc0i9IlYDBr"
      }
    },
    {
      "cell_type": "code",
      "source": [
        "class Vaccine:\n",
        "  def __init__(self,name,country,next):\n",
        "    self.name = name\n",
        "    self.country = country \n",
        "    self.next = next\n",
        "class Person:\n",
        "  def __init__(self,name,age,occup):\n",
        "    self.name = name \n",
        "    self.age=age\n",
        "    self.occupation = occup\n",
        "  def pushVaccine(self,brand):\n",
        "    self.vac_name,country,self.days=brand\n",
        "    self.dict1 = {}\n",
        "    if len(self.dict1) == 0:\n",
        "      self.dict1[brand] = 1\n",
        "      print(f'1st dose done for {self.name}')\n",
        "    else:\n",
        "      if brand == self.dict1[0]:\n",
        "        self.dict1[brand] += 1\n",
        "      else:\n",
        "        print(f'Sorry {self.name}, you can’t take 2 different vaccines')"
      ],
      "metadata": {
        "id": "f_P9mKF3YIig"
      },
      "execution_count": null,
      "outputs": []
    },
    {
      "cell_type": "markdown",
      "source": [
        "  "
      ],
      "metadata": {
        "id": "mDRoAPLIvLwF"
      }
    },
    {
      "cell_type": "code",
      "source": [
        "class Vaccine:\n",
        "  def __init__(self,name,country,next):\n",
        "    self.name = name\n",
        "    self.country = country \n",
        "    self.next = next\n",
        "class Person:\n",
        "  def __init__(self,name,age,occup='General Citizen'):\n",
        "    self.name = name \n",
        "    self.age=age\n",
        "    self.occupation = occup\n",
        "    self.dict1 = {}\n",
        "  def pushVaccine(self,brand,count='1st Dose'):\n",
        "    self.vac_name=brand.name\n",
        "    self.days = brand.next    \n",
        "    if self.age >=25 or self.occupation == 'Student':\n",
        "          if len(self.dict1) == 0 and count == '1st Dose':\n",
        "                  self.dict1[brand] = 1\n",
        "                  self.flag = f'Please come after {self.days} days'\n",
        "                  print(f'1st dose done for {self.name}')\n",
        "          else:\n",
        "            if brand in self.dict1 and count == '2nd Dose':\n",
        "              self.dict1[brand] += 1\n",
        "              print(f'2nd dose done for {self.name}')\n",
        "              self.flag = 'Given'\n",
        "            else:\n",
        "              print(f'Sorry {self.name}, you can’t take 2 different vaccines')\n",
        "    else:\n",
        "      print(f'Sorry {self.name}, Minimum age for taking vaccines is 25 years now.')\n",
        "    \n",
        "  def showDetail(self):\n",
        "    print(f'Name: {self.name} Age: {self.age} Type: {self.occupation}\\n'\n",
        "          f'Vaccine Name: {self.vac_name}\\n'\n",
        "          f'1st Dose: Given\\n'\n",
        "          f'2nd Dose: {self.flag}')\n",
        "astra = Vaccine(\"AstraZeneca\", \"UK\", 60)\n",
        "modr = Vaccine(\"Moderna\", \"UK\", 30)\n",
        "sin = Vaccine(\"Sinopharm\", \"China\", 30)\n",
        "p1 = Person(\"Bob\", 21, \"Student\")\n",
        "print(\"=================================\")\n",
        "p1.pushVaccine(astra)\n",
        "print(\"=================================\")\n",
        "p1.showDetail()\n",
        "print(\"=================================\")\n",
        "p1.pushVaccine(sin, \"2nd Dose\")\n",
        "print(\"=================================\")\n",
        "p1.pushVaccine(astra, \"2nd Dose\")\n",
        "print(\"=================================\")\n",
        "p1.showDetail()\n",
        "print(\"=================================\")\n",
        "p2 = Person(\"Carol\", 23, \"Actor\")\n",
        "print(\"=================================\")\n",
        "p2.pushVaccine(sin)\n",
        "print(\"=================================\")\n",
        "p3 = Person(\"David\", 34)\n",
        "print(\"=================================\")\n",
        "p3.pushVaccine(modr)\n",
        "print(\"=================================\")\n",
        "p3.showDetail()\n",
        "print(\"=================================\")\n",
        "p3.pushVaccine(modr, \"2nd Dose\")"
      ],
      "metadata": {
        "colab": {
          "base_uri": "https://localhost:8080/"
        },
        "id": "pbsnJWJTvLY5",
        "outputId": "ec1f4431-7c16-49c0-b2b4-9ab240d17928"
      },
      "execution_count": null,
      "outputs": [
        {
          "output_type": "stream",
          "name": "stdout",
          "text": [
            "=================================\n",
            "1st dose done for Bob\n",
            "=================================\n",
            "Name: Bob Age: 21 Type: Student\n",
            "Vaccine Name: AstraZeneca\n",
            "1st Dose: Given\n",
            "2nd Dose: Please come after 60 days\n",
            "=================================\n",
            "Sorry Bob, you can’t take 2 different vaccines\n",
            "=================================\n",
            "2nd dose done for Bob\n",
            "=================================\n",
            "Name: Bob Age: 21 Type: Student\n",
            "Vaccine Name: AstraZeneca\n",
            "1st Dose: Given\n",
            "2nd Dose: Given\n",
            "=================================\n",
            "=================================\n",
            "Sorry Carol, Minimum age for taking vaccines is 25 years now.\n",
            "=================================\n",
            "=================================\n",
            "1st dose done for David\n",
            "=================================\n",
            "Name: David Age: 34 Type: General Citizen\n",
            "Vaccine Name: Moderna\n",
            "1st Dose: Given\n",
            "2nd Dose: Please come after 30 days\n",
            "=================================\n",
            "2nd dose done for David\n"
          ]
        }
      ]
    },
    {
      "cell_type": "code",
      "source": [
        "#Task:25\n",
        "class Vaccine:\n",
        "  def __init__(self,name,country,duration):\n",
        "    self.name = name\n",
        "    self.country = country \n",
        "    self.duration = duration\n",
        "class Person:\n",
        "  def __init__(self,name,age,job='General Citizen'):\n",
        "    self.name = name\n",
        "    self.age = age\n",
        "    self.job = job\n",
        "    self.current = []\n",
        "  def pushVaccine(self,brand,second='1st dose'):\n",
        "    self.vaccine_name = brand.name\n",
        "    self.next = brand.duration\n",
        "    if self.age >= 25 or self.job == 'Student':\n",
        "      if self.vaccine_name in self.current:\n",
        "        print(f'2nd dose done for {self.name}')\n",
        "        self.flag = ('Given')\n",
        "      else:\n",
        "        if len(self.current) == 0:\n",
        "          print(f'1st dose done for {self.name}')\n",
        "          self.flag = (f'Please come after {self.next} days')\n",
        "          self.current.append(self.vaccine_name)\n",
        "        else:\n",
        "          print(f'Sorry {self.name}, you can’t take 2 different vaccines')\n",
        "    else:\n",
        "      print(f'Sorry {self.name}, Minimum age for taking vaccines is 25 years now.')\n",
        "  def showDetail(self):\n",
        "    print(f'Name: {self.name} Age: {self.age} Type: {self.job}\\n'\n",
        "          f'Vaccine name: {self.vaccine_name}\\n'\n",
        "          f'1st dose: Given\\n'\n",
        "          f'2nd dose: {self.flag}')\n",
        "astra = Vaccine(\"AstraZeneca\", \"UK\", 60)\n",
        "modr = Vaccine(\"Moderna\", \"UK\", 30)\n",
        "sin = Vaccine(\"Sinopharm\", \"China\", 30)\n",
        "p1 = Person(\"Bob\", 21, \"Student\")\n",
        "print(\"=================================\")\n",
        "p1.pushVaccine(astra)\n",
        "print(\"=================================\")\n",
        "p1.showDetail()\n",
        "print(\"=================================\")\n",
        "p1.pushVaccine(sin, \"2nd Dose\")\n",
        "print(\"=================================\")\n",
        "p1.pushVaccine(astra, \"2nd Dose\")\n",
        "print(\"=================================\")\n",
        "p1.showDetail()\n",
        "print(\"=================================\")\n",
        "p2 = Person(\"Carol\", 23, \"Actor\")\n",
        "print(\"=================================\")\n",
        "p2.pushVaccine(sin)\n",
        "print(\"=================================\")\n",
        "p3 = Person(\"David\", 34)\n",
        "print(\"=================================\")\n",
        "p3.pushVaccine(modr)\n",
        "print(\"=================================\")\n",
        "p3.showDetail()\n",
        "print(\"=================================\")\n",
        "p3.pushVaccine(modr, \"2nd Dose\")"
      ],
      "metadata": {
        "id": "KgmvWYrh1DvY",
        "colab": {
          "base_uri": "https://localhost:8080/"
        },
        "outputId": "b99af514-9a3a-4f07-f786-1cd5004364d7"
      },
      "execution_count": null,
      "outputs": [
        {
          "output_type": "stream",
          "name": "stdout",
          "text": [
            "=================================\n",
            "1st dose done for Bob\n",
            "=================================\n",
            "Name: Bob Age: 21 Type: Student\n",
            "Vaccine name: AstraZeneca\n",
            "1st dose: Given\n",
            "2nd dose: Please come after 60 days\n",
            "=================================\n",
            "Sorry Bob, you can’t take 2 different vaccines\n",
            "=================================\n",
            "2nd dose done for Bob\n",
            "=================================\n",
            "Name: Bob Age: 21 Type: Student\n",
            "Vaccine name: AstraZeneca\n",
            "1st dose: Given\n",
            "2nd dose: Given\n",
            "=================================\n",
            "=================================\n",
            "Sorry Carol, Minimum age for taking vaccines is 25 years now.\n",
            "=================================\n",
            "=================================\n",
            "1st dose done for David\n",
            "=================================\n",
            "Name: David Age: 34 Type: General Citizen\n",
            "Vaccine name: Moderna\n",
            "1st dose: Given\n",
            "2nd dose: Please come after 30 days\n",
            "=================================\n",
            "2nd dose done for David\n"
          ]
        }
      ]
    }
  ]
}