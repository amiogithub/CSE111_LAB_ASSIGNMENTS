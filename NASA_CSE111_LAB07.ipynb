{
  "nbformat": 4,
  "nbformat_minor": 0,
  "metadata": {
    "colab": {
      "provenance": []
    },
    "kernelspec": {
      "name": "python3",
      "display_name": "Python 3"
    },
    "language_info": {
      "name": "python"
    }
  },
  "cells": [
    {
      "cell_type": "code",
      "source": [
        "# LAB ASSIGNMENT 07"
      ],
      "metadata": {
        "id": "BnSxPHfNGm0b"
      },
      "execution_count": null,
      "outputs": []
    },
    {
      "cell_type": "code",
      "source": [
        "#Task: 01\n",
        "\n",
        "class Student:\n",
        "    def __init__(self, name='Just a student', dept='nothing'):\n",
        "        self.__name = name\n",
        "        self.__department = dept\n",
        "    def set_department(self, dept):\n",
        "        self.__department = dept\n",
        "    def get_name(self):\n",
        "        return self.__name\n",
        "    def set_name(self,name):\n",
        "        self.__name = name\n",
        "    def __str__(self):\n",
        "        return 'Name: '+self.__name+' Department: '+self.__department\n",
        "\n",
        "# -------------------------------------------------------------------------\n",
        "\n",
        "class BBA_Student(Student):\n",
        "  def __init__(self,name='Default',dept='BBA'):\n",
        "     super().__init__(name,dept)\n",
        "  \n",
        "print(BBA_Student())\n",
        "print(BBA_Student('Humpty Dumpty'))\n",
        "print(BBA_Student('Little Bo Peep'))"
      ],
      "metadata": {
        "colab": {
          "base_uri": "https://localhost:8080/"
        },
        "id": "VxBk8YkkGq6U",
        "outputId": "bc882d47-76bc-46af-b138-8806c8e10bc7"
      },
      "execution_count": null,
      "outputs": [
        {
          "output_type": "stream",
          "name": "stdout",
          "text": [
            "Name: Default Department: BBA\n",
            "Name: Humpty Dumpty Department: BBA\n",
            "Name: Little Bo Peep Department: BBA\n"
          ]
        }
      ]
    },
    {
      "cell_type": "code",
      "source": [
        "#Task:02\n",
        "\n",
        "class Vehicle:\n",
        "    def __init__(self):\n",
        "        self.x = 0\n",
        "        self.y = 0\n",
        "    def moveUp(self):\n",
        "        self.y += 1\n",
        "    def moveDown(self):\n",
        "        self.y -= 1\n",
        "    def moveRight(self):\n",
        "        self.x += 1\n",
        "    def moveLeft(self):\n",
        "        self.x -= 1\n",
        "    def __str__(self):\n",
        "        return '('+str(self.x)+' , '+str(self.y)+')'\n",
        "# -------------------------------------------------------------------------\n",
        "\n",
        "class Vehicle2010(Vehicle):\n",
        "    def moveLowerLeft(self):\n",
        "        super().moveDown()\n",
        "        super().moveLeft()\n",
        "\n",
        "    def equals(self, other):\n",
        "\n",
        "      if self.x==other.x and self.y==other.y:\n",
        "        return True\n",
        "      else:\n",
        "        return False  \n",
        "    #return self.x == other.x and self.y == other.y #boolean statement\n",
        "print('Part 1')\n",
        "print('------')\n",
        "car = Vehicle()\n",
        "print(car)\n",
        "car.moveUp()\n",
        "print(car)\n",
        "car.moveLeft()\n",
        "print(car)\n",
        "car.moveDown()\n",
        "print(car)\n",
        "car.moveRight()\n",
        "print(car)\n",
        "print('------')\n",
        "print('Part 2')\n",
        "print('------')\n",
        "car1 = Vehicle2010()\n",
        "print(car1)\n",
        "car1.moveLowerLeft()\n",
        "print(car1)\n",
        "car2 = Vehicle2010()\n",
        "car2.moveLeft()\n",
        "print(car1.equals(car2))\n",
        "car2.moveDown()\n",
        "print(car1.equals(car2))"
      ],
      "metadata": {
        "colab": {
          "base_uri": "https://localhost:8080/"
        },
        "id": "5agS81lkGq3x",
        "outputId": "ddaa8f83-2053-48d9-acff-135d9ff8ca47"
      },
      "execution_count": null,
      "outputs": [
        {
          "output_type": "stream",
          "name": "stdout",
          "text": [
            "Part 1\n",
            "------\n",
            "(0 , 0)\n",
            "(0 , 1)\n",
            "(-1 , 1)\n",
            "(-1 , 0)\n",
            "(0 , 0)\n",
            "------\n",
            "Part 2\n",
            "------\n",
            "(0 , 0)\n",
            "(-1 , -1)\n",
            "False\n",
            "True\n"
          ]
        }
      ]
    },
    {
      "cell_type": "code",
      "source": [
        "#Task:02\n",
        "class Vehicle:\n",
        "    def __init__(self):\n",
        "        self.x = 0\n",
        "        self.y = 0\n",
        "    def moveUp(self):\n",
        "        self.y += 1\n",
        "    def moveDown(self):\n",
        "        self.y -= 1\n",
        "    def moveRight(self):\n",
        "        self.x += 1\n",
        "    def moveLeft(self):\n",
        "        self.x -= 1\n",
        "    def __str__(self):\n",
        "        return '('+str(self.x)+' , '+str(self.y)+')'\n",
        "\n",
        "# -------------------------------------------------------------------------\n",
        "class Vehicle2010(Vehicle):\n",
        "    def moveLowerLeft(self):\n",
        "        super().moveDown()\n",
        "        super().moveLeft()\n",
        "\n",
        "    def equals(self, other):\n",
        "      \n",
        "      if self.x==other.x and self.y==other.y:\n",
        "        return True\n",
        "      else:\n",
        "        return False  \n",
        "    \n",
        "    def moveUpperRight(self):  #subtask:01\n",
        "      super().moveUp()\n",
        "      super().moveRight()\n",
        "\n",
        "    def moveUpperLeft(self):    #subtask:01\n",
        "      super().moveUp()\n",
        "      super().moveLeft()\n",
        "\n",
        "    def moveLowerRight(self):   #subtask:01\n",
        "      super().moveDown()\n",
        "      super().moveRight()\n",
        "\n",
        "print('Part 1')\n",
        "print('------')\n",
        "car = Vehicle()\n",
        "print(car)\n",
        "car.moveUp()\n",
        "print(car)\n",
        "car.moveLeft()\n",
        "print(car)\n",
        "car.moveDown()\n",
        "print(car)\n",
        "car.moveRight()\n",
        "print(car)\n",
        "print('------')\n",
        "print('Part 2')\n",
        "print('------')\n",
        "car1 = Vehicle2010()\n",
        "print(car1)\n",
        "car1.moveLowerLeft()\n",
        "print(car1)\n",
        "car2 = Vehicle2010()\n",
        "car2.moveLeft()\n",
        "print(car1.equals(car2))\n",
        "car2.moveDown()\n",
        "print(car1.equals(car2))\n",
        "# ------------------------Subtask:02\n",
        "print('------')\n",
        "print('Subtask 1 and 2')\n",
        "car1.moveUpperRight()\n",
        "print(car1)\n",
        "car1.moveUpperLeft()\n",
        "print(car1)\n",
        "car1.moveLowerRight()\n",
        "print(car1)\n",
        "car1.moveLowerLeft()\n",
        "print(car1)\n",
        "car2.moveLowerRight()\n",
        "print(car2)\n",
        "print(car1.equals(car2))"
      ],
      "metadata": {
        "colab": {
          "base_uri": "https://localhost:8080/"
        },
        "id": "zUL8vdP_VDmS",
        "outputId": "456f3c42-91c6-490e-8218-0ff418352aa1"
      },
      "execution_count": null,
      "outputs": [
        {
          "output_type": "stream",
          "name": "stdout",
          "text": [
            "Part 1\n",
            "------\n",
            "(0 , 0)\n",
            "(0 , 1)\n",
            "(-1 , 1)\n",
            "(-1 , 0)\n",
            "(0 , 0)\n",
            "------\n",
            "Part 2\n",
            "------\n",
            "(0 , 0)\n",
            "(-1 , -1)\n",
            "False\n",
            "True\n",
            "------\n",
            "Subtask 1 and 2\n",
            "(0 , 0)\n",
            "(-1 , 1)\n",
            "(0 , 0)\n",
            "(-1 , -1)\n",
            "(0 , -2)\n",
            "False\n"
          ]
        }
      ]
    },
    {
      "cell_type": "code",
      "source": [
        "#Task:03\n",
        "\n",
        "class Tournament:\n",
        "    def __init__(self,name='Default'):\n",
        "        self.__name = name\n",
        "    def set_name(self,name):\n",
        "        self.__name = name\n",
        "    def get_name(self):\n",
        "        return self.__name\n",
        "# -------------------------------------------------------------------------\n",
        "class Cricket_Tournament(Tournament):\n",
        "  def __init__(self,name='Default',teams=0,Type='No Type'):\n",
        "    super().__init__(name)\n",
        "    self.teams=teams\n",
        "    self.Type=Type\n",
        "\n",
        "\n",
        "  def detail(self):\n",
        "    name=super().get_name()\n",
        "    return (f'Cricket Tournament Name: {name}\\n'\n",
        "    f'Number of teams: {self.teams}\\n'\n",
        "    f'Type: {self.Type}')\n",
        "\n",
        "class Tennis_Tournament(Cricket_Tournament):\n",
        "  def __init__(self,name,players):  #super method \n",
        "    super().__init__(name)\n",
        "    self.players=players\n",
        "\n",
        "  def detail(self):   #method overriding\n",
        "    name=super().get_name()\n",
        "    return (f'Tennis Tournament Name: {name}\\n'\n",
        "    f'Number of players: {self.players}')\n",
        "\n",
        "\n",
        "\n",
        "\n",
        "ct1 = Cricket_Tournament()\n",
        "print(ct1.detail())\n",
        "print(\"-----------------------\")\n",
        "ct2 = Cricket_Tournament(\"IPL\",10,\"t20\")\n",
        "print(ct2.detail())\n",
        "print(\"-----------------------\")\n",
        "tt = Tennis_Tournament(\"Roland Garros\",128)\n",
        "print(tt.detail())\n"
      ],
      "metadata": {
        "colab": {
          "base_uri": "https://localhost:8080/"
        },
        "id": "-P_qLIPQZ5J8",
        "outputId": "cc564182-146e-4139-b54a-7da48f9b89b1"
      },
      "execution_count": null,
      "outputs": [
        {
          "output_type": "stream",
          "name": "stdout",
          "text": [
            "Cricket Tournament Name: Default\n",
            "Number of teams: 0\n",
            "Type: No Type\n",
            "-----------------------\n",
            "Cricket Tournament Name: IPL\n",
            "Number of teams: 10\n",
            "Type: t20\n",
            "-----------------------\n",
            "Tennis Tournament Name: Roland Garros\n",
            "Number of players: 128\n"
          ]
        }
      ]
    },
    {
      "cell_type": "code",
      "source": [
        "#Task:04\n",
        "\n",
        "class Product:\n",
        "    def __init__(self,id, title, price):\n",
        "        self.__id = id\n",
        "        self.__title = title\n",
        "        self.__price = price\n",
        "    def get_id_title_price(self):\n",
        "        return \"ID: \"+str(self.__id)+\" Title:\"+self.__title+\"Price: \"+str(self.__price)\n",
        "\n",
        "# ----------------------------------------------------------------------------------------------------------------\n",
        "\n",
        "class Book(Product):\n",
        "  def __init__(self,id,title,price,isbn,publisher):\n",
        "    super().__init__(id,title,price)\n",
        "    self.isbn=isbn\n",
        "    self.publisher=publisher\n",
        "\n",
        "  def printDetail(self):\n",
        "        return (super().get_id_title_price() + '\\n'+'ISBN:' + self.isbn +' '+ 'Publisher: '+ self.publisher )\n",
        "\n",
        "class CD(Product):\n",
        "  def __init__(self,id,title,price,band,duration,genre):\n",
        "     super().__init__(id,title,price)\n",
        "     self.band=band\n",
        "     self.duration=duration\n",
        "     self.genre=genre\n",
        "\n",
        "  \n",
        "\n",
        "  def printDetail(self):\n",
        "        return (\n",
        "            super().get_id_title_price()+ f\"\\nBand: {self.band} Duration: {self.duration} minutes\\nGenre: {self.genre}\")\n",
        "\n",
        "\n",
        "\n",
        "book = Book(1,\"The Alchemist\",500,\"97806\",\"HarperCollins\")\n",
        "print(book.printDetail())\n",
        "print(\"-----------------------\")\n",
        "cd = CD(2,\"Shotto\",300,\"Warfaze\",50,\"Hard Rock\")\n",
        "print(cd.printDetail())\n"
      ],
      "metadata": {
        "colab": {
          "base_uri": "https://localhost:8080/"
        },
        "id": "vWaR9a4NdcDL",
        "outputId": "9f03b0e8-bdd4-4c79-ee50-b0597eb1270b"
      },
      "execution_count": null,
      "outputs": [
        {
          "output_type": "stream",
          "name": "stdout",
          "text": [
            "ID: 1 Title:The AlchemistPrice: 500\n",
            "ISBN:97806 Publisher: HarperCollins\n",
            "-----------------------\n",
            "ID: 2 Title:ShottoPrice: 300\n",
            "Band: Warfaze Duration: 50 minutes\n",
            "Genre: Hard Rock\n"
          ]
        }
      ]
    },
    {
      "cell_type": "code",
      "source": [
        "#Task: 05\n",
        "\n",
        "class Animal:   \n",
        "    def __init__(self,sound):\n",
        "        self.__sound = sound\n",
        "        \n",
        "    def makeSound(self):\n",
        "        return self.__sound\n",
        "        \n",
        "\n",
        "class Printer:   \n",
        "    def printSound(self, a):\n",
        "        print(a.makeSound())\n",
        "\n",
        "# ----------------------------------------------------------------------------------------------------------------\n",
        "\n",
        "class Dog(Animal,Printer):\n",
        "  def __init__(self,sound):\n",
        "    super().__init__(sound)\n",
        " \n",
        "\n",
        "class Cat(Animal,Printer):    \n",
        "  def __init__(self,sound):\n",
        "    super().__init__(sound)\n",
        "\n",
        "d1 = Dog('bark')\n",
        "c1 = Cat('meow')\n",
        "a1 = Animal('Animal does not make sound')\n",
        "pr = Printer()\n",
        "pr.printSound(a1)\n",
        "pr.printSound(c1)\n",
        "pr.printSound(d1)\n"
      ],
      "metadata": {
        "colab": {
          "base_uri": "https://localhost:8080/"
        },
        "id": "kTQCHQA4iftr",
        "outputId": "5d183591-0f04-49a3-d103-11cb00d6660c"
      },
      "execution_count": null,
      "outputs": [
        {
          "output_type": "stream",
          "name": "stdout",
          "text": [
            "Animal does not make sound\n",
            "meow\n",
            "bark\n"
          ]
        }
      ]
    },
    {
      "cell_type": "code",
      "source": [
        "#Task: 06\n",
        "\n",
        "class Shape:\n",
        "\n",
        "  def __init__(self, name='Default', height=0, base=0):\n",
        "    self.area = 0\n",
        "    self.name = name\n",
        "    self.height = height\n",
        "    self.base = base\n",
        "\n",
        "  def get_height_base(self):\n",
        "    return \"Height: \"+str(self.height)+\",Base: \"+str(self.base)\n",
        "\n",
        "# ----------------------------------------------------------------------------------------------------------------\n",
        "class triangle(Shape):\n",
        "\n",
        "  def __init__(self,name='Default',height=0,base=0):\n",
        "    super().__init__(name,height,base)\n",
        "\n",
        "  def calcArea(self):\n",
        "    self.area=float(0.5*self.height*self.base)\n",
        "\n",
        "  def printDetail(self):\n",
        "    return(f'Shape name: {self.name}\\n'\n",
        "           f'{super().get_height_base()}\\n'\n",
        "           f'Area: {self.area}')\n",
        "\n",
        "class trapezoid(triangle):\n",
        "  def __init__(self,name='Default',height=0,base=0,side1=0):\n",
        "    super().__init__(name,height,base)\n",
        "    self.side1=side1\n",
        "\n",
        "  def calcArea(self):\n",
        "    self.area=float(((self.base+self.side1)/2)*self.height)\n",
        "\n",
        "  def printDetail(self):\n",
        "    return(f'Shape name: {self.name}\\n'\n",
        "           f'{super().get_height_base()}, Side_A: {self.side1}\\n'\n",
        "           f'Area: {self.area}')\n",
        "    \n",
        "tri_default = triangle()\n",
        "tri_default.calcArea()\n",
        "print(tri_default.printDetail())\n",
        "print('--------------------------')\n",
        "tri = triangle('Triangle', 10, 5)\n",
        "tri.calcArea()\n",
        "print(tri.printDetail())\n",
        "print('---------------------------')\n",
        "trap = trapezoid('Trapezoid', 10, 6, 4)\n",
        "trap.calcArea()\n",
        "print(trap.printDetail())"
      ],
      "metadata": {
        "colab": {
          "base_uri": "https://localhost:8080/"
        },
        "id": "q3C9gsSWjff0",
        "outputId": "eef64df2-1140-4ba2-b787-ee3e80f79d01"
      },
      "execution_count": null,
      "outputs": [
        {
          "output_type": "stream",
          "name": "stdout",
          "text": [
            "Shape name: Default\n",
            "Height: 0,Base: 0\n",
            "Area: 0.0\n",
            "--------------------------\n",
            "Shape name: Triangle\n",
            "Height: 10,Base: 5\n",
            "Area: 25.0\n",
            "---------------------------\n",
            "Shape name: Trapezoid\n",
            "Height: 10,Base: 6, Side_A: 4\n",
            "Area: 50.0\n"
          ]
        }
      ]
    },
    {
      "cell_type": "code",
      "source": [
        "#Task: 07\n",
        "\n",
        "class SportsPerson:\n",
        "\n",
        "  def __init__(self, team_name, name, role):\n",
        "    self.__team = team_name\n",
        "    self.__name = name\n",
        "    self.role = role\n",
        "    self.earning_per_match = 0\n",
        "\n",
        "  def get_name_team(self):\n",
        "    return 'Name: '+self.__name+', Team Name: ' +self.__team\n",
        "\n",
        "# ----------------------------------------------------------------------------------------------------------------\n",
        "class Player(SportsPerson):\n",
        "  def __init__(self,team,name,role,goal,matches):\n",
        "    \n",
        "    super().__init__(team,name,role)\n",
        "    self.goal=goal\n",
        "    self.matches=matches\n",
        "    self.earning=(self.goal*1000)+(self.matches*10)\n",
        "\n",
        "  def calculate_ratio(self):\n",
        "    self.ratio=self.goal/self.matches\n",
        "\n",
        "  def print_details(self):\n",
        "    print (f'{super().get_name_team()}\\nTeam Role:{self.role}\\nTeam Goal:{self.goal},Total Played:{self.matches}\\nGoal Ratio:{self.ratio}\\nMatch Earning:{self.earning}K')\n",
        "    \n",
        "class Manager(SportsPerson):\n",
        "  def __init__(self,team,name,role,wins):\n",
        "    super().__init__(team,name,role)\n",
        "    self.wins=wins\n",
        "    self.earning=wins*1000\n",
        "\n",
        "  def print_details(self):\n",
        "    print (super().get_name_team()+f'\\nTeam Role:{self.role}\\nTotal Win:{self.wins}\\nMatch Earning:{self.earning}K')    \n",
        "\n",
        "\n",
        "\n",
        "player_one = Player('Juventus', 'Ronaldo', 'Striker', 25, 32)\n",
        "player_one.calculate_ratio()\n",
        "player_one.print_details()\n",
        "print('------------------------------------------')\n",
        "manager_one = Manager('Real Madrid', 'Zidane', 'Manager', 25)\n",
        "manager_one.print_details()\n"
      ],
      "metadata": {
        "colab": {
          "base_uri": "https://localhost:8080/"
        },
        "id": "zNs3zLGOqCp-",
        "outputId": "0cb432ea-3f86-485c-ec04-7b22352f0862"
      },
      "execution_count": null,
      "outputs": [
        {
          "output_type": "stream",
          "name": "stdout",
          "text": [
            "Name: Ronaldo, Team Name: Juventus\n",
            "Team Role:Striker\n",
            "Team Goal:25,Total Played:32\n",
            "Goal Ratio:0.78125\n",
            "Match Earning:25320K\n",
            "------------------------------------------\n",
            "Name: Zidane, Team Name: Real Madrid\n",
            "Team Role:Manager\n",
            "Total Win:25\n",
            "Match Earning:25000K\n"
          ]
        }
      ]
    },
    {
      "cell_type": "code",
      "execution_count": null,
      "metadata": {
        "id": "K-d5TWkuGSGh"
      },
      "outputs": [],
      "source": [
        "#basics of inheritance\n",
        "# parent class,base class,super class\n",
        "# sub class, child class,derived class\n",
        "\n",
        "#method resolution order\n",
        "\n",
        "\n",
        "# 5 types of inheritance\n",
        "\n"
      ]
    },
    {
      "cell_type": "code",
      "source": [
        "#Single inheritance\n",
        "# 1 parent class and 1 child\n",
        "class ParentCat:\n",
        "  \n",
        "  def child1(self):\n",
        "    print(f'cat 1 is in ParentClass')\n",
        "\n",
        "  def child2(self):\n",
        "\n",
        "    print('cat 2 is in ParentClass') \n",
        "\n",
        "class ChildCat(ParentCat):\n",
        "\n",
        "  def child3(self):\n",
        "    print('Cat 3 is in childClass')     \n",
        "\n",
        "billu1=ChildCat()    \n",
        "billu1.child1()\n",
        "billu1.child2()\n",
        "billu1.child3()"
      ],
      "metadata": {
        "colab": {
          "base_uri": "https://localhost:8080/"
        },
        "id": "x30pOp72J-HM",
        "outputId": "8f439cf4-7a0f-4190-ff16-9f88f7731ae1"
      },
      "execution_count": null,
      "outputs": [
        {
          "output_type": "stream",
          "name": "stdout",
          "text": [
            "cat 1 is in ParentClass\n",
            "cat 2 is in ParentClass\n",
            "Cat 3 is in childClass\n"
          ]
        }
      ]
    },
    {
      "cell_type": "code",
      "source": [
        "class Animal:   #object class theke derived hoise\n",
        "  def __init__(self,name):\n",
        "    self.name=name\n",
        "\n",
        "  def eat(self):\n",
        "    print(self.name,'is eating')\n",
        "\n",
        "class Dog(Animal): #method resolution order\n",
        "\n",
        "  def bark(self):\n",
        "    print(self.name,'is barking')\n",
        "\n",
        "a1=Animal('Jack')\n",
        "d1=Dog('puchi')\n",
        "\n",
        "d1.bark()\n",
        "d1.eat()\n",
        "a1.eat()\n",
        "# a1.bark() parent kintu child er character access korte parbena"
      ],
      "metadata": {
        "colab": {
          "base_uri": "https://localhost:8080/"
        },
        "id": "XtG0cSFNnY3x",
        "outputId": "63cafbd2-1e55-400d-fcd7-13128e7a8d6b"
      },
      "execution_count": null,
      "outputs": [
        {
          "output_type": "stream",
          "name": "stdout",
          "text": [
            "puchi is barking\n",
            "puchi is eating\n",
            "Jack is eating\n"
          ]
        }
      ]
    },
    {
      "cell_type": "code",
      "source": [
        "class Student:\n",
        "  def __init__(self,name,id):\n",
        "    self.name=name\n",
        "    self.id=id\n",
        "\n",
        "  def details(self):\n",
        "    print('Name:',self.name,'ID:',self.id)\n",
        "\n",
        "class CSEStudent(Student):\n",
        "  def __init__(self,name,id,labs):\n",
        "    # self.name=name\n",
        "    # self.id=Id dont do this same thing\n",
        "    super().__init__(name,id)\n",
        "    self.no_of_labs=labs\n",
        "\n",
        "  def cry(self):\n",
        "    print('CSE Student is crying beacuse of', self.no_of_labs,'labs')\n",
        "\n",
        "class BBAStudent(Student):\n",
        "\n",
        "  def party(self):\n",
        "    print('ALL Day party!!!! Suit up ')\n",
        "\n",
        "\n",
        "s1=CSEStudent('Ramisa',21,3)\n",
        "s2=BBAStudent('Ahona',20)\n",
        "print(s1.__dict__)\n",
        "s1.details()\n",
        "s2.details()\n",
        "s1.cry()\n",
        "s2.party()\n",
        "print(help(s1))"
      ],
      "metadata": {
        "colab": {
          "base_uri": "https://localhost:8080/"
        },
        "id": "g7l5JciM-VHr",
        "outputId": "3ba77208-b38c-4804-d623-f7e5bbde93ed"
      },
      "execution_count": null,
      "outputs": [
        {
          "output_type": "stream",
          "name": "stdout",
          "text": [
            "{'name': 'Ramisa', 'id': 21, 'no_of_labs': 3}\n",
            "Name: Ramisa ID: 21\n",
            "Name: Ahona ID: 20\n",
            "CSE Student is crying beacuse of 3 labs\n",
            "ALL Day party!!!! Suit up \n",
            "Help on CSEStudent in module __main__ object:\n",
            "\n",
            "class CSEStudent(Student)\n",
            " |  CSEStudent(name, id, labs)\n",
            " |  \n",
            " |  Method resolution order:\n",
            " |      CSEStudent\n",
            " |      Student\n",
            " |      builtins.object\n",
            " |  \n",
            " |  Methods defined here:\n",
            " |  \n",
            " |  __init__(self, name, id, labs)\n",
            " |      Initialize self.  See help(type(self)) for accurate signature.\n",
            " |  \n",
            " |  cry(self)\n",
            " |  \n",
            " |  ----------------------------------------------------------------------\n",
            " |  Methods inherited from Student:\n",
            " |  \n",
            " |  details(self)\n",
            " |  \n",
            " |  ----------------------------------------------------------------------\n",
            " |  Data descriptors inherited from Student:\n",
            " |  \n",
            " |  __dict__\n",
            " |      dictionary for instance variables (if defined)\n",
            " |  \n",
            " |  __weakref__\n",
            " |      list of weak references to the object (if defined)\n",
            "\n",
            "None\n"
          ]
        }
      ]
    },
    {
      "cell_type": "code",
      "source": [
        "#Multilevel inheritance\n",
        "\n",
        "class Student:   #grandparent class\n",
        "  def __init__(self,name,id):\n",
        "    self.name=name\n",
        "    self.id=id\n",
        "\n",
        "  def details(self):\n",
        "    print('Name:',self.name,'ID:',self.id)\n",
        "\n",
        "class CSEStudent(Student):  #parent classs\n",
        "  def __init__(self,name,id,labs):\n",
        "\n",
        "    super().__init__(name,id)\n",
        "    self.no_of_labs=labs\n",
        "\n",
        "  def cry(self):\n",
        "    print('CSE Student is crying beacuse of', self.no_of_labs,'labs')\n",
        "\n",
        "\n",
        "class CSEFresher(CSEStudent):\n",
        "  def enroll_cse110(self):\n",
        "    print(self.name,'Enroll in CSE110')\n",
        "\n",
        "\n",
        "s1=CSEStudent('Zead',11,3)\n",
        "s2=CSEFresher('Sadman',25,1)\n",
        "s2.details()\n",
        "s2.cry()\n",
        "s2.enroll_cse110()\n",
        "\n"
      ],
      "metadata": {
        "colab": {
          "base_uri": "https://localhost:8080/"
        },
        "id": "IJQuJN3_DqxD",
        "outputId": "dad5febe-9b55-4673-fb0c-524b024438c0"
      },
      "execution_count": null,
      "outputs": [
        {
          "output_type": "stream",
          "name": "stdout",
          "text": [
            "Name: Sadman ID: 25\n",
            "CSE Student is crying beacuse of 1 labs\n",
            "Sadman Enroll in CSE110\n"
          ]
        }
      ]
    },
    {
      "cell_type": "code",
      "source": [
        "#Multilevel inheritance\n",
        "# Transport------Vehicle----CAr\n",
        "# grandparent----parent-----child\n",
        "\n",
        "class Fuppirbasha:\n",
        "\n",
        "  def destination1(self):\n",
        "    print('Yeashfi went to Fuppirbasha')\n",
        "\n",
        "class BRACU(Fuppirbasha):\n",
        "\n",
        "  def destination2(self):\n",
        "    print('Yeashfi went to BRACU')\n",
        "\n",
        "class home_sweet_home(BRACU):\n",
        "\n",
        "  def destination3(self):\n",
        "    print('Yeashfi went to her home')\n",
        "\n",
        "Where_is_Yeashfi=home_sweet_home()\n",
        "\n",
        "Where_is_Yeashfi.destination1()\n",
        "Where_is_Yeashfi.destination2()\n",
        "Where_is_Yeashfi.destination3()"
      ],
      "metadata": {
        "id": "gJ2Z-9M7KoBe",
        "colab": {
          "base_uri": "https://localhost:8080/"
        },
        "outputId": "2e21ebb7-5857-46ef-8516-cdd64b401282"
      },
      "execution_count": null,
      "outputs": [
        {
          "output_type": "stream",
          "name": "stdout",
          "text": [
            "Yeashfi went to Fuppirbasha\n",
            "Yeashfi went to BRACU\n",
            "Yeashfi went to her home\n"
          ]
        }
      ]
    },
    {
      "cell_type": "code",
      "source": [
        "#Hierarchial Inheritance\n",
        "# 1 parent but multiple child\n",
        "# vehicle -----car and bus both are child of vehicle\n",
        "\n",
        "class Parent:\n",
        "  def allchild(self):\n",
        "    print('Armeen and Subha are both child from same parent')\n",
        "\n",
        "class child1(Parent):\n",
        "\n",
        "  def child1(self):\n",
        "    print('Subha is child 1')\n",
        "\n",
        "class child2(Parent):\n",
        "\n",
        "  def child2(self):\n",
        "    print('Armeen is child 2')\n",
        "\n",
        "ch1=child1()\n",
        "ch2=child2()\n",
        "ch1.child1()\n",
        "ch2.child2()\n",
        "ch2.allchild()"
      ],
      "metadata": {
        "colab": {
          "base_uri": "https://localhost:8080/"
        },
        "id": "3Om7fUUi8xG8",
        "outputId": "2bedd54e-d46b-4386-8dab-72696666e226"
      },
      "execution_count": null,
      "outputs": [
        {
          "output_type": "stream",
          "name": "stdout",
          "text": [
            "Subha is child 1\n",
            "Armeen is child 2\n",
            "Armeen and Subha are both child from same parent\n"
          ]
        }
      ]
    },
    {
      "cell_type": "code",
      "source": [
        "#Multiple Inheritance\n",
        "# multiple parent\n",
        "\n",
        "class Parent1:\n",
        "  def m2(self):\n",
        "    print('This is method2 of parent1')\n",
        "\n",
        "class Parent2:\n",
        "  def m1(self):\n",
        "    print('This is method1 of parent2')\n",
        "\n",
        "  def m2(self):\n",
        "    print('This is method2 of parent2')\n",
        "\n",
        "class Child(Parent1, Parent2):\n",
        "  def m2(self):\n",
        "    super().m2()     #m2() of first parent called\n",
        "    print('This is method2 of child')\n",
        "\n",
        "  def m3(self):\n",
        "    print('This is method3 of child')\n",
        "\n",
        "\n",
        "child1 = Child()\n",
        "child1.m2()\n",
        "child1.m1()      #Child has no m1(). Parent1 doesn't have either. So parent2s' m1() called"
      ],
      "metadata": {
        "colab": {
          "base_uri": "https://localhost:8080/"
        },
        "id": "pB4H-Fbn9GTL",
        "outputId": "cba3d28e-8e0d-4ac1-f4fc-53e9ce8fa02d"
      },
      "execution_count": null,
      "outputs": [
        {
          "output_type": "stream",
          "name": "stdout",
          "text": [
            "This is method2 of parent1\n",
            "This is method2 of child\n",
            "This is method1 of parent2\n"
          ]
        }
      ]
    },
    {
      "cell_type": "code",
      "source": [
        "#multiple parents of same class\n",
        "\n",
        "class A:\n",
        "   def __init__(self):\n",
        "     print('__init__ of class A')\n",
        "\n",
        "   def method1(self):\n",
        "     print('Method of class A')\n",
        "\n",
        "class B:\n",
        "  def __init__(self):\n",
        "    print('__init__ of class B')\n",
        "\n",
        "  def method1(self):\n",
        "    print('Method1 of class B') \n",
        "\n",
        "class C(A,B):\n",
        "  def __init__(self):\n",
        "    # super().__init__()\n",
        "    B.__init__(self)\n",
        "    A.__init__(self)\n",
        "\n",
        "    print('__init__ of class C')\n",
        "\n",
        "  def method2(self):\n",
        "    print('Method2 of class c')\n",
        "\n",
        "c1=C()\n",
        "\n",
        "c1.method1()\n",
        "c1.method2()\n",
        "B.method1(c1)"
      ],
      "metadata": {
        "colab": {
          "base_uri": "https://localhost:8080/"
        },
        "id": "GxMqKjWtLzZV",
        "outputId": "e06be7bc-b2e1-450f-e82c-6fef708c6dfe"
      },
      "execution_count": null,
      "outputs": [
        {
          "output_type": "stream",
          "name": "stdout",
          "text": [
            "__init__ of class B\n",
            "__init__ of class A\n",
            "__init__ of class C\n",
            "Method of class A\n",
            "Method2 of class c\n",
            "Method1 of class B\n"
          ]
        }
      ]
    },
    {
      "cell_type": "code",
      "source": [
        "# Hybrid Inheritance (Multilevel+Multiple Inheritance)\n",
        "\n",
        "class Parent:\n",
        "  def m1(self):\n",
        "    print('This is method1 of parent')\n",
        "\n",
        "class Child1(Parent):\n",
        "  def m3(self):\n",
        "    print('This is method3 of child1')\n",
        "\n",
        "class Child2(Parent):\n",
        "  def m4(self):\n",
        "    print('This is method4 of child2')\n",
        "\n",
        "  def m3(self):\n",
        "    print('This is method3 of child2')\n",
        "\n",
        "class grandChild(Child1, Child2):\n",
        "  def m7(self):\n",
        "    print('This is method7 of grandchild')\n",
        "\n",
        "GC1= grandChild()\n",
        "GC1.m7()\n",
        "GC1.m4()\n",
        "GC1.m3()    #Both parents have m3() so first parents m3() called\n",
        "GC1.m1()"
      ],
      "metadata": {
        "colab": {
          "base_uri": "https://localhost:8080/"
        },
        "id": "5-t_4ligBd5-",
        "outputId": "3406b11c-4594-40ba-d93a-831c75e6a697"
      },
      "execution_count": null,
      "outputs": [
        {
          "output_type": "stream",
          "name": "stdout",
          "text": [
            "This is method7 of grandchild\n",
            "This is method4 of child2\n",
            "This is method3 of child1\n",
            "This is method1 of parent\n"
          ]
        }
      ]
    },
    {
      "cell_type": "code",
      "source": [
        "#Super function\n",
        "\n",
        "class Parent:\n",
        "  def __init__(self, n, a):\n",
        "    self.name = n #instance variable\n",
        "    self.age = a\n",
        "\n",
        "  def m1(self):\n",
        "    print('This is method1 of parent')\n",
        "\n",
        "\n",
        "class Child(Parent):\n",
        "  def __init__(self, name, age):\n",
        "    \n",
        "    super().__init__(name, age)          #constructor of parent called so child class can inherit the intance variables from the parent class\n",
        "    print(self.name,self.age) \n",
        "                   #self.name inherited from parent\n",
        "\n",
        "  def m4(self):\n",
        "    print('This is method4 of child')\n",
        "\n",
        "\n",
        "child1 = Child('Ifti', 2)\n",
        "child1.m1()                             #child1 inherits m1() from parent"
      ],
      "metadata": {
        "colab": {
          "base_uri": "https://localhost:8080/"
        },
        "id": "s7MMikHwCF4j",
        "outputId": "b41d21ef-99d9-4f05-ffa4-e931829c0c8e"
      },
      "execution_count": null,
      "outputs": [
        {
          "output_type": "stream",
          "name": "stdout",
          "text": [
            "Ifti 2\n",
            "This is method1 of parent\n"
          ]
        }
      ]
    },
    {
      "cell_type": "code",
      "source": [
        "#Method overriding\n",
        "\n",
        "class LykanHypersport:\n",
        "  def body(self):\n",
        "    print('Your body is made of carbon composite body')\n",
        "\n",
        "  def engine(self):\n",
        "    print('Mid-Rear mounted engine')\n",
        "\n",
        "  def transmission(self):\n",
        "    print('Six Speed Manual Sequential Gearbox')\n",
        "\n",
        "  def wheels(self):\n",
        "    print('Lightweight forged aluminum wheels')\n",
        "\n",
        "  def interior(self):\n",
        "    print('Electric Exterior Mirrors')    \n",
        "\n",
        "  def temperature_control(self):\n",
        "    print('Automatic Temperature Control')  \n",
        "\n",
        "  def seats(self):\n",
        "    print('Custom W Motors Seats')\n",
        "\n",
        "class myCar(LykanHypersport):\n",
        "  def engine(self):\n",
        "    print('8 Honda B Series Engine')\n",
        "\n",
        "  def temperature_control(self):\n",
        "    print(f'manual Temperature Control')\n",
        "\n",
        "mycar=myCar()\n",
        "mycar.engine()\n",
        "mycar.transmission()\n",
        "mycar.temperature_control()\n",
        "mycar.wheels()\n"
      ],
      "metadata": {
        "colab": {
          "base_uri": "https://localhost:8080/"
        },
        "id": "29U1By1nDGRC",
        "outputId": "23e3c93f-6422-4ee0-f8b2-e79757cf62ea"
      },
      "execution_count": null,
      "outputs": [
        {
          "output_type": "stream",
          "name": "stdout",
          "text": [
            "8 Honda B Series Engine\n",
            "Six Speed Manual Sequential Gearbox\n",
            "manual Temperature Control\n",
            "Lightweight forged aluminum wheels\n"
          ]
        }
      ]
    },
    {
      "cell_type": "code",
      "source": [
        "class A:\n",
        "  def __init__(self):\n",
        "    print('__init__ of class A')\n",
        "\n",
        "  def method1(self):\n",
        "    print('Always study')\n",
        "\n",
        "  def method2(self):\n",
        "    print('You will get all of my property and methods')\n",
        "\n",
        "class B(A):\n",
        "  def __init__(self):\n",
        "    pass\n",
        "    # print('__init__ of class B')\n",
        "\n",
        "  def method1(self,num): #exact same name hote hobe\n",
        "    print('Always party') \n",
        "\n",
        "\n",
        "b1=B()\n",
        "b1.method1(45)\n",
        "b1.method2()"
      ],
      "metadata": {
        "colab": {
          "base_uri": "https://localhost:8080/"
        },
        "id": "yqTURyA0TApX",
        "outputId": "53765011-bee8-45bf-90d8-cdf3b7851ad8"
      },
      "execution_count": null,
      "outputs": [
        {
          "output_type": "stream",
          "name": "stdout",
          "text": [
            "Always party\n",
            "You will get all of my property and methods\n"
          ]
        }
      ]
    },
    {
      "cell_type": "code",
      "source": [
        "#method overriding\n",
        "class A:\n",
        "  def __init__(self):\n",
        "    print('__init__ of class A')\n",
        "\n",
        "  def method1(self):\n",
        "    print('olpo study')\n",
        "\n",
        "  def method2(self):\n",
        "    print('You will get all of my property and methods')\n",
        "\n",
        "class B(A):\n",
        "  def __init__(self):\n",
        "    pass\n",
        "    # print('__init__ of class B')\n",
        "\n",
        "  def method1(self,num): #exact same name hote hobe\n",
        "    super().method1()\n",
        "    print('olpo party') \n",
        "    super().method1()\n",
        "\n",
        "b1=B()\n",
        "b1.method1(45)\n",
        "b1.method2()"
      ],
      "metadata": {
        "colab": {
          "base_uri": "https://localhost:8080/"
        },
        "id": "XmX1i4NUUDIf",
        "outputId": "2c7577dd-9358-4d6c-8be6-d7d683988abc"
      },
      "execution_count": null,
      "outputs": [
        {
          "output_type": "stream",
          "name": "stdout",
          "text": [
            "olpo study\n",
            "olpo party\n",
            "olpo study\n",
            "You will get all of my property and methods\n"
          ]
        }
      ]
    },
    {
      "cell_type": "code",
      "source": [
        "#is instance built in method\n",
        "\n",
        "class Animal:            #object class theke derived hoise\n",
        "  def __init__(self,name):\n",
        "    self.name=name\n",
        "\n",
        "  def eat(self):\n",
        "    print(self.name,'is eating')\n",
        "\n",
        "class Dog(Animal): #method resolution order\n",
        "\n",
        "  def bark(self):\n",
        "    print(self.name,'is barking')\n",
        "\n",
        "a1=Animal('Jack')\n",
        "d1=Dog('puchi')\n",
        "\n",
        "d1.bark()\n",
        "d1.eat()\n",
        "a1.eat()\n",
        "#isintance(Object,classname)\n",
        "print(isinstance(d1,Dog)) # Is d1 is an instance of dog?\n",
        "print(isinstance(a1,Animal))\n",
        "print(isinstance(d1,Animal))\n",
        "print(isinstance(a1,Dog))\n",
        "# print(issubclass(Class,Classname))\n",
        "print(issubclass(Animal,Dog)) # is animal a subclass of dog?\n",
        "print(issubclass(Dog,Animal))\n",
        "# a1.bark() parent kintu child er character access korte parbena"
      ],
      "metadata": {
        "id": "8l-kS1LFJ2Fd",
        "colab": {
          "base_uri": "https://localhost:8080/"
        },
        "outputId": "4c0a1b52-c57e-4b25-f2eb-753b33c7fbbb"
      },
      "execution_count": null,
      "outputs": [
        {
          "output_type": "stream",
          "name": "stdout",
          "text": [
            "puchi is barking\n",
            "puchi is eating\n",
            "Jack is eating\n",
            "True\n",
            "True\n",
            "True\n",
            "False\n",
            "False\n",
            "True\n"
          ]
        }
      ]
    },
    {
      "cell_type": "code",
      "source": [],
      "metadata": {
        "id": "3Fp_JAOQS-4e"
      },
      "execution_count": null,
      "outputs": []
    },
    {
      "cell_type": "code",
      "source": [
        "#variable overrding /attribute overriding\n",
        "\n",
        "class Animal:\n",
        "  def __init__ (self,name):\n",
        "    self.name=name\n",
        "    self.color='White'\n",
        "\n",
        "  def eat(self):\n",
        "    print(self.color,self.name,'is eating')\n",
        "\n",
        "class Dog(Animal):\n",
        "  def __init__(self,name,color):\n",
        "    super().__init__(name)\n",
        "    self.color=color\n",
        "    \n",
        "\n",
        "  def bark(self):\n",
        "    print(self.color,self.name,'is barking')\n",
        "\n",
        "d1=Dog('Rover','Brown')\n",
        "d1.bark()\n",
        "d1.eat()          \n",
        "\n"
      ],
      "metadata": {
        "colab": {
          "base_uri": "https://localhost:8080/"
        },
        "id": "6UjlI_3a92-k",
        "outputId": "d9634630-1214-41a1-90ab-76abc31f5645"
      },
      "execution_count": null,
      "outputs": [
        {
          "output_type": "stream",
          "name": "stdout",
          "text": [
            "Brown Rover is barking\n",
            "Brown Rover is eating\n"
          ]
        }
      ]
    },
    {
      "cell_type": "code",
      "source": [
        "#str() method\n",
        "\n",
        "class Student:\n",
        "  def __init__(self,name,id):\n",
        "    self.name=name\n",
        "    self.id=id\n",
        "    print(self)\n",
        "\n",
        "  def __str__(self):\n",
        "    #return ('THis is',self.name) wrong string return koro\n",
        "    return 'My name is '+self.name \n",
        "\n",
        "\n",
        "s1=Student('Pimpim',15)\n",
        "s2=Student('Zead',20)\n",
        "print('----------')\n",
        "print(s1)\n",
        "print(s1.__str__())     #built in str\n",
        "print(s2.__str__())\n"
      ],
      "metadata": {
        "colab": {
          "base_uri": "https://localhost:8080/"
        },
        "id": "5Rmtw4GLS2su",
        "outputId": "72e51960-2fbb-4f74-e2c3-0521cfa9513c"
      },
      "execution_count": null,
      "outputs": [
        {
          "output_type": "stream",
          "name": "stdout",
          "text": [
            "5\n",
            "5\n",
            "----------\n",
            "5\n",
            "5\n",
            "5\n"
          ]
        }
      ]
    },
    {
      "cell_type": "code",
      "source": [
        "#Tracing\n",
        "\n",
        "class A:\n",
        "  temp=-5\n",
        "  def __init__(self):\n",
        "    self.sum=0\n",
        "    self.y=0\n",
        "    self.y=self.temp-3\n",
        "    self.sum=A.temp+2\n",
        "    A.temp-=2\n",
        "  def methodA(self,m,n):\n",
        "    x=1\n",
        "    A.temp+=1\n",
        "    self.y=self.y+m+self.temp\n",
        "    x=x+1+n\n",
        "    self.sum=self.sum+x+self.y\n",
        "    print(f'{x} {self.y} {self.sum}')\n",
        "\n",
        "class B(A):\n",
        "  x=-10\n",
        "  def __init__(self,b=None):\n",
        "    super().__init__()\n",
        "    self.y=5\n",
        "    self.temp=-5\n",
        "    self.sum=3\n",
        "    if b==None:\n",
        "      self.y=self.temp+4\n",
        "      self.sum=3+self.temp+3\n",
        "      self.temp-=2\n",
        "    else:\n",
        "      self.sum=b.sum\n",
        "      B.x=b.x\n",
        "        \n",
        "\n"
      ],
      "metadata": {
        "id": "LYGkqnNJUmz9"
      },
      "execution_count": null,
      "outputs": []
    }
  ]
}