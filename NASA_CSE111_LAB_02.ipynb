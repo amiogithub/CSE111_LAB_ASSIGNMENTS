{
  "nbformat": 4,
  "nbformat_minor": 0,
  "metadata": {
    "colab": {
      "provenance": []
    },
    "kernelspec": {
      "name": "python3",
      "display_name": "Python 3"
    },
    "language_info": {
      "name": "python"
    }
  },
  "cells": [
    {
      "cell_type": "code",
      "source": [
        "#Task: 01 (method: 01)\n",
        "def fraction(num1,num2):\n",
        "  if num2==0:\n",
        "    return int(0)\n",
        "  else:\n",
        "    a=num1/num2\n",
        "    \n",
        "    if a not in range(0,2):\n",
        "      b=num1//num2\n",
        "      \n",
        "      c=a-b\n",
        "     \n",
        "      return round(c,2)\n",
        "    else:\n",
        "      return int(a)  \n",
        "\n",
        "print(fraction(5,0))"
      ],
      "metadata": {
        "colab": {
          "base_uri": "https://localhost:8080/"
        },
        "id": "wXGZaUUJdqx4",
        "outputId": "a15c7177-9341-44e4-9054-5d2ae6495c1c"
      },
      "execution_count": null,
      "outputs": [
        {
          "output_type": "stream",
          "name": "stdout",
          "text": [
            "0\n"
          ]
        }
      ]
    },
    {
      "cell_type": "code",
      "source": [
        "#Task:01(Method: 02)\n",
        "\n",
        "def fraction(x,y):\n",
        "  if y != 0:\n",
        "    a = x / y\n",
        "    if x % y == 0:\n",
        "      return (int(a))\n",
        "    else:\n",
        "      b = a - int(a)\n",
        "      return(b)\n",
        "  else:\n",
        "    return (0)\n",
        "print(fraction(0,5))"
      ],
      "metadata": {
        "id": "PRAA0TEXguSW"
      },
      "execution_count": null,
      "outputs": []
    },
    {
      "cell_type": "code",
      "source": [
        "#Task:02 (Method: 01)\n",
        "\n",
        "def AmiKenoMota(height,weight):\n",
        "  \n",
        "  bmi=weight/(height/100)**2\n",
        "  print(f'Score is {round(bmi,1)}. ',end=\"\")\n",
        "  if bmi<18.5:\n",
        "    return 'You are Underweight'\n",
        "  elif 18.5<=bmi<=24.9:\n",
        "    return 'You are Normal'\n",
        "  elif 25<=bmi<=30:\n",
        "    return 'You are Overweight'\n",
        "  elif bmi>30:\n",
        "    return 'You are Obese'\n",
        "    \n",
        "height=int(input())  \n",
        "weight=int(input())\n",
        "\n",
        "print(AmiKenoMota(height,weight))"
      ],
      "metadata": {
        "id": "H0EIVYCMdntQ"
      },
      "execution_count": null,
      "outputs": []
    },
    {
      "cell_type": "code",
      "source": [
        "#Task: 03\n",
        "\n",
        "def sums(minimum,maximum,divisor):\n",
        "  sum=0\n",
        "  for i in range(minimum,maximum):\n",
        "    if i%divisor==0:\n",
        "      sum+=i\n",
        "\n",
        "  return sum    \n",
        "minimum=int(input())\n",
        "maximum=int(input())\n",
        "divisor=int(input())\n",
        "print(sums(minimum,maximum,divisor))  "
      ],
      "metadata": {
        "id": "DOdFDXvKg-nF"
      },
      "execution_count": null,
      "outputs": []
    },
    {
      "cell_type": "code",
      "source": [
        "#Task:04(Method: 01)\n",
        "\n",
        "def food(item,place='Mohakhali'):\n",
        "  menu = {'BBQ Chicken Cheese Burger':250,'Beef Burger':170,'Naga Drums':200}\n",
        "  if place != 'Mohakhali':\n",
        "    deliver = 60\n",
        "  else:\n",
        "    deliver = 40\n",
        "  total = menu[item] + deliver + (menu[item]*(8/100))\n",
        "  return(total)\n",
        "print(food('Beef Burger'))"
      ],
      "metadata": {
        "colab": {
          "base_uri": "https://localhost:8080/"
        },
        "id": "gZ7RdULTpgsP",
        "outputId": "cd6097c1-10a7-4be3-c136-57a1a51bf377"
      },
      "execution_count": null,
      "outputs": [
        {
          "output_type": "stream",
          "name": "stdout",
          "text": [
            "223.6\n"
          ]
        }
      ]
    },
    {
      "cell_type": "code",
      "source": [
        "#Task: 04(Method:02)\n",
        "def FoodPanda(name,place='Mohakhali'):\n",
        "  price=0\n",
        "  if name=='BBQ Chicken Cheese Burger':\n",
        "    price+=250*0.08+250\n",
        "  elif name=='Beef Burger':\n",
        "    price+=170*0.08+170\n",
        "  elif name=='Naga Drums':\n",
        "    price+=200*0.08+200\n",
        "\n",
        "  if place=='Mohakhali':\n",
        "    price+=40\n",
        "  else:\n",
        "    price+=60    \n",
        "  return price \n",
        "\n",
        "print(FoodPanda('Beef Burger'))   "
      ],
      "metadata": {
        "colab": {
          "base_uri": "https://localhost:8080/"
        },
        "id": "Y0uMzOWvhDw9",
        "outputId": "533dbb41-49d3-4e99-ab69-34a9296c198f"
      },
      "execution_count": null,
      "outputs": [
        {
          "output_type": "stream",
          "name": "stdout",
          "text": [
            "223.6\n"
          ]
        }
      ]
    },
    {
      "cell_type": "code",
      "source": [
        "#Task:05(Method: 01)\n",
        "def replace_domain(email,new,old=None):\n",
        "  newf=''\n",
        "  for i in range(len(email)):\n",
        "    if email[i]=='@' and email[i+1:]==new:\n",
        "       newf+= 'Unchanged:'\n",
        "       newf+=email[:i+1]\n",
        "       newf+=new\n",
        "       return newf\n",
        "    elif email[i]=='@' and email[i+1:]!=new:\n",
        "       newf+= 'Changed:'\n",
        "       newf+=email[:i+1]\n",
        "       newf+=new\n",
        "       return newf\n",
        " \n",
        "\n",
        "email='bob@sheba.xyz'\n",
        "new='sheba.xyz'\n",
        "old=''\n",
        "\n",
        "print(replace_domain(email,new,old))\n"
      ],
      "metadata": {
        "id": "QvgjOuZglcqS"
      },
      "execution_count": null,
      "outputs": []
    },
    {
      "cell_type": "code",
      "source": [
        "#Task: 05(Method:02)\n",
        "def email(a,b, old ='kaaj.com'):\n",
        "  if old in a:\n",
        "    i = 0\n",
        "    while a[i] != '@':\n",
        "      i+=1\n",
        "    d = a[:i+1]\n",
        "    a = d + b\n",
        "    return(a,0)\n",
        "  else:\n",
        "    return(a,1)\n",
        "email,no=email('alice@kaaj.com', 'sheba.xyz','kaaj.com')\n",
        "if no == 1:\n",
        "  print(f\"Unchanged {email}\")\n",
        "else:\n",
        "  print(f\"Changed {email}\")"
      ],
      "metadata": {
        "id": "g3VraCy1lZf0"
      },
      "execution_count": null,
      "outputs": []
    },
    {
      "cell_type": "code",
      "execution_count": null,
      "metadata": {
        "colab": {
          "base_uri": "https://localhost:8080/"
        },
        "id": "xAqzpVDcNhP1",
        "outputId": "4b581f5d-e20b-41e7-8d3f-621c375930e8"
      },
      "outputs": [
        {
          "output_type": "stream",
          "name": "stdout",
          "text": [
            "No vowels in the name\n"
          ]
        }
      ],
      "source": [
        "#TASK 06 (SOLVE 01)\n",
        "def vowel_checker(name):\n",
        "  counter=0\n",
        "  vowels=''\n",
        "  for i in name:\n",
        "    if i in 'aeiou':\n",
        "      vowels=vowels+i+','+\" \" \n",
        "      counter+=1\n",
        "  if counter==0:\n",
        "    print('No vowels in the name')\n",
        "  else:\n",
        "    print(f'Vowels: {vowels}. Total number of vowels: {counter}')      \n",
        "\n",
        "vowel_checker('XYZ')  "
      ]
    },
    {
      "cell_type": "code",
      "source": [
        "#Task 07(Method:01)\n",
        "\n",
        "def palindrome_checker(name):\n",
        "  new=''\n",
        "  for i in name:\n",
        "    if i!=\" \":\n",
        "      new+=i\n",
        "  if new[-1:-len(new)-1:-1] == new:\n",
        "    print('Palindrome')  \n",
        "  else:\n",
        "    print('Not a palindrome')  \n",
        "\n",
        "palindrome_checker('nurses run')"
      ],
      "metadata": {
        "colab": {
          "base_uri": "https://localhost:8080/"
        },
        "id": "sWyo-wWjTURT",
        "outputId": "85d0ff5a-1274-48a3-b835-9e4751e19c27"
      },
      "execution_count": null,
      "outputs": [
        {
          "output_type": "stream",
          "name": "stdout",
          "text": [
            "Palindrome\n"
          ]
        }
      ]
    },
    {
      "cell_type": "code",
      "source": [
        "#Task 08(Method:01)\n",
        "\n",
        "def function_name(days):\n",
        "\n",
        "  years=days//365\n",
        "  remains=days%365\n",
        "  return f'{years} years, {remains//30} months and {remains%30} days'\n",
        "\n",
        "print(function_name(4000))  "
      ],
      "metadata": {
        "colab": {
          "base_uri": "https://localhost:8080/"
        },
        "id": "I7EYJk6XUQsL",
        "outputId": "19f5050c-b45c-419d-944a-01fc1cc4cb90"
      },
      "execution_count": null,
      "outputs": [
        {
          "output_type": "stream",
          "name": "stdout",
          "text": [
            "10 years, 11 months and 20 days\n"
          ]
        }
      ]
    },
    {
      "cell_type": "code",
      "source": [
        "# Solution:08(Method:02)\n",
        "\n",
        "def function_name(days):\n",
        "  years=days//365\n",
        "  remain=days%365\n",
        "  months=remain//30\n",
        "  days=remain%30\n",
        "  print(f'{years} years, {months} months and {days} days')\n",
        "\n",
        "\n",
        "\n",
        "days=int(input('Sir,please enter the number of days: ')) \n",
        "function_name(days) "
      ],
      "metadata": {
        "colab": {
          "base_uri": "https://localhost:8080/"
        },
        "id": "Vzob81OvXVdA",
        "outputId": "5ee474c1-4637-4485-803b-f90a4d89a6d0"
      },
      "execution_count": null,
      "outputs": [
        {
          "output_type": "stream",
          "name": "stdout",
          "text": [
            "Sir,please enter the number of days: 4320\n",
            "11 years, 10 months and 5 days\n"
          ]
        }
      ]
    },
    {
      "cell_type": "code",
      "source": [
        "#Task 09\n",
        "word=('my favourite animal is a dog. a dog has sharp teeth so that it can eat flesh very easily.do you know my pet dog’s name? i love my pet very much.')\n",
        "new = ''\n",
        "for i in range(len(word)):\n",
        "  if i == 0:\n",
        "    if 'a'<=word[i]<='z':\n",
        "      new+=chr(ord(word[i])-32)\n",
        "  elif i == 'i':\n",
        "    new += 'I'\n",
        "  elif word[i-2] in (\".!?\") and i!=1:\n",
        "    new+=chr(ord(word[i])-32)\n",
        "  else:\n",
        "    new+=word[i]\n",
        "  \n",
        "print(new)\n",
        "    "
      ],
      "metadata": {
        "colab": {
          "base_uri": "https://localhost:8080/"
        },
        "id": "Wyu1ZLvZYaQ4",
        "outputId": "1b85e7e0-451b-4c37-8096-519765d96ef3"
      },
      "execution_count": null,
      "outputs": [
        {
          "output_type": "stream",
          "name": "stdout",
          "text": [
            "My favourite animal is a dog. A dog has sharp teeth so that it can eat flesh very easily.dO you know my pet dog’s name? I love my pet very much.\n"
          ]
        }
      ]
    },
    {
      "cell_type": "code",
      "source": [
        "'''\n",
        "Take an integer input. for example N=4\n",
        "now create a loop that will run for N=4 times\n",
        "now in the loop 4 inputs will be taken\n",
        "the inputs will be \n",
        "1234##SS1\n",
        "789##SS7\n",
        "4654##SS4\n",
        "987##SS9\n",
        "now create a dictionay\n",
        "the keys will be first character of the inputs \n",
        "for example here the keys will be 1,7,4,9\n",
        "and all tha characters except ##SS will be in the values of the keys.\n",
        "akhon prottek ta input er last character aar first character jodi match kore oita oi key er values e dhukbe\n",
        "shesh\n",
        "now print the dicitonary\n",
        "\n",
        "\n",
        "output: {1:2341,7:897,S:6544,9:879}\n",
        "##SS eita diye split kore prottek ta input er baki letters gulo akta list e append kore rakte hobe\n",
        "'''"
      ],
      "metadata": {
        "id": "4p9H3p0TSbKA"
      },
      "execution_count": null,
      "outputs": []
    }
  ]
}