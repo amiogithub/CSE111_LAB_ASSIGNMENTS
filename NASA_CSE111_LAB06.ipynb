{
  "nbformat": 4,
  "nbformat_minor": 0,
  "metadata": {
    "colab": {
      "provenance": []
    },
    "kernelspec": {
      "name": "python3",
      "display_name": "Python 3"
    },
    "language_info": {
      "name": "python"
    }
  },
  "cells": [
    {
      "cell_type": "code",
      "source": [
        "#Lab Assignments"
      ],
      "metadata": {
        "id": "I1i3GEmrLL1n"
      },
      "execution_count": null,
      "outputs": []
    },
    {
      "cell_type": "code",
      "source": [
        "#Task: 01\n",
        "class Student:\n",
        "  ID=0\n",
        "  def __init__(self,name,department,age,cgpa):\n",
        "    self.name=name\n",
        "    self.department=department\n",
        "    self.age=age\n",
        "    self.cgpa=cgpa\n",
        "    Student.ID+=1\n",
        "    self.id=Student.ID\n",
        "\n",
        "  def showDetails(self):\n",
        "    print(f'ID:{self.id}\\nName:{self.name}\\nDepartment:{self.department}\\nAge:{self.age}\\nCGPA:{self.cgpa}')\n",
        "    \n",
        "  @classmethod\n",
        "  def from_String(cls,info):\n",
        "    \n",
        "    name,department,age,cgpa=info.split('-')  \n",
        "    obj=cls(name,department,age,cgpa)\n",
        "    return obj\n",
        "\n",
        "\n",
        "s1 = Student(\"Samin\", \"CSE\", 21, 3.91)\n",
        "s1.showDetails()\n",
        "print(\"-----------------------\")\n",
        "s2 = Student(\"Fahim\", \"ECE\", 21, 3.85)\n",
        "s2.showDetails()\n",
        "print(\"-----------------------\")\n",
        "s3 = Student(\"Tahura\", \"EEE\", 22, 3.01)\n",
        "s3.showDetails() \n",
        "print(\"-----------------------\")\n",
        "s4 = Student.from_String(\"Sumaiya-BBA-23-3.96\")\n",
        "s4.showDetails() \n"
      ],
      "metadata": {
        "colab": {
          "base_uri": "https://localhost:8080/"
        },
        "id": "zwjfKM0MXEZA",
        "outputId": "07882563-acb8-4fb2-f974-ac2565954edc"
      },
      "execution_count": null,
      "outputs": [
        {
          "output_type": "stream",
          "name": "stdout",
          "text": [
            "ID:1\n",
            "Name:Samin\n",
            "Department:CSE\n",
            "Age:21\n",
            "CGPA:3.91\n",
            "-----------------------\n",
            "ID:2\n",
            "Name:Fahim\n",
            "Department:ECE\n",
            "Age:21\n",
            "CGPA:3.85\n",
            "-----------------------\n",
            "ID:3\n",
            "Name:Tahura\n",
            "Department:EEE\n",
            "Age:22\n",
            "CGPA:3.01\n",
            "-----------------------\n",
            "ID:4\n",
            "Name:Sumaiya\n",
            "Department:BBA\n",
            "Age:23\n",
            "CGPA:3.96\n"
          ]
        }
      ]
    },
    {
      "cell_type": "code",
      "source": [
        "#Task: 02\n",
        "\n",
        "class Assassin:\n",
        "  count=0\n",
        "  def __init__(self,name,rate):\n",
        "    self.name=name\n",
        "    self.rate=rate\n",
        "    Assassin.count+=1\n",
        "  @classmethod\n",
        "  def failureRate(cls,name,new):\n",
        "    # self.rate=100-new kora jabena to\n",
        "    rate=100-new\n",
        "    obj=cls(name,rate)\n",
        "    return obj\n",
        "  @classmethod\n",
        "\n",
        "  def failurePercentage(cls,name,new):\n",
        "    rate=100-int(new[:-1])\n",
        "    obj=cls(name,rate)\n",
        "    return obj  \n",
        "\n",
        "  def printDetails(self):\n",
        "    print(f'Name:{self.name}\\nSuccess rate:{self.rate}%\\nTotal number of Assassin:{Assassin.count}\\n')\n",
        "\n",
        "    \n",
        "john_wick = Assassin('John Wick', 100)\n",
        "john_wick.printDetails()\n",
        "print('================================')\n",
        "nagisa = Assassin.failureRate(\"Nagisa\", 20)\n",
        "nagisa.printDetails()\n",
        "print('================================')\n",
        "akabane = Assassin.failurePercentage(\"Akabane\", \"10%\")\n",
        "akabane.printDetails()\n",
        "\n",
        "\n"
      ],
      "metadata": {
        "colab": {
          "base_uri": "https://localhost:8080/"
        },
        "id": "baznPR4JZkWq",
        "outputId": "b38773da-ea22-4b8f-8926-b6efc6d326e2"
      },
      "execution_count": 1,
      "outputs": [
        {
          "output_type": "stream",
          "name": "stdout",
          "text": [
            "Name:John Wick\n",
            "Success rate:100%\n",
            "Total number of Assassin:1\n",
            "\n",
            "================================\n",
            "Name:Nagisa\n",
            "Success rate:80%\n",
            "Total number of Assassin:2\n",
            "\n",
            "================================\n",
            "Name:Akabane\n",
            "Success rate:90%\n",
            "Total number of Assassin:3\n",
            "\n"
          ]
        }
      ]
    },
    {
      "cell_type": "code",
      "source": [
        "#Lab:03\n",
        "\n",
        "class Passenger:\n",
        "  count=0\n",
        "  def __init__(self,name):\n",
        "    self.name=name\n",
        "    Passenger.count+=1\n",
        "    self.fare=450\n",
        "\n",
        "  def set_bag_weight(self,weight):\n",
        "    \n",
        "    if weight<=20:\n",
        "      self.fare=450\n",
        "    elif 21<=weight<=50:\n",
        "      self.fare+=50\n",
        "    elif weight>50:\n",
        "      self.fare+=100     \n",
        "\n",
        "  def printDetail(self):\n",
        "    print(f'Name:{self.name}\\nBus Fare:{self.fare}')\n",
        "\n",
        "\n",
        "print('Total Passenger:', Passenger.count)\n",
        "p1 = Passenger('Jack')\n",
        "p1.set_bag_weight(90)\n",
        "p2 = Passenger('Carol')\n",
        "p2.set_bag_weight(10)\n",
        "p3 = Passenger('Mike')\n",
        "p3.set_bag_weight(25)\n",
        "print(\"=========================\")\n",
        "p1.printDetail()\n",
        "print(\"=========================\")\n",
        "p2.printDetail()\n",
        "print(\"=========================\")\n",
        "p3.printDetail()\n",
        "print(\"=========================\")\n",
        "print('Total Passenger:', Passenger.count)\n",
        "\n"
      ],
      "metadata": {
        "colab": {
          "base_uri": "https://localhost:8080/"
        },
        "id": "W-Vd9780bn2Y",
        "outputId": "b177b115-292f-4db4-c6cd-b9d02a722f68"
      },
      "execution_count": null,
      "outputs": [
        {
          "output_type": "stream",
          "name": "stdout",
          "text": [
            "Total Passenger: 0\n",
            "=========================\n",
            "Name:Jack\n",
            "Bus Fare:550\n",
            "=========================\n",
            "Name:Carol\n",
            "Bus Fare:450\n",
            "=========================\n",
            "Name:Mike\n",
            "Bus Fare:500\n",
            "=========================\n",
            "Total Passenger: 3\n"
          ]
        }
      ]
    },
    {
      "cell_type": "code",
      "source": [
        "#Task:04\n",
        "\n",
        "class Travel:\n",
        "  count=0\n",
        "  def __init__(self,source,destination):\n",
        "    self.source=source\n",
        "    self.destination=destination\n",
        "    self.flight='1'\n",
        "    Travel.count+=1\n",
        "\n",
        "  def set_time(self,time):\n",
        "    self.flight=time\n",
        "\n",
        "  def set_destination(self,place):\n",
        "    self.destination=place\n",
        "\n",
        "  def set_source(self,place):\n",
        "    self.source=place\n",
        "\n",
        "  def display_travel_info(self):\n",
        "    return(f'Source:{self.source}\\nDestination:{self.destination}\\nFlight Time:{self.flight}:00')\n",
        "\n",
        "\n",
        "print('No. of Traveller =', Travel.count)\n",
        "print(\"=======================\")\n",
        "t1 = Travel(\"Dhaka\",\"India\")\n",
        "print(t1.display_travel_info())\n",
        "print(\"=======================\")\n",
        "t2 = Travel(\"Kuala Lampur\",\"Dhaka\")\n",
        "t2.set_time(23)\n",
        "print(t2.display_travel_info())\n",
        "print(\"=======================\")\n",
        "t3 = Travel(\"Dhaka\",\"New_Zealand\")\n",
        "t3.set_time(15)\n",
        "t3.set_destination(\"Germany\")\n",
        "print(t3.display_travel_info())\n",
        "print(\"=======================\")\n",
        "t4 = Travel(\"Dhaka\",\"India\")\n",
        "t4.set_time(9)\n",
        "t4.set_source(\"Malaysia\")\n",
        "t4.set_destination(\"Canada\")\n",
        "print(t4.display_travel_info())\n",
        "print(\"=======================\")\n",
        "print('No. of Traveller =', Travel.count)\n",
        "\n",
        "\n",
        "\n",
        "\n",
        "\n",
        "\n",
        "\n",
        "\n",
        "  \n"
      ],
      "metadata": {
        "colab": {
          "base_uri": "https://localhost:8080/"
        },
        "id": "MqswhxcxePCp",
        "outputId": "614360de-8140-4466-ff21-95830f5d7959"
      },
      "execution_count": null,
      "outputs": [
        {
          "output_type": "stream",
          "name": "stdout",
          "text": [
            "No. of Traveller = 0\n",
            "=======================\n",
            "Source:Dhaka\n",
            "Destination:India\n",
            "Flight Time:1:00\n",
            "=======================\n",
            "Source:Kuala Lampur\n",
            "Destination:Dhaka\n",
            "Flight Time:23:00\n",
            "=======================\n",
            "Source:Dhaka\n",
            "Destination:Germany\n",
            "Flight Time:15:00\n",
            "=======================\n",
            "Source:Malaysia\n",
            "Destination:Canada\n",
            "Flight Time:9:00\n",
            "=======================\n",
            "No. of Traveller = 4\n"
          ]
        }
      ]
    },
    {
      "cell_type": "code",
      "source": [
        "#Task:05\n",
        "class Employee:\n",
        "  def __init__(self,name,workingPeriod):\n",
        "    self.name=name\n",
        "    self.workingPeriod=workingPeriod\n",
        "\n",
        "  @classmethod\n",
        "  def employeeByJoiningYear(cls,name,year):\n",
        "    year=2023-year\n",
        "    obj=cls(name,year)\n",
        "    return obj\n",
        "\n",
        "  @staticmethod\n",
        "  def experienceCheck(exp,gender):\n",
        "    if exp<3:\n",
        "      if gender=='male':\n",
        "        return('He is not experienced')\n",
        "      else:\n",
        "        return'She is not experienced'\n",
        "    else:\n",
        "      if gender=='male':\n",
        "        return('He is  experienced')\n",
        "      else:\n",
        "        return'She is experienced'          \n",
        "\n",
        "employee1 = Employee('Dororo', 3)\n",
        "employee2 = Employee.employeeByJoiningYear('Harry', 2016)\n",
        "print(employee1.workingPeriod)\n",
        "print(employee2.workingPeriod)\n",
        "print(employee1.name)\n",
        "print(employee2.name)\n",
        "print(Employee.experienceCheck(2, \"male\"))\n",
        "print(Employee.experienceCheck(3, \"female\"))\n"
      ],
      "metadata": {
        "colab": {
          "base_uri": "https://localhost:8080/"
        },
        "id": "gfW3LYP5mGJR",
        "outputId": "9969c8cd-36d9-4fa4-c523-e4cee0444a0f"
      },
      "execution_count": null,
      "outputs": [
        {
          "output_type": "stream",
          "name": "stdout",
          "text": [
            "3\n",
            "7\n",
            "Dororo\n",
            "Harry\n",
            "He is not experienced\n",
            "She is experienced\n"
          ]
        }
      ]
    },
    {
      "cell_type": "code",
      "source": [
        "#Task:06\n",
        "\n",
        "class Laptop:\n",
        "  laptopCount=0\n",
        "  def __init__(self,name,count):\n",
        "    self.name=name\n",
        "    self.count=count\n",
        "    Laptop.laptopCount+=count\n",
        "\n",
        "  @staticmethod\n",
        "  def advantage():\n",
        "    print(f'laptops are portable')\n",
        "    \n",
        "  @classmethod\n",
        "  def resetCount(cls):\n",
        "    cls.laptopCount=0\n",
        "\n",
        "\n",
        "lenovo = Laptop(\"Lenovo\", 5)\n",
        "dell = Laptop(\"Dell\", 7)\n",
        "print(lenovo.name, lenovo.count)\n",
        "print(dell.name, dell.count)\n",
        "print(\"Total number of Laptops\", Laptop.laptopCount)\n",
        "Laptop.advantage()\n",
        "Laptop.resetCount()\n",
        "print(\"Total number of Laptops\", Laptop.laptopCount) \n"
      ],
      "metadata": {
        "colab": {
          "base_uri": "https://localhost:8080/"
        },
        "id": "D-DdjtxDoP7R",
        "outputId": "d7abf6f5-d9b9-4cbd-fc14-48f2ef542497"
      },
      "execution_count": null,
      "outputs": [
        {
          "output_type": "stream",
          "name": "stdout",
          "text": [
            "Lenovo 5\n",
            "Dell 7\n",
            "Total number of Laptops 12\n",
            "laptops are portable\n",
            "Total number of Laptops 0\n"
          ]
        }
      ]
    },
    {
      "cell_type": "code",
      "source": [
        "#Task:07\n",
        "\n",
        "class Cat:\n",
        "  Number_of_cats=0\n",
        "  def __init__(self,color,activity):\n",
        "    self.color=color\n",
        "    self.activity=activity\n",
        "    Cat.Number_of_cats+=1\n",
        "\n",
        "  @classmethod\n",
        "\n",
        "  def no_parameter(cls):\n",
        "    \n",
        "    color,activity='White','sitting'\n",
        "    billu=cls(color,activity)\n",
        "    return billu\n",
        "\n",
        "  @classmethod\n",
        "\n",
        "  def first_parameter(cls,color):\n",
        "    \n",
        "    activity='sitting'\n",
        "    billu2=cls(color,activity)\n",
        "    return billu2\n",
        "\n",
        "  @classmethod\n",
        "\n",
        "  def second_parameter(cls,activity):\n",
        "    \n",
        "    color='Grey'\n",
        "    billu3=cls(color,activity)\n",
        "    return billu3\n",
        "\n",
        "  def changeColor(self,color):\n",
        "    self.color=color\n",
        "\n",
        "  def printCat(self):\n",
        "    print(f'{self.color} cat is {self.activity}')\n",
        "\n",
        "  \n",
        "\n",
        "print(\"Total number of cats:\", Cat.Number_of_cats)\n",
        "c1 = Cat.no_parameter()\n",
        "c2 = Cat.first_parameter(\"Black\")\n",
        "c3 = Cat(\"Brown\", \"jumping\")\n",
        "c4 = Cat(\"Red\", \"purring\")\n",
        "c5 = Cat.second_parameter(\"playing\")\n",
        "print(\"=======================\")\n",
        "c1.printCat()\n",
        "c2.printCat()\n",
        "c3.printCat()\n",
        "c4.printCat()\n",
        "c5.printCat()\n",
        "c1.changeColor(\"Blue\")\n",
        "c3.changeColor(\"Purple\")\n",
        "c1.printCat()\n",
        "c3.printCat()\n",
        "print(\"=======================\")\n",
        "print(\"Total number of cats:\", Cat.Number_of_cats)\n"
      ],
      "metadata": {
        "colab": {
          "base_uri": "https://localhost:8080/"
        },
        "id": "-AF7XD6nvyo4",
        "outputId": "8df66596-0d18-464f-d462-01e396254a25"
      },
      "execution_count": null,
      "outputs": [
        {
          "output_type": "stream",
          "name": "stdout",
          "text": [
            "Total number of cats: 0\n",
            "=======================\n",
            "White cat is sitting\n",
            "Black cat is sitting\n",
            "Brown cat is jumping\n",
            "Red cat is purring\n",
            "Grey cat is playing\n",
            "Blue cat is sitting\n",
            "Purple cat is jumping\n",
            "=======================\n",
            "Total number of cats: 5\n"
          ]
        }
      ]
    },
    {
      "cell_type": "code",
      "source": [
        "#Task:08\n",
        "from math import pi\n",
        "class Cylinder:\n",
        "  radius=5\n",
        "  height=18\n",
        "  def __init__(self,radius,height):\n",
        "    print(f'Default radius={Cylinder.radius} and height={Cylinder.height}')\n",
        "    Cylinder.radius=self.radius=radius\n",
        "    Cylinder.height=self.height=height\n",
        "    print(f'Updated: radius={Cylinder.radius} and height= {Cylinder.height}')\n",
        "\n",
        "  @staticmethod\n",
        "\n",
        "  def area(r,h):\n",
        "    print(f'Area: {2*pi*r**2+2*pi*r*h}')\n",
        "\n",
        "\n",
        "  @staticmethod\n",
        "\n",
        "  def volume(r,h):\n",
        "\n",
        "   print(f'Volume: {pi*r**2*h}')\n",
        "\n",
        "  @classmethod\n",
        "\n",
        "  def swap(cls,h,r):\n",
        "    obj=cls(r,h)\n",
        "    return obj\n",
        "\n",
        "  @classmethod\n",
        "\n",
        "  def changeFormat(cls,info):\n",
        "    radius,height=info.split('-')\n",
        "    obj=cls(float(radius),float(height))\n",
        "    return obj\n",
        "\n",
        "\n",
        "\n",
        "c1 = Cylinder(0,0)\n",
        "Cylinder.area(c1.radius,c1.height)\n",
        "Cylinder.volume(c1.radius,c1.height)\n",
        "print(\"===============================\")\n",
        "c2 = Cylinder.swap(8,3)\n",
        "c2.area(c2.radius,c2.height)\n",
        "c2.volume(c2.radius,c2.height)\n",
        "print(\"===============================\")\n",
        "c3 = Cylinder.changeFormat(\"7-13\")\n",
        "c3.area(c3.radius,c3.height)\n",
        "c3.volume(c3.radius,c3.height)\n",
        "print(\"===============================\")\n",
        "Cylinder(0.3,5.56).area(Cylinder.radius,Cylinder.height)\n",
        "print(\"===============================\")\n",
        "Cylinder(3,5).volume(Cylinder.radius,Cylinder.height)\n",
        "\n"
      ],
      "metadata": {
        "colab": {
          "base_uri": "https://localhost:8080/"
        },
        "id": "eMqYaVfz4_XJ",
        "outputId": "16b13b8d-e88a-4ec4-eda0-331e7cdae9bf"
      },
      "execution_count": null,
      "outputs": [
        {
          "output_type": "stream",
          "name": "stdout",
          "text": [
            "Default radius=5 and height=18\n",
            "Updated: radius=0 and height= 0\n",
            "Area: 0.0\n",
            "Volume: 0.0\n",
            "===============================\n",
            "Default radius=0 and height=0\n",
            "Updated: radius=3 and height= 8\n",
            "Area: 207.34511513692635\n",
            "Volume: 226.1946710584651\n",
            "===============================\n",
            "Default radius=3 and height=8\n",
            "Updated: radius=7.0 and height= 13.0\n",
            "Area: 879.645943005142\n",
            "Volume: 2001.1945203366981\n",
            "===============================\n",
            "Default radius=7.0 and height=13.0\n",
            "Updated: radius=0.3 and height= 5.56\n",
            "Area: 11.045839770021713\n",
            "===============================\n",
            "Default radius=0.3 and height=5.56\n",
            "Updated: radius=3 and height= 5\n",
            "Volume: 141.3716694115407\n"
          ]
        }
      ]
    },
    {
      "cell_type": "code",
      "source": [
        "#Task:09\n",
        "\n",
        "class Student:\n",
        "  total_sikens=0\n",
        "  bracu_sikens=0\n",
        "  other_sikens=0\n",
        "  def __init__(self,name,department,farm='BRAC University'):\n",
        "    self.name=name\n",
        "    self.department=department\n",
        "    self.farm=farm\n",
        "\n",
        "    Student.total_sikens+=1\n",
        "    if self.farm=='BRAC University':\n",
        "       Student.bracu_sikens+=1\n",
        "    else:\n",
        "       Student.other_sikens+=1\n",
        "  def individualDetail(self):\n",
        "    print(f'Name:{self.name}\\nDepartment:{self.department}\\nInstitution:{self.farm}')  \n",
        "    \n",
        "  @classmethod\n",
        "  def printDetails(cls):\n",
        "    print(f'Total Student(s):{Student.total_sikens}\\n'\n",
        "    f'BRAC University student(s):{Student.bracu_sikens}\\n'\n",
        "    f'Other institution Student(s):{Student.other_sikens}')\n",
        "\n",
        "  @classmethod   \n",
        "\n",
        "  def createStudent(cls,name,dept='CSE',school='BRAC University'):\n",
        "    new_siken=cls(name,dept,school)\n",
        "    return new_siken\n",
        "\n",
        "\n",
        "\n",
        "Student.printDetails()\n",
        "print('#########################')\n",
        "\n",
        "mikasa = Student('Mikasa Ackerman', \"CSE\")\n",
        "mikasa.individualDetail()\n",
        "print('------------------------------------------')\n",
        "Student.printDetails()\n",
        "\n",
        "print('========================')\n",
        "\n",
        "harry = Student.createStudent('Harry Potter', \"Defence Against Dark Arts\", \"Hogwarts School\")\n",
        "harry.individualDetail()\n",
        "print('-------------------------------------------')\n",
        "Student.printDetails()\n",
        "\n",
        "print('=========================')\n",
        "\n",
        "levi = Student.createStudent(\"Levi Ackerman\", \"CSE\")\n",
        "levi.individualDetail()\n",
        "print('--------------------------------------------')\n",
        "Student.printDetails()\n"
      ],
      "metadata": {
        "colab": {
          "base_uri": "https://localhost:8080/"
        },
        "id": "sCLgrduy_AVR",
        "outputId": "d53eb126-3ba8-4e48-b032-6b8cf4e1a094"
      },
      "execution_count": null,
      "outputs": [
        {
          "output_type": "stream",
          "name": "stdout",
          "text": [
            "Total Student(s):0\n",
            "BRAC University student(s):0\n",
            "Other institution Student(s):0\n",
            "#########################\n",
            "Name:Mikasa Ackerman\n",
            "Department:CSE\n",
            "Institution:BRAC University\n",
            "------------------------------------------\n",
            "Total Student(s):1\n",
            "BRAC University student(s):1\n",
            "Other institution Student(s):0\n",
            "========================\n",
            "Name:Harry Potter\n",
            "Department:Defence Against Dark Arts\n",
            "Institution:Hogwarts School\n",
            "-------------------------------------------\n",
            "Total Student(s):2\n",
            "BRAC University student(s):1\n",
            "Other institution Student(s):1\n",
            "=========================\n",
            "Name:Levi Ackerman\n",
            "Department:CSE\n",
            "Institution:BRAC University\n",
            "--------------------------------------------\n",
            "Total Student(s):3\n",
            "BRAC University student(s):2\n",
            "Other institution Student(s):1\n"
          ]
        }
      ]
    },
    {
      "cell_type": "code",
      "source": [
        "#Method: 01\n",
        "#Task:10\n",
        "\n",
        "class SultansDine:\n",
        "  branch=0\n",
        "  total=0\n",
        "  d1={}\n",
        "\n",
        "  def __init__(self,loc):\n",
        "    SultansDine.branch+=1\n",
        "    self.loc=loc\n",
        "    self.sell=0\n",
        "\n",
        "  def sellQuantity(self,amount):\n",
        "    if amount<10:\n",
        "      self.sell=300*amount\n",
        "      SultansDine.total+=self.sell\n",
        "      self.percent=(self.sell/SultansDine.total)*100\n",
        "      SultansDine.d1['Gulshan']=[self.sell]\n",
        "      #SultansDine.d1['Gulshan'].append(self.percent)\n",
        "\n",
        "    elif amount<20:\n",
        "      self.sell=350*amount\n",
        "      SultansDine.total+=self.sell\n",
        "      self.percent=(self.sell/SultansDine.total)*100\n",
        "      SultansDine.d1['Bailey Road']=[self.sell]\n",
        "      #SultansDine.d1['Bailey Road'].append(self.percent)\n",
        "      \n",
        "    else:\n",
        "      self.sell=400*amount\n",
        "      SultansDine.total+=self.sell\n",
        "      self.percent=(self.sell/SultansDine.total)*100\n",
        "      SultansDine.d1['Dhanmondi']=[self.sell]\n",
        "      #SultansDine.d1['Dhanmondi'].append(self.percent)\n",
        "\n",
        "  def branchInformation(self):\n",
        "    print(f'Branch Name: {self.loc}\\nBranch sell:{self.sell}')\n",
        "\n",
        "  @classmethod\n",
        "  def details(cls):\n",
        "   print(f\"Total number of branch(s): {SultansDine.branch}\\nTotal sell:{SultansDine.total}\")\n",
        "\n",
        "   for keys,values in cls.d1.items():\n",
        "     print(f\"Branch Name: {keys}. Branch sell:{values[0]} taka\\nBranch consist of total sell's: {(values[0]/SultansDine.total)*100:.2f}%\")\n",
        "SultansDine.details()\n",
        "print('########################')\n",
        "dhanmondi = SultansDine('Dhanmondi')\n",
        "dhanmondi.sellQuantity(25)\n",
        "dhanmondi.branchInformation()\n",
        "print('-----------------------------------------')\n",
        "SultansDine.details()\n",
        "print('========================')\n",
        "baily_road = SultansDine('Baily Road')\n",
        "baily_road.sellQuantity(15)\n",
        "baily_road.branchInformation()\n",
        "print('-----------------------------------------')\n",
        "SultansDine.details()\n",
        "print('========================')\n",
        "gulshan = SultansDine('Gulshan')\n",
        "gulshan.sellQuantity(9)\n",
        "gulshan.branchInformation()\n",
        "print('-----------------------------------------')\n",
        "SultansDine.details()"
      ],
      "metadata": {
        "colab": {
          "base_uri": "https://localhost:8080/"
        },
        "id": "qfUbM7Y3D9DZ",
        "outputId": "d04ecf4a-a00a-44f6-cc36-8b92cad0c8ab"
      },
      "execution_count": null,
      "outputs": [
        {
          "output_type": "stream",
          "name": "stdout",
          "text": [
            "Total number of branch(s): 0\n",
            "Total sell:0\n",
            "########################\n",
            "Branch Name: Dhanmondi\n",
            "Branch sell:10000\n",
            "-----------------------------------------\n",
            "Total number of branch(s): 1\n",
            "Total sell:10000\n",
            "Branch Name: Dhanmondi. Branch sell:10000 taka\n",
            "Branch consist of total sell's: 100.00%\n",
            "========================\n",
            "Branch Name: Baily Road\n",
            "Branch sell:5250\n",
            "-----------------------------------------\n",
            "Total number of branch(s): 2\n",
            "Total sell:15250\n",
            "Branch Name: Dhanmondi. Branch sell:10000 taka\n",
            "Branch consist of total sell's: 65.57%\n",
            "Branch Name: Bailey Road. Branch sell:5250 taka\n",
            "Branch consist of total sell's: 34.43%\n",
            "========================\n",
            "Branch Name: Gulshan\n",
            "Branch sell:2700\n",
            "-----------------------------------------\n",
            "Total number of branch(s): 3\n",
            "Total sell:17950\n",
            "Branch Name: Dhanmondi. Branch sell:10000 taka\n",
            "Branch consist of total sell's: 55.71%\n",
            "Branch Name: Bailey Road. Branch sell:5250 taka\n",
            "Branch consist of total sell's: 29.25%\n",
            "Branch Name: Gulshan. Branch sell:2700 taka\n",
            "Branch consist of total sell's: 15.04%\n"
          ]
        }
      ]
    },
    {
      "cell_type": "code",
      "source": [
        "#Method: 02\n",
        "#Task: 10\n",
        "class SultansDine:\n",
        "  total=0\n",
        "  total_sell=0\n",
        "  branch_info=[]\n",
        "  \n",
        "  def __init__(self,branch):\n",
        "    self.name=branch\n",
        "    SultansDine.total+=1\n",
        "\n",
        "  def sellQuantity(self,quantity):\n",
        "\n",
        "    if quantity<10:\n",
        "      self.branch_sell=quantity*300\n",
        "\n",
        "    elif quantity<20:\n",
        "      self.branch_sell=quantity*350\n",
        "    else:\n",
        "      self.branch_sell=quantity*400\n",
        "\n",
        "    SultansDine.total_sell+=self.branch_sell\n",
        "\n",
        "\n",
        "  def branchInformation(self):\n",
        "    print(f'Branch Name: {self.name}')\n",
        "    print(f'Branch Sell:{self.branch_sell}')\n",
        "\n",
        "    SultansDine.branch_info.append(self.name)\n",
        "    SultansDine.branch_info.append(self.branch_sell)\n",
        "\n",
        "# a=[Dhanmondi,10000,bailyroad,5250,Gulshan,2700]\n",
        "\n",
        "  @classmethod\n",
        "  def details(cls):\n",
        "    print(f'Total number of branch(s):{cls.total}')\n",
        "    print(f'Total Sell:{cls.total_sell}')\n",
        "\n",
        "    for i in range(0, len(SultansDine.branch_info), 2):\n",
        "       print(\n",
        "                f\"Branch Name: {SultansDine.branch_info[i]}, Branch Sell: {SultansDine.branch_info[i + 1]} Taka\")\n",
        "       print(\n",
        "                f\"Branch consists of total sell's: {round((SultansDine.branch_info[i + 1] / SultansDine.total_sell) * 100,2)}%\")\n",
        "\n",
        "\n",
        "\n",
        "\n",
        "SultansDine.details()\n",
        "print('########################')\n",
        "dhanmondi = SultansDine('Dhanmondi')\n",
        "dhanmondi.sellQuantity(25)\n",
        "dhanmondi.branchInformation()\n",
        "print('-----------------------------------------')\n",
        "SultansDine.details()\n",
        "\n",
        "print('========================')\n",
        "\n",
        "baily_road = SultansDine('Baily Road')\n",
        "baily_road.sellQuantity(15)\n",
        "baily_road.branchInformation()\n",
        "print('-----------------------------------------')\n",
        "SultansDine.details()\n",
        "\n",
        "print('========================')\n",
        "\n",
        "gulshan = SultansDine('Gulshan')\n",
        "gulshan.sellQuantity(9)\n",
        "gulshan.branchInformation()\n",
        "print('-----------------------------------------')\n",
        "SultansDine.details()\n",
        "\n",
        "\n"
      ],
      "metadata": {
        "colab": {
          "base_uri": "https://localhost:8080/"
        },
        "id": "WdfVhFcw0dCV",
        "outputId": "fe7761e9-16ae-49ce-a4a8-5353b22c9914"
      },
      "execution_count": null,
      "outputs": [
        {
          "output_type": "stream",
          "name": "stdout",
          "text": [
            "Total number of branch(s):0\n",
            "Total Sell:0\n",
            "########################\n",
            "Branch Name: Dhanmondi\n",
            "Branch Sell:10000\n",
            "-----------------------------------------\n",
            "Total number of branch(s):1\n",
            "Total Sell:10000\n",
            "Branch Name: Dhanmondi, Branch Sell: 10000 Taka\n",
            "Branch consists of total sell's: 100.0%\n",
            "========================\n",
            "Branch Name: Baily Road\n",
            "Branch Sell:5250\n",
            "-----------------------------------------\n",
            "Total number of branch(s):2\n",
            "Total Sell:15250\n",
            "Branch Name: Dhanmondi, Branch Sell: 10000 Taka\n",
            "Branch consists of total sell's: 65.57%\n",
            "Branch Name: Baily Road, Branch Sell: 5250 Taka\n",
            "Branch consists of total sell's: 34.43%\n",
            "========================\n",
            "Branch Name: Gulshan\n",
            "Branch Sell:2700\n",
            "-----------------------------------------\n",
            "Total number of branch(s):3\n",
            "Total Sell:17950\n",
            "Branch Name: Dhanmondi, Branch Sell: 10000 Taka\n",
            "Branch consists of total sell's: 55.71%\n",
            "Branch Name: Baily Road, Branch Sell: 5250 Taka\n",
            "Branch consists of total sell's: 29.25%\n",
            "Branch Name: Gulshan, Branch Sell: 2700 Taka\n",
            "Branch consists of total sell's: 15.04%\n"
          ]
        }
      ]
    },
    {
      "cell_type": "code",
      "source": [
        "#Quiz question(tracing)\n",
        "class X:\n",
        "  temp=6\n",
        "  def __init__(self):\n",
        "    self.a=self.temp-2\n",
        "    self.res=self.temp+1\n",
        "    X.temp-=2\n",
        "class Y:\n",
        "  s=4\n",
        "  r=8\n",
        "  def __init__(self,b=None):\n",
        "    if b==None:\n",
        "      self.z,self.temp,self.sum=1,-3,4\n",
        "      self.z=self.temp+5\n",
        "      self.sum=3+self.temp+6\n",
        "      self.temp-=1\n",
        "      print(self.temp,self.z,self.sum)\n",
        "    else:\n",
        "      b.a+=5\n",
        "      b.res+=1\n",
        "      print(X.temp,b.a,b.res)\n",
        "\n",
        "  def methodB(self,cls,m,n):\n",
        "    self.sum=self.r+n+self.sum\n",
        "    n=self.z+m\n",
        "    print(self.z,n,self.sum)\n",
        "    cls.temp=Y.r+n\n",
        "    Y.r=Y.r+m+n\n",
        "    Y.s=Y.s+m\n",
        "    print(cls.temp,Y.r,Y.s) \n",
        "x1=X()\n",
        "y1=Y()\n",
        "y2=Y(x1)\n",
        "y1.methodB(X,Y.s,Y.r)"
      ],
      "metadata": {
        "colab": {
          "base_uri": "https://localhost:8080/"
        },
        "id": "to_aprjURBe7",
        "outputId": "8c325bc5-feb0-4259-926b-73055b02ca2c"
      },
      "execution_count": null,
      "outputs": [
        {
          "output_type": "stream",
          "name": "stdout",
          "text": [
            "-4 2 6\n",
            "4 9 8\n",
            "2 6 22\n",
            "14 18 8\n"
          ]
        }
      ]
    },
    {
      "cell_type": "markdown",
      "source": [
        "# *Basics*"
      ],
      "metadata": {
        "id": "teq4LGt92J7Z"
      }
    },
    {
      "cell_type": "code",
      "execution_count": null,
      "metadata": {
        "colab": {
          "base_uri": "https://localhost:8080/"
        },
        "id": "KCtuBf5gOw7x",
        "outputId": "4eb309ec-4aaa-4dc7-c2a5-a920269c70f5"
      },
      "outputs": [
        {
          "output_type": "stream",
          "name": "stdout",
          "text": [
            "Shakib: 6\n",
            "Tamim: 8\n",
            "Tamim {'run': 8}\n",
            "shakib {'run': 6}\n"
          ]
        }
      ],
      "source": [
        "class Player:\n",
        "  def __init__(self,run):\n",
        "    self.run=run      #instance variable\n",
        "\n",
        "  def hit_four(self):    #instance method\n",
        "    self.run+=4\n",
        "\n",
        "  def hit_six(self):\n",
        "    self.run+=6\n",
        "\n",
        "#blueprint\n",
        "\n",
        "shakib=Player(0)\n",
        "Tamim=Player(0)\n",
        "Tamim.hit_four()\n",
        "Tamim.hit_four()\n",
        "shakib.hit_six()\n",
        "\n",
        "print('Shakib:',shakib.run)\n",
        "print('Tamim:',Tamim.run)\n",
        "\n",
        "print('Tamim',Tamim.__dict__)\n",
        "\n",
        "print('shakib',shakib.__dict__)\n"
      ]
    },
    {
      "cell_type": "code",
      "source": [
        "class AnimalClass:  \n",
        "    def __init__(self,identity,age):  \n",
        "        self.identity = identity  \n",
        "        self.age = age  \n",
        "      \n",
        "    def feature(self):  \n",
        "        if self.age == \"10\":  \n",
        "            return True  \n",
        "        else:  \n",
        "            return False \n",
        "\n",
        "ac = AnimalClass('Lion','10') \n",
        "bd=AnimalClass('Cat',2) \n",
        "print(ac.__dict__) \n",
        "print(bd.__dict__) "
      ],
      "metadata": {
        "colab": {
          "base_uri": "https://localhost:8080/"
        },
        "id": "luryGtmi5mfv",
        "outputId": "92f84cc3-7ccf-4583-d6c9-cfb510dc482f"
      },
      "execution_count": null,
      "outputs": [
        {
          "output_type": "stream",
          "name": "stdout",
          "text": [
            "{'identity': 'Lion', 'age': '10'}\n",
            "{'identity': 'Cat', 'age': 2}\n"
          ]
        }
      ]
    },
    {
      "cell_type": "code",
      "source": [
        "class Player:\n",
        "  def __init__(self,run):\n",
        "    self.run=run                #instance variable\n",
        "    self.team_run=0             #instance variable object dependent hoise \n",
        "\n",
        "  def hit_four(self):          #instance method\n",
        "    self.run+=4\n",
        "    self.team_run+=4\n",
        "\n",
        "  def hit_six(self):\n",
        "    self.run+=6\n",
        "    self.team_run+=6\n",
        "\n",
        "\n",
        "#blueprint\n",
        "\n",
        "shakib=Player(0)\n",
        "Tamim=Player(0)\n",
        "Team=Player(0)\n",
        "Tamim.hit_four()\n",
        "Tamim.hit_four()\n",
        "shakib.hit_six()\n",
        "\n",
        "print('Shakib:',shakib.run)\n",
        "print('Tamim:',Tamim.run)\n",
        "\n",
        "print('Tamim',Tamim.__dict__)\n",
        "\n",
        "print('shakib',shakib.__dict__)\n",
        "\n",
        "print('Team run',shakib.team_run)\n",
        "print('Team run',Team.team_run)\n"
      ],
      "metadata": {
        "colab": {
          "base_uri": "https://localhost:8080/"
        },
        "id": "p505n7MrRgbi",
        "outputId": "a85426fe-3564-40ac-8971-dffd44be0beb"
      },
      "execution_count": null,
      "outputs": [
        {
          "output_type": "stream",
          "name": "stdout",
          "text": [
            "Shakib: 6\n",
            "Tamim: 8\n",
            "Tamim {'run': 8, 'team_run': 8}\n",
            "shakib {'run': 6, 'team_run': 6}\n",
            "Team run 6\n",
            "Team run 0\n"
          ]
        }
      ]
    },
    {
      "cell_type": "code",
      "source": [
        "#we need a google drive shared\n",
        "#class and static variable\n",
        "\n",
        "\n",
        "class Player:\n",
        "  team_run=0         #static or class variable, not dependent,central access  #tracing er jonno red flag\n",
        "\n",
        "  def __init__(self,run):\n",
        "    self.run=run      #instance variable\n",
        "    Player.team_run+=run\n",
        "\n",
        "  def hit_four(self): #instance method\n",
        "    self.run+=4\n",
        "    Player.team_run+=4\n",
        "    \n",
        "\n",
        "  def hit_six(self):\n",
        "    self.run+=6\n",
        "    Player.team_run+=6\n",
        "\n",
        "\n",
        "\n",
        "#blueprint\n",
        "print(Player.team_run) #works #not dependent\n",
        "\n",
        "\n",
        "shakib=Player(0)\n",
        "Tamim=Player(0)\n",
        "Tamim.hit_four()\n",
        "Tamim.hit_four()\n",
        "shakib.hit_six()\n",
        "\n",
        "print('Shakib:',shakib.run)\n",
        "print('Tamim:',Tamim.run)\n",
        "\n",
        "print('Tamim',Tamim.__dict__)\n",
        "\n",
        "print('shakib',shakib.__dict__)\n",
        "\n",
        "\n",
        "print('Team run',Tamim.team_run) #shakib,tamim er reference eo dakte parbo shomosh nao\n",
        "print('Team run:',shakib.team_run)\n",
        "print(Player.team_run) #works #not dependent"
      ],
      "metadata": {
        "colab": {
          "base_uri": "https://localhost:8080/"
        },
        "id": "yTeF3P1ySeUQ",
        "outputId": "a100c0d2-c5e4-4672-9d0c-d27f2734cf85"
      },
      "execution_count": null,
      "outputs": [
        {
          "output_type": "stream",
          "name": "stdout",
          "text": [
            "0\n",
            "Shakib: 6\n",
            "Tamim: 8\n",
            "Tamim {'run': 8}\n",
            "shakib {'run': 6}\n",
            "Team run 14\n",
            "Team run: 14\n",
            "14\n"
          ]
        }
      ]
    },
    {
      "cell_type": "code",
      "source": [
        "#find out how many students are created\n",
        "\n",
        "class Student:\n",
        "   def __init__(self,name,id):\n",
        "     self.name=name\n",
        "     self.id=id\n",
        "     self.count=0 #hoi nai mia\n",
        "     self.count+=1 #eta hobena\n",
        "\n",
        "   def details(self):\n",
        "     print(f'Name: {self.name}, ID: {self.id},Student count: {self.count}')\n",
        "\n",
        "s1=Student('Yeafiu',11)       \n",
        "s2=Student('Boro RAMISA',33)\n",
        "s3=Student('Marshia',22)\n",
        "s3.details()\n",
        "s2.details()"
      ],
      "metadata": {
        "colab": {
          "base_uri": "https://localhost:8080/"
        },
        "id": "aCYYYhy9U_Mp",
        "outputId": "48b57a26-1405-4347-a6ba-f6d714c80fd7"
      },
      "execution_count": null,
      "outputs": [
        {
          "output_type": "stream",
          "name": "stdout",
          "text": [
            "Name: Marshia, ID: 22,Student count: 1\n",
            "Name: Boro RAMISA, ID: 33,Student count: 1\n"
          ]
        }
      ]
    },
    {
      "cell_type": "code",
      "source": [
        "#find out how many students are created\n",
        "\n",
        "class Student:\n",
        "   counter=0 #class or static variable \n",
        "   def __init__(self,name,id):\n",
        "     self.name=name\n",
        "     self.id=id\n",
        "     Student.counter+=1 #why it is placed here \n",
        "\n",
        "   def details(self):\n",
        "     print(f'Name: {self.name}, ID: {self.id},Student count: {Student.counter}')\n",
        "\n",
        "print(Student.counter)\n",
        "s1=Student('Eleven',11)\n",
        "print(Student.counter)       \n",
        "s2=Student('Jamil',33)\n",
        "s3=Student('Marshia',22)\n",
        "\n",
        "s3.details()\n",
        "s2.details()\n",
        "print(Student.counter)"
      ],
      "metadata": {
        "colab": {
          "base_uri": "https://localhost:8080/"
        },
        "id": "L0Lu95dJXe9J",
        "outputId": "678d45c1-6976-4c25-e063-6116e72c2b6b"
      },
      "execution_count": null,
      "outputs": [
        {
          "output_type": "stream",
          "name": "stdout",
          "text": [
            "0\n",
            "1\n",
            "Name: Marshia, ID: 22,Student count: 3\n",
            "Name: Jamil, ID: 33,Student count: 3\n",
            "3\n"
          ]
        }
      ]
    },
    {
      "cell_type": "code",
      "source": [
        "class Employee:\n",
        "  org_name='Google'\n",
        "\n",
        "  def __init__(self,name):\n",
        "    self.name=name\n",
        "\n",
        "  @classmethod\n",
        "  def info(cls):\n",
        "    print('This is class method')\n",
        "    # return cls.org_name\n",
        "    return cls.org_name\n",
        "\n",
        "print(Employee.info())\n",
        "\n"
      ],
      "metadata": {
        "colab": {
          "base_uri": "https://localhost:8080/"
        },
        "id": "dwXRHha5YOzI",
        "outputId": "cced47ea-c367-43f3-a7a4-9faedb4a9ffd"
      },
      "execution_count": null,
      "outputs": [
        {
          "output_type": "stream",
          "name": "stdout",
          "text": [
            "This is class method\n",
            "Google\n"
          ]
        }
      ]
    },
    {
      "cell_type": "code",
      "source": [
        "class Employee:\n",
        "  org_name='Google'\n",
        "  def __Init__(self,name):\n",
        "    self.name=name\n",
        "\n",
        "  @staticmethod\n",
        "  def detail():\n",
        "    print('This is statics method')\n",
        "      "
      ],
      "metadata": {
        "id": "FsYZH4Ehj6G6"
      },
      "execution_count": null,
      "outputs": []
    },
    {
      "cell_type": "code",
      "source": [
        "class MyClass:\n",
        "  def method(self):\n",
        "    print(self,'instance method called')\n",
        "\n",
        "  @classmethod\n",
        "  def classmethod(cls):\n",
        "    print(cls,'class method called')\n",
        "\n",
        "  @staticmethod\n",
        "  def staticmethod():\n",
        "    print('static method called')  \n",
        "\n",
        "\n",
        "\n"
      ],
      "metadata": {
        "id": "6otbKBKgkWPZ"
      },
      "execution_count": null,
      "outputs": []
    },
    {
      "cell_type": "code",
      "source": [
        "class Student:\n",
        "  uni_name='Bracu'\n",
        "\n",
        "  def __init__(self,name,Id):\n",
        "    self.name=name\n",
        "    self.__id=Id\n",
        "\n",
        "  def details(self):\n",
        "    print('name:',self.name,'ID:',self.__id,Student.uni_name)\n",
        "\n",
        "\n",
        "  @classmethod\n",
        "  def from_string(cls,info):\n",
        "  #info='Carol-47'\n",
        "    name,id=info.split('-')\n",
        "  #name='Carol',id=47\n",
        "    chicken=cls(name,id)\n",
        "    return chicken\n",
        "\n",
        "s1=Student('Bob',11)\n",
        "# s2=Student('Carol',47)\n",
        "s2=Student.from_string('Carol-47')  \n",
        "s1.details()\n",
        "s2.details()        "
      ],
      "metadata": {
        "colab": {
          "base_uri": "https://localhost:8080/"
        },
        "id": "ZVaNt6hOkwNt",
        "outputId": "f4c3e207-2019-4d75-a797-a68d1762d229"
      },
      "execution_count": null,
      "outputs": [
        {
          "output_type": "stream",
          "name": "stdout",
          "text": [
            "name: Bob ID: 11 Bracu\n",
            "name: Carol ID: 47 Bracu\n"
          ]
        }
      ]
    },
    {
      "cell_type": "code",
      "source": [
        "class Student:\n",
        "  uni_name='Bracu'\n",
        "\n",
        "  def __init__(self,name,Id):\n",
        "    self.name=name\n",
        "    self.__id=Id\n",
        "\n",
        "  def details(self):\n",
        "    print('name:',self.name,'ID:',self.__id,Student.uni_name)\n",
        "\n",
        "  @classmethod\n",
        "  def up_uni_name(cls,u_name):\n",
        "    cls.uni_name=u_name\n",
        "\n",
        "  @staticmethod\n",
        "  def check_department(Id): #extra function,utility function\n",
        "    if Id[3:5]=='01':\n",
        "      print('CSE')\n",
        "    elif Id[3:5]=='47':\n",
        "      print('CS')\n",
        "\n",
        "s1=Student('Bob',11)\n",
        "s2=Student('Bob',11)\n",
        "s1.details()\n",
        "s2.details() \n",
        "Student.check_department('22201858')\n",
        "Student.check_department('22247858')\n"
      ],
      "metadata": {
        "colab": {
          "base_uri": "https://localhost:8080/"
        },
        "id": "nWf78HngCaPx",
        "outputId": "dfd5c97e-6d45-4527-badf-1c59c9c00ac4"
      },
      "execution_count": null,
      "outputs": [
        {
          "output_type": "stream",
          "name": "stdout",
          "text": [
            "name: Bob ID: 11 Bracu\n",
            "name: Bob ID: 11 Bracu\n",
            "CSE\n",
            "CS\n"
          ]
        }
      ]
    },
    {
      "cell_type": "code",
      "source": [
        "class Test:\n",
        "    def mA(self):\n",
        "        print(self)\n",
        "        print(\"mA : Instance Method\")\n",
        "\n",
        "    @staticmethod\n",
        "    def staticMethod():\n",
        "        print(\"mA : Static Method\")\n",
        "\n",
        "    @classmethod\n",
        "    def classMethod(cls):\n",
        "        print(\"mA : Class Method\")\n",
        "        print(cls)\n",
        "        \n",
        "#no object so cant call mA()       \n",
        "print(Test)\n",
        "Test.classMethod()\n",
        "Test.staticMethod()"
      ],
      "metadata": {
        "colab": {
          "base_uri": "https://localhost:8080/"
        },
        "id": "Z4YgZZfFVHZh",
        "outputId": "60046f60-d131-443c-95f7-aa5241563bbb"
      },
      "execution_count": null,
      "outputs": [
        {
          "output_type": "stream",
          "name": "stdout",
          "text": [
            "<class '__main__.Test'>\n",
            "mA : Class Method\n",
            "<class '__main__.Test'>\n",
            "mA : Static Method\n"
          ]
        }
      ]
    },
    {
      "cell_type": "code",
      "source": [
        "class Test:\n",
        "\n",
        "    def mA():\n",
        "        print(\"Please guess which type of method I am!\")  \n",
        "\n",
        "t1 = Test()\n",
        "Test.mA()  "
      ],
      "metadata": {
        "colab": {
          "base_uri": "https://localhost:8080/"
        },
        "id": "Jj8KalisVNM3",
        "outputId": "87a43ab9-8712-4ef7-f94b-58904f551662"
      },
      "execution_count": null,
      "outputs": [
        {
          "output_type": "stream",
          "name": "stdout",
          "text": [
            "Please guess which type of method I am!\n"
          ]
        }
      ]
    },
    {
      "cell_type": "code",
      "source": [
        "class Student:\n",
        "  count = 0\n",
        "  university ='Brac_Mohakhali'\n",
        "  def __init__(self, name, age, dept):\n",
        "    self.name= name\n",
        "    self.age = age\n",
        "    self.dept = dept\n",
        "    Student.count+=1              #self.count+=1 this is not correct\n",
        "    self.ID = Student.count\n",
        "\n",
        "  def detail(self):\n",
        "    print('Number of students:', Student.count)\n",
        "    print('Name:', self.name)\n",
        "    print('Age:', self.age)\n",
        "    print('ID of student:', self.ID)\n",
        "    print('Department:', self.dept)\n",
        "    print('University:', Student.university)\n",
        "\n",
        "  def change_dept(self, new_dept):       #CS-----CSE\n",
        "    self.dept = new_dept\n",
        "\n",
        "  @classmethod\n",
        "  def change_university(cls, new):\n",
        "    cls.university = new\n",
        "\n",
        "  @classmethod\n",
        "  def reset_student_count(cls):\n",
        "    print('Previous number of students:', cls.count)\n",
        "    cls.count = 0\n",
        "    print('After resetting to 0, number of students:', cls.count)\n",
        "\n",
        "  @staticmethod\n",
        "  def checkAge(age):\n",
        "    if age>20:\n",
        "      return 'Age greater than 20'\n",
        "\n",
        "s1 = Student('Bob', 22, 'CSE')\n",
        "s1.detail()\n",
        "print('---------------------------------------------')\n",
        "\n",
        "s2 = Student('Carol', 25, 'EEE')\n",
        "s2.detail()\n",
        "print('---------------------------------------------')\n",
        "\n",
        "Student.change_university('Brac_Badda')\n",
        "print('---------------------------------------------')\n",
        "\n",
        "s1.detail()\n",
        "print('---------------------------------------------')\n",
        "\n",
        "s2.detail()\n",
        "print('---------------------------------------------')\n",
        "\n",
        "s1.detail()\n",
        "print('---------------------------------------------')\n",
        "\n",
        "Student.reset_student_count()\n",
        "print('---------------------------------------------')\n",
        "print(Student.checkAge(30))\n"
      ],
      "metadata": {
        "colab": {
          "base_uri": "https://localhost:8080/"
        },
        "id": "FQOaF-KyVUrR",
        "outputId": "21766a61-24f1-46d5-a62c-bec35b97d099"
      },
      "execution_count": null,
      "outputs": [
        {
          "output_type": "stream",
          "name": "stdout",
          "text": [
            "Number of students: 1\n",
            "Name: Bob\n",
            "Age: 22\n",
            "ID of student: 1\n",
            "Department: CSE\n",
            "University: Brac_Mohakhali\n",
            "---------------------------------------------\n",
            "Number of students: 2\n",
            "Name: Carol\n",
            "Age: 25\n",
            "ID of student: 2\n",
            "Department: EEE\n",
            "University: Brac_Mohakhali\n",
            "---------------------------------------------\n",
            "---------------------------------------------\n",
            "Number of students: 2\n",
            "Name: Bob\n",
            "Age: 22\n",
            "ID of student: 1\n",
            "Department: CSE\n",
            "University: Brac_Badda\n",
            "---------------------------------------------\n",
            "Number of students: 2\n",
            "Name: Carol\n",
            "Age: 25\n",
            "ID of student: 2\n",
            "Department: EEE\n",
            "University: Brac_Badda\n",
            "---------------------------------------------\n",
            "Number of students: 2\n",
            "Name: Bob\n",
            "Age: 22\n",
            "ID of student: 1\n",
            "Department: CSE\n",
            "University: Brac_Badda\n",
            "---------------------------------------------\n",
            "Previous number of students: 2\n",
            "After resetting to 0, number of students: 0\n",
            "---------------------------------------------\n",
            "Age greater than 20\n"
          ]
        }
      ]
    },
    {
      "cell_type": "code",
      "source": [
        "class Student:\n",
        "  count = 0\n",
        "  campus ='Brac_Residential_Campus'\n",
        "  def __init__(self, name, age, dept):\n",
        "    self.name= name\n",
        "    self.age = age\n",
        "    self.dept = dept\n",
        "    Student.count+=1              #self.count+=1 this is not correct\n",
        "    self.ID = Student.count\n",
        "\n",
        "  def detail(self):\n",
        "    print('Number of students:', Student.count)\n",
        "    print('Name:', self.name)\n",
        "    print('Age:', self.age)\n",
        "    print('ID of student:', self.ID)\n",
        "    print('Department:', self.dept)\n",
        "    print('campus:', Student.campus)\n",
        "\n",
        "  def change_dept(self, new_dept):       #CS-----CSE\n",
        "    self.dept = new_dept\n",
        "\n",
        "  @classmethod\n",
        "  def change_campus(cls, new):\n",
        "    cls.campus = new\n",
        "\n",
        "  @classmethod\n",
        "  def reset_student_count(cls):\n",
        "    print('Previous number of students:', cls.count)\n",
        "    cls.count = 0\n",
        "    print('After resetting to 0, number of students:', cls.count)\n",
        "\n",
        "  @staticmethod\n",
        "  def checkAge(age):\n",
        "    if age>20:\n",
        "      return 'Age greater than 20'\n",
        "\n",
        "s1 = Student('Ted', 22, 'CSE')\n",
        "s1.detail()\n",
        "print('---------------------------------------------')\n",
        "\n",
        "s2 = Student('Robin', 25, 'EEE')\n",
        "s2.detail()\n",
        "print('---------------------------------------------')\n",
        "\n",
        "Student.change_campus('Brac_Badda')\n",
        "print('---------------------------------------------')\n",
        "\n",
        "s1.detail()\n",
        "print('---------------------------------------------')\n",
        "\n",
        "s2.detail()\n",
        "print('---------------------------------------------')\n",
        "\n",
        "s1.detail()\n",
        "print('---------------------------------------------')\n",
        "\n",
        "Student.reset_student_count()\n",
        "print('---------------------------------------------')\n",
        "print(Student.checkAge(30))\n"
      ],
      "metadata": {
        "colab": {
          "base_uri": "https://localhost:8080/"
        },
        "id": "iMeaIJSW34a2",
        "outputId": "a9acd88c-ecf5-4a84-afc8-d8c15edfb500"
      },
      "execution_count": null,
      "outputs": [
        {
          "output_type": "stream",
          "name": "stdout",
          "text": [
            "Number of students: 1\n",
            "Name: Ted\n",
            "Age: 22\n",
            "ID of student: 1\n",
            "Department: CSE\n",
            "campus: Brac_Residential_Campus\n",
            "---------------------------------------------\n",
            "Number of students: 2\n",
            "Name: Robin\n",
            "Age: 25\n",
            "ID of student: 2\n",
            "Department: EEE\n",
            "campus: Brac_Residential_Campus\n",
            "---------------------------------------------\n",
            "---------------------------------------------\n",
            "Number of students: 2\n",
            "Name: Ted\n",
            "Age: 22\n",
            "ID of student: 1\n",
            "Department: CSE\n",
            "campus: Brac_Badda\n",
            "---------------------------------------------\n",
            "Number of students: 2\n",
            "Name: Robin\n",
            "Age: 25\n",
            "ID of student: 2\n",
            "Department: EEE\n",
            "campus: Brac_Badda\n",
            "---------------------------------------------\n",
            "Number of students: 2\n",
            "Name: Ted\n",
            "Age: 22\n",
            "ID of student: 1\n",
            "Department: CSE\n",
            "campus: Brac_Badda\n",
            "---------------------------------------------\n",
            "Previous number of students: 2\n",
            "After resetting to 0, number of students: 0\n",
            "---------------------------------------------\n",
            "Age greater than 20\n"
          ]
        }
      ]
    }
  ]
}