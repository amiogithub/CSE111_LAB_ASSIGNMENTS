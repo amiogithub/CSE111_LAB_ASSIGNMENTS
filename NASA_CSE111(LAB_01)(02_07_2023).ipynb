{
  "nbformat": 4,
  "nbformat_minor": 0,
  "metadata": {
    "colab": {
      "provenance": []
    },
    "kernelspec": {
      "name": "python3",
      "display_name": "Python 3"
    },
    "language_info": {
      "name": "python"
    }
  },
  "cells": [
    {
      "cell_type": "code",
      "source": [
        "#Task 01\n",
        "string='BaNaNa'\n",
        "count_upper=0\n",
        "count_lower=0\n",
        "\n",
        "for i in string:\n",
        "  if 'A'<=i<='Z':\n",
        "    count_upper+=1\n",
        "  elif 'a'<=i<='z':\n",
        "    count_lower+=1\n",
        "\n",
        "final_str=''\n",
        "if count_lower>=count_upper:\n",
        "  for i in string:\n",
        "    if 'A'<=i<='Z':\n",
        "      final_str+=chr(ord(i)+32)\n",
        "    else:\n",
        "      final_str+=i\n",
        "\n",
        "else:\n",
        "  if count_lower<count_upper:\n",
        "    for i in string:\n",
        "      if 'a'<=i<='z':\n",
        "        final_str+=chr(ord(i)-32)\n",
        "      else:\n",
        "        final_str+=i\n",
        "\n",
        "print(final_str)"
      ],
      "metadata": {
        "id": "uguGE8w61_ul",
        "colab": {
          "base_uri": "https://localhost:8080/"
        },
        "outputId": "38697795-a6f6-4836-c177-ffd6a53d88d4"
      },
      "execution_count": null,
      "outputs": [
        {
          "output_type": "stream",
          "name": "stdout",
          "text": [
            "banana\n"
          ]
        }
      ]
    },
    {
      "cell_type": "code",
      "source": [
        "#Task 02\n",
        "string='jhg231j213'\n",
        "numbers= \"0123456789\"\n",
        "\n",
        "count = 0\n",
        "for i in string:\n",
        "    if i in numbers:\n",
        "        count += 1\n",
        "if count == 0:\n",
        "    print(\"WORD\")\n",
        "elif count < len(string):\n",
        "    print(\"MIXED\")\n",
        "elif count == len(string):\n",
        "    print(\"NUMBER\")"
      ],
      "metadata": {
        "id": "dNUpQhF1vDpz",
        "colab": {
          "base_uri": "https://localhost:8080/"
        },
        "outputId": "183de506-d502-480b-ff76-ecf8fbacdc7f"
      },
      "execution_count": null,
      "outputs": [
        {
          "output_type": "stream",
          "name": "stdout",
          "text": [
            "MIXED\n"
          ]
        }
      ]
    },
    {
      "cell_type": "markdown",
      "source": [
        "eval tells us which datatype"
      ],
      "metadata": {
        "id": "Skm03GrzzscN"
      }
    },
    {
      "cell_type": "code",
      "source": [
        "string=eval(input())\n",
        "\n",
        "print(type(string))"
      ],
      "metadata": {
        "id": "ceaZBe8qvSsT",
        "colab": {
          "base_uri": "https://localhost:8080/"
        },
        "outputId": "91910045-aed8-4123-deb6-32fb6e4b8d63"
      },
      "execution_count": null,
      "outputs": [
        {
          "output_type": "stream",
          "name": "stdout",
          "text": [
            "'dd'\n",
            "<class 'str'>\n"
          ]
        }
      ]
    },
    {
      "cell_type": "code",
      "source": [
        "#Task 03 (method 01)\n",
        "\n",
        "string='baNgladEsh'\n",
        "count=0\n",
        "new=''\n",
        "\n",
        "for i in range(len(string)):\n",
        "  if 'A'<=string[i]<='Z' :\n",
        "    if count==0:\n",
        "       count+=1\n",
        "       index1=i+1\n",
        "    else:   \n",
        "      \n",
        "       new=string[index1:i]\n",
        "       break\n",
        "\n",
        "if len(new)==0:\n",
        "  print('BLANK')\n",
        "else:\n",
        "  print(new)  "
      ],
      "metadata": {
        "colab": {
          "base_uri": "https://localhost:8080/"
        },
        "id": "dwuZm4amzxDO",
        "outputId": "08cc5683-ec45-4212-ea6e-d9015f067df0"
      },
      "execution_count": null,
      "outputs": [
        {
          "output_type": "stream",
          "name": "stdout",
          "text": [
            "glad\n"
          ]
        }
      ]
    },
    {
      "cell_type": "code",
      "source": [
        "#Task 03(method 2)\n",
        "string='baNEsh'\n",
        "new=''\n",
        "count=0\n",
        "for i in range(len(string)):\n",
        "  if 'A'<=string[i]<='Z' and count==0:\n",
        "    index=i+1\n",
        "    count+=1\n",
        "  elif 'A'<=string[i]<='Z' and count==1: \n",
        "    index2=i\n",
        "new=string[index:index2]\n",
        "if new!=\"\":\n",
        "  print(new)\n",
        "else:\n",
        "  print('BLANK')  \n",
        "\n"
      ],
      "metadata": {
        "colab": {
          "base_uri": "https://localhost:8080/"
        },
        "id": "jmx-uHHPRoV-",
        "outputId": "89a4b852-2eed-435d-ece2-aef54e566797"
      },
      "execution_count": null,
      "outputs": [
        {
          "output_type": "stream",
          "name": "stdout",
          "text": [
            "BLANK\n"
          ]
        }
      ]
    },
    {
      "cell_type": "code",
      "source": [
        "# Task 03(method 02)\n",
        "\n",
        "user='baNgladEsh'\n",
        "for i in range(len(user)): \n",
        "  if 'A'<=user[i]<='Z':\n",
        "    start=i+1\n",
        "    break\n",
        "  \n",
        "new=\"\"\n",
        "for j in range(start,len(user)+1):\n",
        " if 'A'<=user[j]<='Z':\n",
        "   break\n",
        " else: \n",
        "   new+=user[j]\n",
        " \n",
        "if new==\"\":\n",
        "  print(\"BLANK\")\n",
        "else:\n",
        "  print(new)"
      ],
      "metadata": {
        "id": "UdvpSguOUgRm",
        "colab": {
          "base_uri": "https://localhost:8080/"
        },
        "outputId": "30b2cf17-9c35-4b27-a3bc-e544dca2ae87"
      },
      "execution_count": null,
      "outputs": [
        {
          "output_type": "stream",
          "name": "stdout",
          "text": [
            "glad\n"
          ]
        }
      ]
    },
    {
      "cell_type": "code",
      "source": [
        "#Task 04 (method 01)\n",
        "\n",
        "string='harry, hermione'.split(\", \")\n",
        "print(string)\n",
        "common=''\n",
        "\n",
        "for i in string[0]:\n",
        "  if i in string[1]:\n",
        "      common+=i\n",
        "\n",
        "for x in string[1]:\n",
        "  if x in string[0]:\n",
        "\n",
        "      common+=x\n",
        "\n",
        "if common=='':      \n",
        "  print('Nothing in common')\n",
        "else:\n",
        "  print(common)        "
      ],
      "metadata": {
        "colab": {
          "base_uri": "https://localhost:8080/"
        },
        "id": "lg4Pmf4H5l0U",
        "outputId": "1668290f-75d1-4522-d77b-c211f6e18398"
      },
      "execution_count": null,
      "outputs": [
        {
          "output_type": "stream",
          "name": "stdout",
          "text": [
            "['harry', 'hermione']\n",
            "hrrhr\n"
          ]
        }
      ]
    },
    {
      "cell_type": "code",
      "source": [
        "#Task 04(Method 02)\n",
        "str1='dean, tom'.split(\", \")\n",
        "\n",
        "new=str1[0]\n",
        "old=str1[1]\n",
        "\n",
        "final=''\n",
        "\n",
        "for i in new:\n",
        "  if i in old:\n",
        "    final+=i\n",
        "\n",
        "for i in old:\n",
        "  if i in new:\n",
        "    final+=i\n",
        "\n",
        "if len(final)>1:\n",
        "  print(final)\n",
        "else:\n",
        "  print('Nothing in common')   "
      ],
      "metadata": {
        "id": "1p0WUe8mO1CT"
      },
      "execution_count": null,
      "outputs": []
    },
    {
      "cell_type": "code",
      "source": [
        "# Task 05(Method 01)\n",
        "\n",
        "user='ohmybracu'\n",
        "low_case=0\n",
        "up_case=0\n",
        "digit=0\n",
        "char=0\n",
        "sp_char=\"_$#@\"\n",
        "new=\"\"\n",
        "for i in user:\n",
        "  if \"A\"<=i<=\"Z\":\n",
        "    up_case=1\n",
        "  if \"a\"<=i<=\"z\":\n",
        "    low_case=1\n",
        "  if \"0\"<=i<=\"9\":\n",
        "    digit=1\n",
        "  if i in sp_char:\n",
        "    char=1\n",
        "if low_case==0:\n",
        "  new+=\"Lowercase letter missing, \"\n",
        "if up_case==0:\n",
        "  new+=\"Uppercase letter missing, \"\n",
        "if digit==0:\n",
        "  new+=\"Digit missing, \"\n",
        "if char==0:\n",
        "  new+=\"Special character missing, \"\n",
        "\n",
        "if low_case==up_case==digit==char==1:\n",
        "  print(\"OK\")\n",
        "else:\n",
        "  new=new[:-2]\n",
        "  new+='.'\n",
        "  print(new)  "
      ],
      "metadata": {
        "id": "wURjTW__2Ei-",
        "colab": {
          "base_uri": "https://localhost:8080/"
        },
        "outputId": "be7d6776-2506-42f5-ef41-a17100776196"
      },
      "execution_count": null,
      "outputs": [
        {
          "output_type": "stream",
          "name": "stdout",
          "text": [
            "Uppercase letter missing, Digit missing, Special character missing.\n"
          ]
        }
      ]
    },
    {
      "cell_type": "code",
      "source": [
        "L=D=U=S=0\n",
        "word = input(\"New password:- \")\n",
        "for i in word:\n",
        "  if ord(i) in (range(ord('a'),(ord('z')+1))):\n",
        "    L += 1\n",
        "  elif ord(i) in (range(ord('A'),(ord('Z')+1))):\n",
        "    U += 1\n",
        "  elif ord(i)  in (range(ord('0'),(ord('9')+1))):\n",
        "    D += 1\n",
        "  elif i in (\"_$#@\"):\n",
        "    S += 1\n",
        "if L == 0:\n",
        "  print('Lower case charachter missing')\n",
        "if U == 0:\n",
        "  print('Upper case charachter missing')\n",
        "if D == 0:\n",
        "  print('Digit charachter missing')\n",
        "if S == 0:\n",
        "  print('Special charachter missing')\n",
        "if L and U and D and S > 0:\n",
        "  print(\"OK\")"
      ],
      "metadata": {
        "colab": {
          "base_uri": "https://localhost:8080/"
        },
        "id": "C03Mtjm4SA3v",
        "outputId": "dff7c58c-5104-4407-ef41-c5f5742d163f"
      },
      "execution_count": null,
      "outputs": [
        {
          "output_type": "stream",
          "name": "stdout",
          "text": [
            "New password:- ohmybracu\n",
            "Upper case charachter missing\n",
            "Digit charachter missing\n",
            "Special charachter missing\n"
          ]
        }
      ]
    },
    {
      "cell_type": "code",
      "source": [
        "#list 01\n",
        "number=input('Sir, please enter a number: ')\n",
        "lst=[]\n",
        "while number!='STOP':\n",
        "  lst.append(int(number))\n",
        "  number=input('Sir, please enter a number: ')\n",
        "\n",
        "unique=[]\n",
        "\n",
        "for i in lst:\n",
        "  if i not in unique:\n",
        "    unique.append(i)\n",
        "\n",
        "frq=[]\n",
        "counter=0\n",
        "for i in unique:\n",
        "  for j in lst:\n",
        "    if i==j:\n",
        "      counter+=1\n",
        "  frq.append(counter) \n",
        "  counter=0\n",
        "\n",
        "for i in range(len(frq)):\n",
        "  print(f'{unique[i]} - {frq[i]} time(s)')   "
      ],
      "metadata": {
        "id": "IS3piOzXZ-R-"
      },
      "execution_count": null,
      "outputs": []
    },
    {
      "cell_type": "code",
      "source": [
        "#list 01\n",
        "lst=[]\n",
        "new=[]\n",
        "while True:\n",
        "  numbers=input('Sir,please enter a number: ')\n",
        "  if numbers=='STOP':\n",
        "    break\n",
        "  else:\n",
        "    lst.append(int(numbers)) \n",
        "\n",
        "for i in lst:\n",
        "  counter=0\n",
        "  for j in lst:\n",
        "    if j==i:\n",
        "      counter+=1\n",
        "  if i not in new:\n",
        "    new.append(i)\n",
        "    print(i,'-',counter,'times')"
      ],
      "metadata": {
        "id": "89hO4BXCamHk",
        "colab": {
          "base_uri": "https://localhost:8080/"
        },
        "outputId": "3fb8435a-cdea-49c5-a2ae-179ce1b335cb"
      },
      "execution_count": null,
      "outputs": [
        {
          "output_type": "stream",
          "name": "stdout",
          "text": [
            "Sir,please enter a number: 10\n",
            "Sir,please enter a number: 20\n",
            "Sir,please enter a number: 20\n",
            "Sir,please enter a number: 30\n",
            "Sir,please enter a number: 10\n",
            "Sir,please enter a number: 50\n",
            "Sir,please enter a number: 90\n",
            "Sir,please enter a number: STOP\n",
            "10 - 2 times\n",
            "20 - 2 times\n",
            "30 - 1 times\n",
            "50 - 1 times\n",
            "90 - 1 times\n"
          ]
        }
      ]
    },
    {
      "cell_type": "code",
      "source": [
        "#01(METHOD 02)\n",
        "lst = []\n",
        "new = []\n",
        "inp = input(\"Number :- \")\n",
        "while inp != \"STOP\":\n",
        "  lst.append(inp)\n",
        "  inp = input(\"Number :- \")\n",
        "for i in lst:\n",
        "  flag = 0\n",
        "  for j in lst:\n",
        "    if j == i:\n",
        "      flag += 1\n",
        "  if i not in new:\n",
        "    new.append(i)\n",
        "    print(i,'-',flag,'times')"
      ],
      "metadata": {
        "id": "Nh3oRjevSV4x"
      },
      "execution_count": null,
      "outputs": []
    },
    {
      "cell_type": "code",
      "source": [
        "#list 02\n",
        "\n",
        "no=int(input())\n",
        "\n",
        "max=0\n",
        "\n",
        "for i in range(no):\n",
        "  sum=0\n",
        "  number=input().split(\" \")\n",
        "  for j in number:\n",
        "    \n",
        "    sum+=int(j)\n",
        "  if sum>max:\n",
        "    max=sum\n",
        "    \n",
        "    a_list=number\n",
        "\n",
        "max_lst=[]    \n",
        "for k in a_list:\n",
        "   max_lst.append(int(k))   \n",
        "\n",
        "print(max)\n",
        "print(max_lst)"
      ],
      "metadata": {
        "colab": {
          "base_uri": "https://localhost:8080/"
        },
        "id": "sTM8LV9F-4mE",
        "outputId": "27a5974c-fee6-4699-ce72-dcb2bbbf0b16"
      },
      "execution_count": null,
      "outputs": [
        {
          "output_type": "stream",
          "name": "stdout",
          "text": [
            "4\n",
            "1 2 3\n",
            "4 5 6\n",
            "10 11 12\n",
            "7 8 9\n",
            "33\n",
            "[10, 11, 12]\n"
          ]
        }
      ]
    },
    {
      "cell_type": "code",
      "source": [
        "#List 02\n",
        "\n",
        "user = int(input())\n",
        "max = 0\n",
        "sum = 0\n",
        "empty = ''\n",
        "li=[]\n",
        "for x in range(user):\n",
        "    user = input()\n",
        "    l1 = user.split(' ')\n",
        "\n",
        "    for i in l1:\n",
        "        sum += int(i)\n",
        "    if sum > max:\n",
        "        max = sum\n",
        "        li = l1\n",
        "    sum= 0\n",
        "print(max)\n",
        "l = []\n",
        "for x in li:\n",
        "    l.append(int(x))\n",
        "print(l)"
      ],
      "metadata": {
        "id": "dOOHROdRgvLG"
      },
      "execution_count": null,
      "outputs": []
    },
    {
      "cell_type": "code",
      "source": [
        "#List 03\n",
        "\n",
        "inp1=[1,2,3]\n",
        "inp2=[3,4,5]\n",
        "inp3=[]\n",
        "\n",
        "for i in inp1:\n",
        "  for j in inp2:\n",
        "    inp3.append(int(i)*int(j))\n",
        "print(inp3) "
      ],
      "metadata": {
        "colab": {
          "base_uri": "https://localhost:8080/"
        },
        "id": "SDvl8x9NszOE",
        "outputId": "74efd8a9-a834-4942-c130-9a7f93a554b9"
      },
      "execution_count": null,
      "outputs": [
        {
          "output_type": "stream",
          "name": "stdout",
          "text": [
            "[3, 4, 5, 6, 8, 10, 9, 12, 15]\n"
          ]
        }
      ]
    },
    {
      "cell_type": "code",
      "source": [
        "#lIST 04(Method 01)\n",
        "diff=[]\n",
        "str1=''\n",
        "\n",
        "while True:\n",
        "  inp=input()\n",
        "  if inp=='STOP':\n",
        "    break\n",
        "  else:\n",
        "    lst=inp.split(\" \")            # 2 1 4 6 10\n",
        "                                      # 1  3 2 4 \n",
        "    for i in range(len(lst)):\n",
        "      if i==len(lst)-1:\n",
        "        break\n",
        "      else:\n",
        "        a=abs(int(lst[i])-int(lst[i+1]))\n",
        "        diff.append(a)\n",
        "        \n",
        "      counter=0  \n",
        "      for i in diff:\n",
        "        if i in range(1, len(lst)):\n",
        "          counter+=1\n",
        "    if counter==len(lst)-1:\n",
        "        str1+='Ub Jumper\\n'\n",
        "    else:\n",
        "        str1+='Not Ub Jumper\\n'\n",
        "    diff=[]    \n",
        "print(str1)        "
      ],
      "metadata": {
        "id": "h-QlusF3NWOD",
        "colab": {
          "base_uri": "https://localhost:8080/"
        },
        "outputId": "43be9b15-f0b0-4c48-ea40-f4f53f56ae96"
      },
      "execution_count": null,
      "outputs": [
        {
          "output_type": "stream",
          "name": "stdout",
          "text": [
            "1 4 2 3\n",
            "2 1 4 6 10\n",
            "1 4 2 -1 6\n",
            "STOP\n",
            "Ub Jumper\n",
            "Ub Jumper\n",
            "Not a Ub Jumper\n",
            "\n"
          ]
        }
      ]
    },
    {
      "cell_type": "code",
      "source": [
        "#task: 05\n",
        "\n",
        "user=input()\n",
        "n,k=user.split(\" \")\n",
        "info=input()\n",
        "myl=info.split(\" \")\n",
        "new=[]\n",
        "\n",
        "for i in myl:\n",
        "  new.append(int(i))\n",
        "count=0\n",
        "for j in new:\n",
        "  if (j+int(k))<=5:\n",
        "    count+=1\n",
        "team=count//3\n",
        "print(team)    \n"
      ],
      "metadata": {
        "colab": {
          "base_uri": "https://localhost:8080/"
        },
        "id": "vf4Nb-0tFgjj",
        "outputId": "790062df-e3b0-43f0-dc9d-d78542953b12"
      },
      "execution_count": null,
      "outputs": [
        {
          "output_type": "stream",
          "name": "stdout",
          "text": [
            "6 5\n",
            "0 0 0 0 0 0\n",
            "2\n"
          ]
        }
      ]
    },
    {
      "cell_type": "code",
      "source": [
        "#01\n",
        "d1={'a': 100, 'b': 100, 'c': 200, 'd': 300}\n",
        "d2={'a': 300, 'b': 200, 'd': 400, 'e': 200}\n",
        "\n",
        "d3={}\n",
        "\n",
        "for i,j in d1.items():\n",
        "  if i not in d3.keys():\n",
        "     d3[i]=j\n",
        "for x,y in d2.items():\n",
        "  if x not in d3.keys():\n",
        "    d3[x]=y\n",
        "  else:\n",
        "    d3[x]+=y\n",
        "print(d3)  \n",
        "         \n",
        "lst=[]\n",
        "\n",
        "for j in d3.values():\n",
        "  if j not in lst:\n",
        "     lst.append(j)\n",
        "\n",
        "lst.sort()\n",
        "print(tuple(lst))  \n",
        "\n",
        "\n"
      ],
      "metadata": {
        "id": "XY4FtbZY_EGb",
        "colab": {
          "base_uri": "https://localhost:8080/"
        },
        "outputId": "c41bfe25-830c-4b1f-d809-56f683eb3082"
      },
      "execution_count": null,
      "outputs": [
        {
          "output_type": "stream",
          "name": "stdout",
          "text": [
            "{'a': 400, 'b': 300, 'c': 200, 'd': 700, 'e': 200}\n",
            "(200, 300, 400, 700)\n"
          ]
        }
      ]
    },
    {
      "cell_type": "code",
      "source": [
        "#Dictionary 02:\n",
        "d1={}\n",
        "while True:\n",
        "  inp=input()\n",
        "  if inp=='STOP':\n",
        "    break\n",
        "  else:\n",
        "    if int(inp) not in d1.keys():\n",
        "      d1[int(inp)]=1\n",
        "    else:\n",
        "      d1[int(inp)]+=1\n",
        "\n",
        "for keys,values in d1.items():\n",
        "  print(f'{keys} - {values} times')     "
      ],
      "metadata": {
        "id": "zsR9HGKp-QfT",
        "colab": {
          "base_uri": "https://localhost:8080/"
        },
        "outputId": "7a69192d-9bc7-4c9c-e391-e4f1ba4de2ee"
      },
      "execution_count": null,
      "outputs": [
        {
          "output_type": "stream",
          "name": "stdout",
          "text": [
            "10\n",
            "20\n",
            "20\n",
            "30\n",
            "10\n",
            "50\n",
            "90\n",
            "STOP\n",
            "10 - 2 times\n",
            "20 - 2 times\n",
            "30 - 1 times\n",
            "50 - 1 times\n",
            "90 - 1 times\n"
          ]
        }
      ]
    },
    {
      "cell_type": "code",
      "source": [
        "#DICITONARY 03\n",
        "word = 'key1 : value1, key2 : value2, key3 : value1'\n",
        "dic1={}\n",
        "dic2={}\n",
        "lis1 = word.split(', ')\n",
        "for i in lis1:\n",
        "  lis2=i.split(' : ')\n",
        "  v , k = lis2\n",
        "  if k in dic2:\n",
        "    dic2[k].append(v)\n",
        "  else:\n",
        "    dic2[k] = [v]\n",
        "print(dic2)"
      ],
      "metadata": {
        "id": "2gMTc4Av5o87"
      },
      "execution_count": null,
      "outputs": []
    },
    {
      "cell_type": "code",
      "source": [
        "#DICITONARY 04\n",
        "word = 'Hello, World!'\n",
        "new = ''\n",
        "for i in word:\n",
        "  if 'a'<=i<='z':\n",
        "    new += chr(ord(i)-32)\n",
        "  else:\n",
        "    new += i\n",
        "num = ''\n",
        "dic = {1:'.,?!:',2:'ABC',3:'DEF',4:'GHI',5:'JKL',6:'MNO',7:'PQRS',8:'TUV',9:'WXYZ',0:' '}\n",
        "for i in new:\n",
        "  for j in dic:\n",
        "    #print(j)\n",
        "    if i in dic[j]:\n",
        "      flag = 1\n",
        "      for k in dic[j]:\n",
        "        if i == k:\n",
        "          num += flag * str(j)\n",
        "        else:\n",
        "          flag+=1\n",
        "print(num)"
      ],
      "metadata": {
        "colab": {
          "base_uri": "https://localhost:8080/"
        },
        "id": "g4Mi6T-WTCap",
        "outputId": "d22a9523-436f-4228-ac3d-2adc065154cd"
      },
      "execution_count": null,
      "outputs": [
        {
          "output_type": "stream",
          "name": "stdout",
          "text": [
            "4433555555666110966677755531111\n"
          ]
        }
      ]
    },
    {
      "cell_type": "code",
      "source": [
        "#Dicitonary 04\n",
        "a='Hello, World!'.upper()\n",
        "index=0\n",
        "d1={1:',.?!:',2:'ABC',3:'DEF',4:'GHI',5:'JKL',6:'MNO',7:'PQRS',8:'TUV',9:'WXYZ',0:' '}\n",
        "final=''\n",
        "for i in a:\n",
        "  for keys,values in d1.items():\n",
        "    if i in values:\n",
        "      key=keys\n",
        "      for j in range(len(values)):\n",
        "        if i==values[j]:\n",
        "          index=1+j\n",
        "          final+=str(keys)*index\n",
        "          break\n",
        "print(final)\n"
      ],
      "metadata": {
        "id": "Z-U4ZBJUzAS9",
        "colab": {
          "base_uri": "https://localhost:8080/"
        },
        "outputId": "fc865c3a-0cb9-4399-980c-2c74258db215"
      },
      "execution_count": null,
      "outputs": [
        {
          "output_type": "stream",
          "name": "stdout",
          "text": [
            "443355555566610966677755531111\n"
          ]
        }
      ]
    },
    {
      "cell_type": "code",
      "source": [
        "#extras\n",
        "\n",
        "string= 'Harry, 10234567'\n",
        "list1 = [['CSE111: 3.7', 'CSE260: 3.7', 'ENG101: 4.0'], 'Summer2020', ['CSE230: 4.0', 'CSE220: 4.0', 'MAT110: 4.0'], 'Summer2022']\n",
        "\n",
        "# Result of Harry with ID 10234567:\n",
        "# {'Summer2020': {('CSE111', 'CSE260', 'ENG101'): 3.8}, 'Summer2022': {('CSE230', 'CSE220', 'MAT110'): 4.0}}\n",
        "\n",
        "result={}\n",
        "\n",
        "for i in range(len(list1)):\n",
        "  if i%2==0:\n",
        "    list_course=[]\n",
        "    list_cgpa=[]\n",
        "    for j in list1[i]:\n",
        "      course,cgpa=j.split(\":\")\n",
        "      list_course.append(course)\n",
        "      list_cgpa.append(float(cgpa))\n",
        "    sum1=0\n",
        "\n",
        "    for x in list_cgpa:\n",
        "      sum1+=x\n",
        "    cgpa_sum=round(sum1/len(list_course),1)\n",
        "    one_semester={}\n",
        "    one_semester[tuple(list_course)]=cgpa_sum\n",
        "    result[list1[i+1]]=one_semester\n",
        "print(result)      \n"
      ],
      "metadata": {
        "id": "hxLXpJnuuHyN",
        "colab": {
          "base_uri": "https://localhost:8080/"
        },
        "outputId": "e827e9e0-8a57-45b9-c1ff-73906d6aff12"
      },
      "execution_count": null,
      "outputs": [
        {
          "output_type": "stream",
          "name": "stdout",
          "text": [
            "{'Summer2020': {('CSE111', 'CSE260', 'ENG101'): 3.8}, 'Summer2022': {('CSE230', 'CSE220', 'MAT110'): 4.0}}\n"
          ]
        }
      ]
    },
    {
      "cell_type": "code",
      "source": [
        "a='CSE110ISMYWAR2812'\n",
        "sum_letters=0\n",
        "sum_digits=0\n",
        "\n",
        "for i in a:\n",
        "  if i in '0123456789':\n",
        "    sum_digits+=ord(i)\n",
        "  else:\n",
        "    sum_letters+=ord(i)\n",
        "\n",
        "difference=(sum_letters-sum_digits)\n",
        "index=0\n",
        "\n",
        "for i in range(len(a)):\n",
        "  if a[i]=='A':\n",
        "    index=i\n",
        "\n",
        "print(difference%index)"
      ],
      "metadata": {
        "id": "YfrhKWwlcyGM"
      },
      "execution_count": null,
      "outputs": []
    },
    {
      "cell_type": "code",
      "source": [
        "# {'gmail': ['tom'], 'gsuite mail': ['harry', 'lisa'], 'brac mail': ['abc', 'xyz']}\n",
        "\n",
        "st='tom@gmail.com, harry@g.bracu.ac.bd, lisa@g.bracu.ac.bd, abc@bracu.ac.bd, xyz@bracu.ac.bd, bella@gmail.com'\n",
        "\n",
        "mail={}\n",
        "list1=st.split(', ')\n",
        "# print(list1)\n",
        "\n",
        "for i in list1:\n",
        "\n",
        "  name,email=i.split('@')\n",
        "  if email=='gmail.com' and 'gmail' not in mail:\n",
        "    mail['gmail']=[name]\n",
        "  elif email=='gmail.com':\n",
        "    mail['gmail'].append(name)\n",
        "  elif email=='g.bracu.ac.bd' and 'gsuite mail' not in mail:\n",
        "    mail['gsuite mail']=[name]\n",
        "  elif email=='g.bracu.ac.bd':\n",
        "    mail['gsuite mail'].append(name)\n",
        "  elif email=='bracu.ac.bd' and 'brac mail' not in mail:\n",
        "    mail['brac mail']=[name]  \n",
        "  elif email=='bracu.ac.bd':\n",
        "    mail['brac mail'].append(name)  \n",
        "\n",
        "print(mail)\n",
        "\n"
      ],
      "metadata": {
        "colab": {
          "base_uri": "https://localhost:8080/"
        },
        "id": "U9Usfc52a3oG",
        "outputId": "e01a4bd8-4ba9-4135-c467-0ab79a605c61"
      },
      "execution_count": null,
      "outputs": [
        {
          "output_type": "stream",
          "name": "stdout",
          "text": [
            "{'gmail': ['tom', 'bella'], 'gsuite mail': ['harry', 'lisa'], 'brac mail': ['abc', 'xyz']}\n"
          ]
        }
      ]
    }
  ]
}